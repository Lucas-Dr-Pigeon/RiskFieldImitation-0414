{
 "cells": [
  {
   "cell_type": "code",
   "execution_count": 1,
   "metadata": {},
   "outputs": [],
   "source": [
    "import random\n",
    "from collections import deque\n",
    "import torch\n",
    "from env import HighwayEnv, convert_highd_sample_to_gail_expert\n",
    "import numpy as np\n",
    "import pandas as pd\n",
    "from tqdm import tqdm, trange\n",
    "from buffer import HighwayEnvMemoryBuffer"
   ]
  },
  {
   "cell_type": "code",
   "execution_count": 2,
   "metadata": {},
   "outputs": [],
   "source": [
    "buffer = HighwayEnvMemoryBuffer(300)\n",
    "\n",
    "expert_data, df = convert_highd_sample_to_gail_expert(\n",
    "    sample_csv=r\"./data/26_sample_tracks.csv\",\n",
    "    meta_csv=r\"E:\\Data\\highd-dataset-v1.0\\data\\26_recordingMeta.csv\",\n",
    "    forward=False,\n",
    "    p_agent=0.90\n",
    ")"
   ]
  },
  {
   "cell_type": "code",
   "execution_count": 3,
   "metadata": {},
   "outputs": [],
   "source": [
    "NUM_STEPS = 300"
   ]
  },
  {
   "cell_type": "code",
   "execution_count": 4,
   "metadata": {},
   "outputs": [],
   "source": [
    "# Create the environment and set expert data.\n",
    "env = HighwayEnv(dt=0.2, T=50, generation_mode=False, demo_mode=True)\n",
    "# Uncomment and update the following line when expert_data is available:\n",
    "env.set_expert_data(expert_data)\n"
   ]
  },
  {
   "cell_type": "code",
   "execution_count": 5,
   "metadata": {},
   "outputs": [
    {
     "name": "stderr",
     "output_type": "stream",
     "text": [
      "100%|██████████| 300/300 [00:04<00:00, 70.14it/s]\n"
     ]
    }
   ],
   "source": [
    "# \n",
    "obs = env.reset() \n",
    "#\n",
    "for step in trange(NUM_STEPS):\n",
    "    # For demonstration, sample random actions for each vehicle slot.\n",
    "    # Action shape: (N_max, 2). Since have set DEMO_MODE=TRUE, the actions will be overwritten by the agents\n",
    "    action = torch.full((env.N_max, 2), 0.0)\n",
    "    # Step the environment: we get new observation, reward, done, and info.\n",
    "    next_obs, reward, done, info = env.step(action)\n",
    "\n",
    "    buffer.push(obs, action, reward, next_obs, done)\n"
   ]
  },
  {
   "cell_type": "code",
   "execution_count": 6,
   "metadata": {},
   "outputs": [],
   "source": [
    "obs, action, reward, next_obs, done = buffer.sample(64)"
   ]
  },
  {
   "cell_type": "code",
   "execution_count": 9,
   "metadata": {},
   "outputs": [
    {
     "data": {
      "text/plain": [
       "torch.Size([64, 50, 100, 7])"
      ]
     },
     "execution_count": 9,
     "metadata": {},
     "output_type": "execute_result"
    }
   ],
   "source": [
    "obs[0].shape"
   ]
  },
  {
   "cell_type": "code",
   "execution_count": 12,
   "metadata": {},
   "outputs": [
    {
     "data": {
      "text/plain": [
       "tensor([ 5.3700,  5.3700,  5.3700,  5.3700,  5.3700,  9.1250,  9.1250, 12.9250,\n",
       "         5.3700,  9.1250, 12.9250,  9.1250,  9.1250, 12.9250,  5.3700, 12.9250,\n",
       "         5.3700, 12.9250,  9.1250,  5.3700, 12.9250,  9.1250, 12.9250, 12.9250,\n",
       "         5.3700,  9.1250, 12.9250,  5.3700, 12.9250,  9.1250,  5.3700, 12.9250,\n",
       "         9.1250, 12.9250,  9.1250,     nan,     nan,     nan,     nan,     nan,\n",
       "            nan,     nan,     nan,     nan,     nan,     nan,     nan,     nan,\n",
       "            nan,     nan,     nan,     nan,     nan,     nan,     nan,     nan,\n",
       "            nan,     nan,     nan,     nan,     nan,     nan,     nan,     nan,\n",
       "            nan,     nan,     nan,     nan,     nan,     nan,     nan,     nan,\n",
       "            nan,     nan,     nan,     nan,     nan,     nan,     nan,     nan,\n",
       "            nan,     nan,     nan,     nan,     nan,     nan,     nan,     nan,\n",
       "            nan,     nan,     nan,     nan,     nan,     nan,     nan,     nan,\n",
       "            nan,     nan,     nan,     nan])"
      ]
     },
     "execution_count": 12,
     "metadata": {},
     "output_type": "execute_result"
    }
   ],
   "source": [
    "obs[0][52,-1][...,-1]"
   ]
  },
  {
   "cell_type": "code",
   "execution_count": null,
   "metadata": {},
   "outputs": [],
   "source": []
  },
  {
   "cell_type": "code",
   "execution_count": null,
   "metadata": {},
   "outputs": [],
   "source": []
  },
  {
   "cell_type": "code",
   "execution_count": 7,
   "metadata": {},
   "outputs": [],
   "source": [
    "batch = random.sample(buffer.buffer, 64)\n",
    "states, actions, rewards, next_states, dones = zip(*batch)"
   ]
  },
  {
   "cell_type": "code",
   "execution_count": 11,
   "metadata": {},
   "outputs": [],
   "source": [
    "state_keys=['time_dependent','time_independent', 'lane_markers', 'boundary_lines', 'agent_mask']"
   ]
  },
  {
   "cell_type": "code",
   "execution_count": 17,
   "metadata": {},
   "outputs": [
    {
     "data": {
      "text/plain": [
       "torch.Size([64, 2])"
      ]
     },
     "execution_count": 17,
     "metadata": {},
     "output_type": "execute_result"
    }
   ],
   "source": [
    "[ torch.stack([obs[key] for obs in states]) for key in state_keys ][2].shape"
   ]
  },
  {
   "cell_type": "code",
   "execution_count": null,
   "metadata": {},
   "outputs": [
    {
     "ename": "AttributeError",
     "evalue": "'tuple' object has no attribute 'shape'",
     "output_type": "error",
     "traceback": [
      "\u001b[1;31m---------------------------------------------------------------------------\u001b[0m",
      "\u001b[1;31mAttributeError\u001b[0m                            Traceback (most recent call last)",
      "Cell \u001b[1;32mIn[19], line 1\u001b[0m\n\u001b[1;32m----> 1\u001b[0m \u001b[43mactions\u001b[49m\u001b[38;5;241;43m.\u001b[39;49m\u001b[43mshape\u001b[49m\n",
      "\u001b[1;31mAttributeError\u001b[0m: 'tuple' object has no attribute 'shape'"
     ]
    }
   ],
   "source": [
    "actions"
   ]
  },
  {
   "cell_type": "code",
   "execution_count": null,
   "metadata": {},
   "outputs": [],
   "source": []
  },
  {
   "cell_type": "code",
   "execution_count": null,
   "metadata": {},
   "outputs": [],
   "source": []
  }
 ],
 "metadata": {
  "kernelspec": {
   "display_name": "deep",
   "language": "python",
   "name": "python3"
  },
  "language_info": {
   "codemirror_mode": {
    "name": "ipython",
    "version": 3
   },
   "file_extension": ".py",
   "mimetype": "text/x-python",
   "name": "python",
   "nbconvert_exporter": "python",
   "pygments_lexer": "ipython3",
   "version": "3.12.2"
  }
 },
 "nbformat": 4,
 "nbformat_minor": 2
}
