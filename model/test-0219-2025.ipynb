{
 "cells": [
  {
   "cell_type": "code",
   "execution_count": 1,
   "metadata": {},
   "outputs": [],
   "source": [
    "import numpy as np\n",
    "import torch\n",
    "import torch.nn.functional as F\n",
    "import torch.nn as nn\n",
    "import torch.optim as optim\n",
    "import os\n",
    "import pandas as pd\n",
    "from tqdm import tqdm, trange\n",
    "from collections import defaultdict\n",
    "import itertools\n",
    "import matplotlib.pyplot as plt\n",
    "from shapely import affinity\n",
    "from shapely.geometry import Polygon"
   ]
  },
  {
   "cell_type": "code",
   "execution_count": 2,
   "metadata": {},
   "outputs": [],
   "source": [
    "def get_processed_tensors(data, normalize=True):\n",
    "    # add direction attributes\n",
    "    vehicle_mean_speed = data.groupby(['ego_id','recording_id']).ego_xVel.transform('mean')\n",
    "    vehicle_abs_speed = vehicle_mean_speed.abs() \n",
    "    data['dir'] = vehicle_mean_speed / vehicle_abs_speed\n",
    "    # add lane changing attributes\n",
    "    ego_pre_lc = data.groupby(['ego_id','recording_id']).ego_pre_lc.transform('any')\n",
    "    ego_post_lc = data.groupby(['ego_id','recording_id']).ego_post_lc.transform('any')\n",
    "    ego_lc = ego_pre_lc | ego_post_lc\n",
    "    foe_pre_lc = data.groupby(['foe_id','recording_id']).foe_pre_lc.transform('any')\n",
    "    foe_post_lc = data.groupby(['foe_id','recording_id']).foe_post_lc.transform('any')\n",
    "    foe_lc = foe_pre_lc | foe_post_lc\n",
    "    data['ego_lc'] = ego_lc\n",
    "    data['foe_lc'] = foe_lc\n",
    "    ego_xVel = np.abs(data.ego_xVel.values)\n",
    "    ego_yVel = np.abs(data.ego_yVel.values) * data.dir.values\n",
    "    rel_xVel = -((data.ego_xVel - data.foe_xVel)*(data.ego_x - data.foe_x) / abs(data.ego_x - data.foe_x)).values\n",
    "    rel_yVel = -((data.ego_yVel - data.foe_yVel)*(data.ego_y - data.foe_y) / abs(data.ego_y - data.foe_y)).values\n",
    "    ego_lc = data.ego_lc\n",
    "    foe_lc = data.foe_lc\n",
    "    ego_class = data.ego_truck.values\n",
    "    foe_class = data.foe_truck.values\n",
    "    X = np.clip( abs(data.ego_x - data.foe_x) -  0.5*(data.ego_length + data.foe_length), a_min=0, a_max=None).values *((data.foe_x - data.ego_x) / abs(data.ego_x - data.foe_x)).values * data.dir.values\n",
    "    Y = np.clip( abs(data.ego_y - data.foe_y) -  0.5*(data.ego_width + data.foe_width), a_min=0, a_max=None).values *((data.foe_y - data.ego_y) / abs(data.ego_y - data.foe_y)).values * data.dir.values\n",
    "    np.nan_to_num(X, 0)\n",
    "    np.nan_to_num(Y, 0)\n",
    "    X = torch.Tensor(X).to('cuda').detach()\n",
    "    Y = torch.Tensor(Y).to('cuda').detach()\n",
    "    Input = np.array(\n",
    "    [\n",
    "        ego_xVel, ego_yVel, rel_xVel, rel_yVel, ego_lc, foe_lc, ego_class, foe_class\n",
    "    ]\n",
    "    ).T\n",
    "    np.nan_to_num(Input, 0)\n",
    "    Input = torch.Tensor(Input).to('cuda')\n",
    "    if normalize:\n",
    "        Input[:,0] = Input[:,0] / torch.quantile(Input[:,0], 0.95)\n",
    "        Input[:,1] = Input[:,1] / 1\n",
    "        Input[:,2] = Input[:,2] / 15\n",
    "        Input[:,3] = Input[:,3] / 1.25\n",
    "    dataset = torch.cat([Input, X.view(-1,1)], dim=1)\n",
    "    dataset = torch.cat([dataset, Y.view(-1,1)], dim=1)\n",
    "    _x = torch.Tensor( (data.foe_x - data.ego_x).values ).to('cuda')\n",
    "    _y = torch.Tensor( (data.foe_y - data.ego_y).values ).to('cuda')\n",
    "    dataset = torch.cat([dataset, _x.view(-1,1)], dim=1)\n",
    "    dataset = torch.cat([dataset, _y.view(-1,1)], dim=1)\n",
    "    return dataset"
   ]
  },
  {
   "cell_type": "code",
   "execution_count": 3,
   "metadata": {},
   "outputs": [
    {
     "name": "stdout",
     "output_type": "stream",
     "text": [
      "---- Reading raw data ----\n"
     ]
    },
    {
     "name": "stderr",
     "output_type": "stream",
     "text": [
      "100%|██████████| 60/60 [00:06<00:00,  9.74it/s]\n"
     ]
    },
    {
     "name": "stdout",
     "output_type": "stream",
     "text": [
      "---- Generating tensor ----\n"
     ]
    }
   ],
   "source": [
    "data_path = \"D:/Productivity/Projects/RiskFieldImitation-main/data\"\n",
    "print (f\"---- Reading raw data ----\")\n",
    "full_data = pd.concat([ pd.read_csv(f\"{data_path}/{r:02}_spacings_2.csv\",index_col=0) for r in trange(1,61)])\n",
    "print (f\"---- Generating tensor ----\")\n",
    "full_data = get_processed_tensors(full_data)"
   ]
  },
  {
   "cell_type": "code",
   "execution_count": 42,
   "metadata": {},
   "outputs": [],
   "source": [
    "def find_neighbors_batch(data, query_point, epsilon=0.2, search_dims=[0,1,2,3,4,6,], batch_size=10000, k=0):\n",
    "    \"\"\"\n",
    "    Find all points in 'data' within 'epsilon' distance of 'query_point' using brute-force search.\n",
    "    \"\"\"\n",
    "    num_samples = data.shape[0]\n",
    "    indices_list = [] \n",
    "    for i in range(0, num_samples, batch_size):\n",
    "        bound = i + batch_size if i+batch_size < num_samples else num_samples\n",
    "        batch = data[i:bound] \n",
    "        distances = torch.norm(batch[:,search_dims] - query_point[search_dims], dim=1)\n",
    "        mask = distances <= epsilon\n",
    "        found_indices = torch.nonzero(mask, as_tuple=True)[0] + i\n",
    "        indices_list.append(found_indices.to('cuda'))\n",
    "    indices = torch.cat(indices_list) if indices_list else torch.tensor([]).to('cuda')\n",
    "    return indices"
   ]
  },
  {
   "cell_type": "code",
   "execution_count": 43,
   "metadata": {},
   "outputs": [],
   "source": [
    "def loss_x(gx, gy, x, y, beta_x, beta_y):\n",
    "    gx_expanded = gx[:, None]\n",
    "    _exp = - (torch.abs(x / gx_expanded) ** beta_x) - (torch.abs(y / gy) ** beta_y)\n",
    "    l = torch.sum(torch.log(1 - torch.exp(_exp)), dim=1)\n",
    "    ux = torch.autograd.grad(l, gx,\n",
    "                        create_graph=True,\n",
    "                        allow_unused=True,\n",
    "                        grad_outputs=torch.ones_like(l)\n",
    "                        )[0]\n",
    "    uux = torch.autograd.grad(ux, gx,\n",
    "                        create_graph=True,\n",
    "                        allow_unused=True,\n",
    "                        grad_outputs=torch.ones_like(ux)\n",
    "                        )[0]\n",
    "    return gx[torch.argmin(uux)]\n",
    "\n",
    "def loss_y(gx, gy, x, y, beta_x, beta_y):\n",
    "    gy_expanded = gy[:, None]\n",
    "    _exp = - (torch.abs(x / gx) ** beta_x) - (torch.abs(y / gy_expanded) ** beta_y)\n",
    "    l = torch.sum(torch.log(1 - torch.exp(_exp)), dim=1)\n",
    "    uy = torch.autograd.grad(l, gy,\n",
    "                        create_graph=True,\n",
    "                        allow_unused=True,\n",
    "                        grad_outputs=torch.ones_like(l)\n",
    "                        )[0]\n",
    "    uuy = torch.autograd.grad(uy, gy,\n",
    "                        create_graph=True,\n",
    "                        allow_unused=True,\n",
    "                        grad_outputs=torch.ones_like(uy)\n",
    "                        )[0]\n",
    "    return gy[torch.argmin(uuy)]\n",
    "\n",
    "def numerical_search_gamma(x, y, max_step=int(1e4), gx_range=np.arange(0.1,100,0.1), gy_range=np.arange(0.1,5,0.1), beta_x=5, beta_y=5, init_gx=2, init_gy=2):\n",
    "    gx_range=torch.tensor(gx_range, requires_grad=True, device='cuda')\n",
    "    gy_range=torch.tensor(gy_range, requires_grad=True, device='cuda')\n",
    "    gx = init_gx\n",
    "    gy = init_gy\n",
    "    for it in trange(max_step):\n",
    "        # \n",
    "        prev_gx = gx\n",
    "        prev_gy = gy\n",
    "        # update gx\n",
    "        candidate_gx = loss_x(gx_range, gy, x, y, beta_x, beta_y)\n",
    "        gx = candidate_gx\n",
    "        # update gy\n",
    "        candidate_gy = loss_y(gx, gy_range, x, y, beta_x, beta_y)\n",
    "        gy = candidate_gy\n",
    "        if abs(gx-prev_gx)<0.1 and abs(gy-prev_gy)<0.1:\n",
    "            break\n",
    "    return gx, gy"
   ]
  },
  {
   "cell_type": "code",
   "execution_count": 44,
   "metadata": {},
   "outputs": [],
   "source": [
    "def plot_subjective_field(x, y, dim=[4.5, 1.7], gx=2, gy=2, bx=5, by=5, l=4.5, w=1.7):\n",
    "    def get_vehicle_shape(loc, dim, rad=0, use_radians=True):\n",
    "        x, y = loc\n",
    "        L, W = dim\n",
    "        x1, y1 = [x-L/2, y+W/2]\n",
    "        x2, y2 = [x+L/2, y+W/2]\n",
    "        x3, y3 = [x+L/2, y-W/2]\n",
    "        x4, y4 = [x-L/2, y-W/2]\n",
    "        vshape = ((x1,y1),(x2,y2),(x3,y3),(x4,y4))\n",
    "        #print (L,W)\n",
    "        vPolygon = Polygon(vshape)\n",
    "        vPolygon = affinity.rotate(vPolygon, rad, origin='center', use_radians=use_radians)\n",
    "        return vPolygon\n",
    "\n",
    "    fig = plt.figure(figsize=(4,10))\n",
    "    ax = fig.add_subplot(111)\n",
    "    ax.grid()\n",
    "    \n",
    "    \n",
    "    ax.scatter(y.cpu(), x.cpu(), color='black', s=0.1)\n",
    "    ax.set_xlim(-4.5,4.5)\n",
    "    ax.set_ylim(-80,80)\n",
    "    ax.set_aspect('equal', adjustable='box')\n",
    "    ax.tick_params(axis='x', labelsize=11)\n",
    "    ax.tick_params(axis='y', labelsize=11)\n",
    "\n",
    "    vp = get_vehicle_shape(loc=[0,0],dim=[w,l])\n",
    "    xs, ys = vp.exterior.xy\n",
    "    shape = ax.fill(xs, ys, 'red', alpha=0.95, ec='black')\n",
    "    dotx = np.arange(-5, 5, 0.2)\n",
    "    doty = np.arange(-80, 80, 0.2)\n",
    "    X, Y = np.meshgrid(dotx, doty)\n",
    "    # get ego state\n",
    "    Z = np.zeros(X.shape)\n",
    "\n",
    "    for i in trange(X.shape[0]):\n",
    "        for j in range(X.shape[1]):\n",
    "            _x = Y[i][j]\n",
    "            _y = X[i][j]\n",
    "            __x = (abs(_x) - (l/2 + dim[0]/2))*_x/abs(_x) if abs(_x)>(l/2 + dim[0]/2) else 0\n",
    "            __y = (abs(_y) - (w/2 + dim[1]/2))*_y/abs(_y) if abs(_y)>(w/2 + dim[1]/2) else 0\n",
    "            f = torch.exp(- (torch.abs(__x / gx) ** bx) - (torch.abs(__y / gy) ** by))\n",
    "            Z[i][j] = f\n",
    "\n",
    "    CS = ax.contour(X, Y, Z, [np.exp(-1)], colors=['red'], linewidths=2.00, linestyles='solid') \n",
    "    # plt.show()\n",
    "    # colormap = np.full(Z.shape, 'none')"
   ]
  },
  {
   "cell_type": "code",
   "execution_count": 45,
   "metadata": {},
   "outputs": [],
   "source": [
    "def longitudinal_gamma(gx, x, y, beta_x):\n",
    "    x = x[y==0] \n",
    "    _ = 0 if len(x) else print (\"No longitudinal samples found\")\n",
    "    gx_expanded = gx[:, None]\n",
    "    _exp = - (torch.abs(x / gx_expanded) ** beta_x) \n",
    "    l = torch.sum(torch.log(1 - torch.exp(_exp)), dim=1)\n",
    "    ux = torch.autograd.grad(l, gx,\n",
    "                        create_graph=True,\n",
    "                        allow_unused=True,\n",
    "                        grad_outputs=torch.ones_like(l)\n",
    "                        )[0]\n",
    "    uux = torch.autograd.grad(ux, gx,\n",
    "                        create_graph=True,\n",
    "                        allow_unused=True,\n",
    "                        grad_outputs=torch.ones_like(ux)\n",
    "                        )[0]\n",
    "    return gx[torch.argmin(uux)]"
   ]
  },
  {
   "cell_type": "code",
   "execution_count": null,
   "metadata": {},
   "outputs": [],
   "source": [
    "key = torch.where(full_data[:,3]>0.5)[0].cpu().numpy()[672]\n",
    "query_point = full_data[key]"
   ]
  },
  {
   "cell_type": "code",
   "execution_count": 638,
   "metadata": {},
   "outputs": [],
   "source": [
    "query_point = torch.tensor([1.2, 0.0, 0.4, 0, 1, 0, 0, 0], device='cuda')"
   ]
  },
  {
   "cell_type": "code",
   "execution_count": 639,
   "metadata": {},
   "outputs": [
    {
     "name": "stdout",
     "output_type": "stream",
     "text": [
      "---- ego speed x: 44.340003967285156 m/s ----\n",
      "---- ego speed y: 0.0 m/s ----\n",
      "---- relative speed x: 6.0 m/s ----\n",
      "---- relative speed y: 0.0 m/s ----\n",
      "---- ego lc: 1.0 ----\n",
      "---- foe lc: 0.0 ----\n",
      "---- ego truck: 0.0 ----\n",
      "---- foe truck: 0.0 ----\n"
     ]
    }
   ],
   "source": [
    "print (f\"---- ego speed x: {query_point[0]*36.9500} m/s ----\")\n",
    "print (f\"---- ego speed y: {query_point[1]*1} m/s ----\")\n",
    "print (f\"---- relative speed x: {query_point[2]*15} m/s ----\")\n",
    "print (f\"---- relative speed y: {query_point[3]*1.25} m/s ----\")\n",
    "print (f\"---- ego lc: {query_point[4]} ----\")\n",
    "print (f\"---- foe lc: {query_point[5]} ----\")\n",
    "print (f\"---- ego truck: {query_point[6]} ----\")\n",
    "print (f\"---- foe truck: {query_point[7]} ----\")"
   ]
  },
  {
   "cell_type": "code",
   "execution_count": 641,
   "metadata": {},
   "outputs": [
    {
     "name": "stdout",
     "output_type": "stream",
     "text": [
      "Found neighbors: 1109\n"
     ]
    }
   ],
   "source": [
    "indices = find_neighbors_batch(full_data, query_point, epsilon=0.2)\n",
    "indices = indices if len(indices)<3000 else np.random.choice(indices.cpu().numpy(), 3000)\n",
    "print (f\"Found neighbors: {len(indices)}\")"
   ]
  },
  {
   "cell_type": "code",
   "execution_count": 642,
   "metadata": {},
   "outputs": [],
   "source": [
    "ego_dim = [4.7, 1.7]\n",
    "foe_dim = [4.7, 1.7]"
   ]
  },
  {
   "cell_type": "code",
   "execution_count": 643,
   "metadata": {},
   "outputs": [],
   "source": [
    "neighbors = full_data[indices]"
   ]
  },
  {
   "cell_type": "code",
   "execution_count": 644,
   "metadata": {},
   "outputs": [
    {
     "data": {
      "text/plain": [
       "<matplotlib.legend.Legend at 0x1d4653b8bf0>"
      ]
     },
     "execution_count": 644,
     "metadata": {},
     "output_type": "execute_result"
    },
    {
     "data": {
      "image/png": "[encoded data removed]",
      "text/plain": [
       "<Figure size 640x480 with 1 Axes>"
      ]
     },
     "metadata": {},
     "output_type": "display_data"
    }
   ],
   "source": [
    "plt.scatter(neighbors[:,0].cpu(), neighbors[:,1].cpu(), color='blue', s=0.1, label='ego_local')\n",
    "plt.scatter(neighbors[:,2].cpu(), neighbors[:,3].cpu(), color='red', s=0.1, label='ego_foe_relative')\n",
    "plt.axhline(0, linestyle='dashed', color='black')\n",
    "plt.axvline(0, linestyle='dashed', color='black')\n",
    "plt.ylim(-2,2)\n",
    "plt.xlim(-2,2)\n",
    "plt.xlabel('x')\n",
    "plt.ylabel('y')\n",
    "plt.legend()"
   ]
  },
  {
   "cell_type": "code",
   "execution_count": 645,
   "metadata": {},
   "outputs": [
    {
     "data": {
      "image/png": "[encoded data removed]",
      "text/plain": [
       "<Figure size 640x480 with 1 Axes>"
      ]
     },
     "metadata": {},
     "output_type": "display_data"
    }
   ],
   "source": [
    "_x = neighbors[:,10] \n",
    "_y = neighbors[:,11] \n",
    "x = neighbors[:,8] \n",
    "y = neighbors[:,9] \n",
    "plt.scatter(_y.cpu(), _x.cpu(), color='black', s=0.01)\n",
    "plt.ylim(-50, 50)\n",
    "plt.xlim(-5, 5)\n",
    "plt.axhline(0, linestyle='dotted', color='grey')\n",
    "plt.axvline(0, linestyle='dotted', color='grey')\n",
    "ax = plt.gca()\n",
    "ax.set_aspect('equal', adjustable='box')"
   ]
  },
  {
   "cell_type": "code",
   "execution_count": 646,
   "metadata": {},
   "outputs": [
    {
     "name": "stderr",
     "output_type": "stream",
     "text": [
      "C:\\Users\\APT1807\\AppData\\Local\\Temp\\ipykernel_52728\\1606232854.py:1: UserWarning: To copy construct from a tensor, it is recommended to use sourceTensor.clone().detach() or sourceTensor.clone().detach().requires_grad_(True), rather than torch.tensor(sourceTensor).\n",
      "  gx_range = torch.tensor(torch.tensor(np.arange(0.1,100,0.1), requires_grad=True, device='cuda'), requires_grad=True, device='cuda')\n",
      "C:\\Users\\APT1807\\AppData\\Local\\Temp\\ipykernel_52728\\1606232854.py:2: UserWarning: To copy construct from a tensor, it is recommended to use sourceTensor.clone().detach() or sourceTensor.clone().detach().requires_grad_(True), rather than torch.tensor(sourceTensor).\n",
      "  gy_range = torch.tensor(torch.tensor(np.arange(0.1,5,0.1), requires_grad=True, device='cuda'), requires_grad=True, device='cuda')\n"
     ]
    },
    {
     "data": {
      "text/plain": [
       "tensor(33.3000, device='cuda:0', dtype=torch.float64,\n",
       "       grad_fn=<SelectBackward0>)"
      ]
     },
     "execution_count": 646,
     "metadata": {},
     "output_type": "execute_result"
    }
   ],
   "source": [
    "gx_range = torch.tensor(torch.tensor(np.arange(0.1,100,0.1), requires_grad=True, device='cuda'), requires_grad=True, device='cuda')\n",
    "gy_range = torch.tensor(torch.tensor(np.arange(0.1,5,0.1), requires_grad=True, device='cuda'), requires_grad=True, device='cuda')\n",
    "_gx = longitudinal_gamma(gx_range, x, y, 5)\n",
    "_gx"
   ]
  },
  {
   "cell_type": "code",
   "execution_count": 647,
   "metadata": {},
   "outputs": [
    {
     "data": {
      "text/plain": [
       "tensor(1.6000, device='cuda:0', dtype=torch.float64, grad_fn=<SelectBackward0>)"
      ]
     },
     "execution_count": 647,
     "metadata": {},
     "output_type": "execute_result"
    }
   ],
   "source": [
    "_gy = loss_y(_gx, gy_range, x, y, 5, 5)\n",
    "_gy"
   ]
  },
  {
   "cell_type": "code",
   "execution_count": 648,
   "metadata": {},
   "outputs": [
    {
     "name": "stderr",
     "output_type": "stream",
     "text": [
      "100%|██████████| 800/800 [00:04<00:00, 172.29it/s]\n"
     ]
    },
    {
     "data": {
      "image/png": "[encoded data removed]",
      "text/plain": [
       "<Figure size 400x1000 with 1 Axes>"
      ]
     },
     "metadata": {},
     "output_type": "display_data"
    }
   ],
   "source": [
    "plot_subjective_field(_x, _y, dim=[4.5, 1.7], gx=_gx, gy=_gy, bx=5, by=5, l=4.5, w=1.7)"
   ]
  },
  {
   "cell_type": "code",
   "execution_count": null,
   "metadata": {},
   "outputs": [],
   "source": []
  },
  {
   "cell_type": "code",
   "execution_count": null,
   "metadata": {},
   "outputs": [],
   "source": []
  },
  {
   "cell_type": "code",
   "execution_count": null,
   "metadata": {},
   "outputs": [],
   "source": []
  },
  {
   "cell_type": "code",
   "execution_count": 73,
   "metadata": {},
   "outputs": [
    {
     "data": {
      "text/plain": [
       "(array([0., 0., 0., 0., 0., 0., 0., 0., 0., 0., 0., 0., 0., 0., 0., 0., 0.,\n",
       "        0., 0., 0., 2., 4., 4., 2., 0., 2., 0., 0., 3., 2., 2., 0., 0., 0.,\n",
       "        0., 0., 0., 0., 0., 0., 0., 0., 0., 0., 0., 0., 0., 0., 0., 0., 0.,\n",
       "        0., 0., 0., 0., 0., 0., 0., 0., 0., 0., 0., 0., 0., 0., 0., 3., 5.,\n",
       "        6., 5., 8., 6., 4., 5., 4., 5., 5., 3., 2., 2., 0., 0., 0., 0., 0.,\n",
       "        0., 0., 0., 0., 0., 0., 0., 0., 0., 0., 0., 0., 0., 0.]),\n",
       " array([-5.00000000e+00, -4.90000000e+00, -4.80000000e+00, -4.70000000e+00,\n",
       "        -4.60000000e+00, -4.50000000e+00, -4.40000000e+00, -4.30000000e+00,\n",
       "        -4.20000000e+00, -4.10000000e+00, -4.00000000e+00, -3.90000000e+00,\n",
       "        -3.80000000e+00, -3.70000000e+00, -3.60000000e+00, -3.50000000e+00,\n",
       "        -3.40000000e+00, -3.30000000e+00, -3.20000000e+00, -3.10000000e+00,\n",
       "        -3.00000000e+00, -2.90000000e+00, -2.80000000e+00, -2.70000000e+00,\n",
       "        -2.60000000e+00, -2.50000000e+00, -2.40000000e+00, -2.30000000e+00,\n",
       "        -2.20000000e+00, -2.10000000e+00, -2.00000000e+00, -1.90000000e+00,\n",
       "        -1.80000000e+00, -1.70000000e+00, -1.60000000e+00, -1.50000000e+00,\n",
       "        -1.40000000e+00, -1.30000000e+00, -1.20000000e+00, -1.10000000e+00,\n",
       "        -1.00000000e+00, -9.00000000e-01, -8.00000000e-01, -7.00000000e-01,\n",
       "        -6.00000000e-01, -5.00000000e-01, -4.00000000e-01, -3.00000000e-01,\n",
       "        -2.00000000e-01, -1.00000000e-01, -1.77635684e-14,  1.00000000e-01,\n",
       "         2.00000000e-01,  3.00000000e-01,  4.00000000e-01,  5.00000000e-01,\n",
       "         6.00000000e-01,  7.00000000e-01,  8.00000000e-01,  9.00000000e-01,\n",
       "         1.00000000e+00,  1.10000000e+00,  1.20000000e+00,  1.30000000e+00,\n",
       "         1.40000000e+00,  1.50000000e+00,  1.60000000e+00,  1.70000000e+00,\n",
       "         1.80000000e+00,  1.90000000e+00,  2.00000000e+00,  2.10000000e+00,\n",
       "         2.20000000e+00,  2.30000000e+00,  2.40000000e+00,  2.50000000e+00,\n",
       "         2.60000000e+00,  2.70000000e+00,  2.80000000e+00,  2.90000000e+00,\n",
       "         3.00000000e+00,  3.10000000e+00,  3.20000000e+00,  3.30000000e+00,\n",
       "         3.40000000e+00,  3.50000000e+00,  3.60000000e+00,  3.70000000e+00,\n",
       "         3.80000000e+00,  3.90000000e+00,  4.00000000e+00,  4.10000000e+00,\n",
       "         4.20000000e+00,  4.30000000e+00,  4.40000000e+00,  4.50000000e+00,\n",
       "         4.60000000e+00,  4.70000000e+00,  4.80000000e+00,  4.90000000e+00]),\n",
       " <BarContainer object of 99 artists>)"
      ]
     },
     "execution_count": 73,
     "metadata": {},
     "output_type": "execute_result"
    },
    {
     "data": {
      "image/png": "[encoded data removed]",
      "text/plain": [
       "<Figure size 640x480 with 1 Axes>"
      ]
     },
     "metadata": {},
     "output_type": "display_data"
    }
   ],
   "source": [
    "ys = neighbors[abs(neighbors[:,8]==0)][:,9]\n",
    "plt.hist(ys.cpu(), bins=np.arange(-5,5,0.1))"
   ]
  },
  {
   "cell_type": "code",
   "execution_count": 74,
   "metadata": {},
   "outputs": [
    {
     "data": {
      "text/plain": [
       "(array([16., 11., 12., 21., 21., 13.,  8., 13.,  9., 11.,  6.,  7.,  5.,\n",
       "         9., 11.,  9., 11., 19.,  9., 10., 18., 24., 13., 15., 20., 18.,\n",
       "        15., 10., 10., 10.,  9., 20., 16., 14., 18., 19., 21., 19., 20.,\n",
       "        15., 14., 21., 12.,  9.,  9., 21., 12., 20., 26., 26., 18., 31.,\n",
       "        18., 24., 19., 13., 20., 23., 18., 16., 13., 18., 23., 12.,  3.,\n",
       "         3.,  1.,  4.,  3.,  3.,  0.,  0.,  1.,  1.,  0.,  0.,  0.,  0.,\n",
       "         0.,  0.,  0.,  0.,  0.,  0.,  0.,  0.,  0.,  0.,  0.,  0.,  1.,\n",
       "         3.,  1.,  0.,  0.,  1.,  6.,  9.,  4.,  5.,  7.,  6.,  3.,  9.,\n",
       "         5., 11.,  8., 13., 19., 15., 20., 13., 13., 15.,  8., 13.,  8.,\n",
       "         6.,  8.,  8.,  1., 10.,  7., 19.,  6.,  5.,  2.,  6.,  6.,  9.,\n",
       "         6.,  5.,  5.,  3.,  8.,  6.,  6.,  3.,  5., 10.,  6.,  9., 10.,\n",
       "         5.,  9.,  5.,  3.,  0.,  0.,  2.,  5.,  6.,  3.,  3.,  7., 10.,\n",
       "         9.,  6.,  5.]),\n",
       " array([-80., -79., -78., -77., -76., -75., -74., -73., -72., -71., -70.,\n",
       "        -69., -68., -67., -66., -65., -64., -63., -62., -61., -60., -59.,\n",
       "        -58., -57., -56., -55., -54., -53., -52., -51., -50., -49., -48.,\n",
       "        -47., -46., -45., -44., -43., -42., -41., -40., -39., -38., -37.,\n",
       "        -36., -35., -34., -33., -32., -31., -30., -29., -28., -27., -26.,\n",
       "        -25., -24., -23., -22., -21., -20., -19., -18., -17., -16., -15.,\n",
       "        -14., -13., -12., -11., -10.,  -9.,  -8.,  -7.,  -6.,  -5.,  -4.,\n",
       "         -3.,  -2.,  -1.,   0.,   1.,   2.,   3.,   4.,   5.,   6.,   7.,\n",
       "          8.,   9.,  10.,  11.,  12.,  13.,  14.,  15.,  16.,  17.,  18.,\n",
       "         19.,  20.,  21.,  22.,  23.,  24.,  25.,  26.,  27.,  28.,  29.,\n",
       "         30.,  31.,  32.,  33.,  34.,  35.,  36.,  37.,  38.,  39.,  40.,\n",
       "         41.,  42.,  43.,  44.,  45.,  46.,  47.,  48.,  49.,  50.,  51.,\n",
       "         52.,  53.,  54.,  55.,  56.,  57.,  58.,  59.,  60.,  61.,  62.,\n",
       "         63.,  64.,  65.,  66.,  67.,  68.,  69.,  70.,  71.,  72.,  73.,\n",
       "         74.,  75.,  76.,  77.,  78.,  79.]),\n",
       " <BarContainer object of 159 artists>)"
      ]
     },
     "execution_count": 74,
     "metadata": {},
     "output_type": "execute_result"
    },
    {
     "data": {
      "image/png": "[encoded data removed]",
      "text/plain": [
       "<Figure size 640x480 with 1 Axes>"
      ]
     },
     "metadata": {},
     "output_type": "display_data"
    }
   ],
   "source": [
    "xs = neighbors[(neighbors[:,9]==0)][:,8]\n",
    "plt.hist(xs.cpu(), bins=np.arange(-80,80,1))"
   ]
  },
  {
   "cell_type": "code",
   "execution_count": null,
   "metadata": {},
   "outputs": [],
   "source": []
  },
  {
   "cell_type": "code",
   "execution_count": null,
   "metadata": {},
   "outputs": [],
   "source": []
  },
  {
   "cell_type": "code",
   "execution_count": null,
   "metadata": {},
   "outputs": [
    {
     "data": {
      "text/plain": [
       "tensor([  19852,   19853,   19854,   19855,   19856,   19857,   34251,   34252,\n",
       "          34253,   44308,   44309,   50988,   50989,   50990,   50991,   50992,\n",
       "          50993,   50994,   78918,   78919,   78920,   78921,   78922,  121264,\n",
       "         121266,  121268,  121270,  121272,  121274,  121306,  121308,  121310,\n",
       "         121312,  121314,  121316,  121318,  121320,  121322,  121324,  121326,\n",
       "         121328,  121330,  128666,  128667,  128668,  128669,  224684,  224685,\n",
       "         263920,  263923,  452587,  452589,  452591,  452593,  469592,  469593,\n",
       "         469594,  469595, 1077051, 1098893, 1098894, 1098895, 1177389, 1177391,\n",
       "        1177393, 1177406, 1189312, 1308016, 1308017, 1340025, 1340026, 1340027,\n",
       "        1356166, 1356167, 1356168, 1356169, 1394602, 1408698, 1408699, 1445697,\n",
       "        1546445, 1546447, 1546449, 1546451, 1546452, 1546454, 1546455, 1546457,\n",
       "        1546458, 1546460, 1546461, 1546463, 1546464, 1546467, 1546469, 1546470,\n",
       "        1546474, 1546476, 1546478, 1546480, 1546482, 1602443, 1602445, 1602447,\n",
       "        2307804, 2307806, 2307808, 2307810, 2307812, 2373912, 2373913, 2373914,\n",
       "        2400300, 2400301, 2700690, 2700693, 2700696, 2700699, 2714738, 2743753,\n",
       "        2763079, 2763081, 2763083, 2763085, 2763087, 2763089, 2763091, 2763093,\n",
       "        2763095, 2763097, 2763099, 2763101, 2763103, 2828582, 2828583, 2886670,\n",
       "        2886671, 2886672, 2886673, 2886674, 2886675, 2902934, 2902936, 2902938,\n",
       "        2902940, 2902952, 2902954, 2907612, 2907614, 2907615, 2907616, 2907617,\n",
       "        2907618, 2907623, 2907624, 2907625, 2919610, 2919611, 2984582, 2984585,\n",
       "        2984588, 2984591, 2984594, 2984597, 2999017, 2999018, 3008168, 3008169,\n",
       "        3041628, 3041630, 3064990, 3064991, 3064992, 3064993, 3064994, 3064995,\n",
       "        3084338, 3084340, 3084342, 3084344, 3129967, 3129968, 3171149, 3171151,\n",
       "        3171153, 3171155, 3171157, 3204306, 3204308, 3204310, 3204312, 3204314,\n",
       "        3204316, 3204318, 3204320, 3204322, 3204324, 3204326, 3204328, 3204330,\n",
       "        3204394, 3370384, 3442336, 3442337, 3446393, 3446395, 3540310, 3540312,\n",
       "        3540334, 3540337, 3540340, 3540343, 3540346, 3540349, 3540352, 3540355,\n",
       "        3540358, 3540361, 3540364, 3540367, 3540370, 3540373, 3540376, 3540379,\n",
       "        3540382, 3540385, 3540388, 3623376, 3645282, 3645284, 3645286, 3771501,\n",
       "        3771503, 3771505, 3807684, 3952977, 3952978, 3992069, 3992071, 4037987,\n",
       "        4037990, 4068224, 4249675, 4249677, 4249679, 4249681, 4249683, 4249685,\n",
       "        4249687, 4249689, 4258380, 4258381, 4258382, 4258383, 4271860, 4271861,\n",
       "        4281123, 4281125, 4281127, 4341651, 4341654, 4341657, 4341660, 4341663,\n",
       "        4341666, 4341669, 4387903, 4387904, 4387905, 4387906, 4458902, 4458903,\n",
       "        4458904, 4536779, 4536781, 4537152, 4537154, 4565871, 4565875, 4595329,\n",
       "        4595331, 4595333, 4595335, 4595337, 4595339, 4595341, 4595343, 4595345,\n",
       "        4595351, 4595353, 4595355, 4595357, 4595359, 4624524, 4624527, 4652574,\n",
       "        4674277, 4674278, 4674288, 4674290, 4788163, 4788165, 4788167, 4788169,\n",
       "        4890024, 4890027, 4920616, 4937892, 5046100, 5046101, 5046102, 5046104,\n",
       "        5046106, 5046108, 5049914, 5049916, 5049918, 5049920, 5049922, 5049924,\n",
       "        5049926, 5049928, 5049930, 5049932, 5163800, 5163801, 5300398, 5300400,\n",
       "        5300402, 5300404, 5300406, 5304220, 5304221, 5304222, 5310915, 5310916,\n",
       "        5453704, 5536746, 5536753, 5536754, 5536755, 5702376, 5702377, 5702378,\n",
       "        5702379, 5702380, 5702381, 5702382, 5702383, 5784271, 5798457, 5863923,\n",
       "        5876191, 5876194, 5876197, 5876200, 5876203, 5876206, 5876209, 5933795,\n",
       "        5933796, 5933797, 5933798, 5950012, 5950015, 5955380, 6045189, 6045190,\n",
       "        6045191, 6045192, 6045193, 6079242, 6105781, 6105782, 6105783, 6105784,\n",
       "        6105785, 6157250, 6157251, 6157252, 6157253, 6157254, 6157255, 6157256,\n",
       "        6157274, 6200737, 6200739, 6200741, 6223800, 6236207, 6236209, 6236211,\n",
       "        6237300, 6237301, 6237302, 6237303, 6237304, 6237305, 6237306, 6237307,\n",
       "        6237308, 6237309, 6306133, 6306134, 6306135, 6306136, 6306150, 6306151,\n",
       "        6306152, 6405748, 6414519, 6414521, 6414523, 6414525, 6414527, 6435503,\n",
       "        6435505, 6435507, 6435509], device='cuda:0')"
      ]
     },
     "execution_count": 14,
     "metadata": {},
     "output_type": "execute_result"
    }
   ],
   "source": []
  },
  {
   "cell_type": "code",
   "execution_count": null,
   "metadata": {},
   "outputs": [],
   "source": []
  },
  {
   "cell_type": "code",
   "execution_count": null,
   "metadata": {},
   "outputs": [],
   "source": []
  },
  {
   "cell_type": "code",
   "execution_count": null,
   "metadata": {},
   "outputs": [],
   "source": []
  },
  {
   "cell_type": "code",
   "execution_count": 67,
   "metadata": {},
   "outputs": [],
   "source": [
    "\n",
    "def remove_similar_data(data, epsilon=0.1):\n",
    "    \"\"\"\n",
    "    Remove similar data points by keeping only one representative per group.\n",
    "    \n",
    "    Args:\n",
    "        data (torch.Tensor): (N, D) tensor of data points.\n",
    "        epsilon (float): Distance threshold to consider points as similar.\n",
    "\n",
    "    Returns:\n",
    "        torch.Tensor: Filtered tensor with reduced similar points.\n",
    "    \"\"\"\n",
    "    device = data.device  # Ensure we work on the correct device\n",
    "    remaining_indices = torch.arange(data.shape[0], device=device)  # Track remaining indices\n",
    "    selected_points = []  # Store filtered points\n",
    "\n",
    "    # Use tqdm for a progress bar\n",
    "    with tqdm(total=data.shape[0], desc=\"Processing\", unit=\"samples\") as pbar:\n",
    "        while remaining_indices.numel() > 0:\n",
    "            ref_idx = remaining_indices[0]  # Take the first available index\n",
    "            ref_point = data[ref_idx].unsqueeze(0)  # Reshape for broadcasting\n",
    "            selected_points.append(ref_point.squeeze(0))  # Keep the reference point\n",
    "\n",
    "            # Compute distances between the reference point and remaining points\n",
    "            distances = torch.norm(data[remaining_indices] - ref_point, dim=1)\n",
    "\n",
    "            # Keep only points that are farther than epsilon\n",
    "            mask = distances >= epsilon\n",
    "            remaining_indices = remaining_indices[mask]  # Filter indices\n",
    "\n",
    "            # Update progress bar\n",
    "            pbar.update(len(data) - len(remaining_indices))\n",
    "\n",
    "    return torch.stack(selected_points)\n",
    "\n"
   ]
  },
  {
   "cell_type": "code",
   "execution_count": 71,
   "metadata": {},
   "outputs": [],
   "source": [
    "_data = data\n",
    "norm_x = 20\n",
    "norm_y = 5\n",
    "_data[:,8] = _data[:,8]/norm_x\n",
    "_data[:,9] = _data[:,9]/norm_y"
   ]
  },
  {
   "cell_type": "code",
   "execution_count": 87,
   "metadata": {},
   "outputs": [
    {
     "data": {
      "text/plain": [
       "405859"
      ]
     },
     "execution_count": 87,
     "metadata": {},
     "output_type": "execute_result"
    }
   ],
   "source": [
    "len(data[data[:,1]==0])"
   ]
  },
  {
   "cell_type": "code",
   "execution_count": 69,
   "metadata": {},
   "outputs": [
    {
     "name": "stderr",
     "output_type": "stream",
     "text": [
      "Processing: 42962513607samples [02:08, 333566756.97samples/s]                  \n"
     ]
    },
    {
     "ename": "KeyboardInterrupt",
     "evalue": "",
     "output_type": "error",
     "traceback": [
      "\u001b[1;31m---------------------------------------------------------------------------\u001b[0m",
      "\u001b[1;31mKeyboardInterrupt\u001b[0m                         Traceback (most recent call last)",
      "Cell \u001b[1;32mIn[69], line 1\u001b[0m\n\u001b[1;32m----> 1\u001b[0m reduced_data \u001b[38;5;241m=\u001b[39m torch\u001b[38;5;241m.\u001b[39mstack(\u001b[38;5;28mlist\u001b[39m(remove_similar_data(_data, epsilon\u001b[38;5;241m=\u001b[39m\u001b[38;5;241m0.1\u001b[39m)))\n",
      "Cell \u001b[1;32mIn[67], line 31\u001b[0m, in \u001b[0;36mremove_similar_data\u001b[1;34m(data, epsilon)\u001b[0m\n\u001b[0;32m     28\u001b[0m         remaining_indices \u001b[38;5;241m=\u001b[39m remaining_indices[mask]  \u001b[38;5;66;03m# Filter indices\u001b[39;00m\n\u001b[0;32m     30\u001b[0m         \u001b[38;5;66;03m# Update progress bar\u001b[39;00m\n\u001b[1;32m---> 31\u001b[0m         pbar\u001b[38;5;241m.\u001b[39mupdate(\u001b[38;5;28mlen\u001b[39m(data) \u001b[38;5;241m-\u001b[39m \u001b[38;5;28mlen\u001b[39m(remaining_indices))\n\u001b[0;32m     33\u001b[0m \u001b[38;5;28;01mreturn\u001b[39;00m torch\u001b[38;5;241m.\u001b[39mstack(selected_points)\n",
      "File \u001b[1;32mc:\\Anaconda\\envs\\field\\Lib\\site-packages\\torch\\_tensor.py:1128\u001b[0m, in \u001b[0;36mTensor.__len__\u001b[1;34m(self)\u001b[0m\n\u001b[0;32m   1125\u001b[0m \u001b[38;5;21m__neg__\u001b[39m \u001b[38;5;241m=\u001b[39m _C\u001b[38;5;241m.\u001b[39mTensorBase\u001b[38;5;241m.\u001b[39mneg\n\u001b[0;32m   1126\u001b[0m \u001b[38;5;21m__abs__\u001b[39m \u001b[38;5;241m=\u001b[39m _C\u001b[38;5;241m.\u001b[39mTensorBase\u001b[38;5;241m.\u001b[39mabs\n\u001b[1;32m-> 1128\u001b[0m \u001b[38;5;28;01mdef\u001b[39;00m \u001b[38;5;21m__len__\u001b[39m(\u001b[38;5;28mself\u001b[39m):\n\u001b[0;32m   1129\u001b[0m     \u001b[38;5;28;01mif\u001b[39;00m has_torch_function_unary(\u001b[38;5;28mself\u001b[39m):\n\u001b[0;32m   1130\u001b[0m         \u001b[38;5;28;01mreturn\u001b[39;00m handle_torch_function(Tensor\u001b[38;5;241m.\u001b[39m\u001b[38;5;21m__len__\u001b[39m, (\u001b[38;5;28mself\u001b[39m,), \u001b[38;5;28mself\u001b[39m)\n",
      "\u001b[1;31mKeyboardInterrupt\u001b[0m: "
     ]
    }
   ],
   "source": [
    "reduced_data = torch.stack(list(remove_similar_data(_data, epsilon=0.1)))"
   ]
  },
  {
   "cell_type": "code",
   "execution_count": 54,
   "metadata": {},
   "outputs": [],
   "source": [
    "data = reduced_data"
   ]
  },
  {
   "cell_type": "code",
   "execution_count": null,
   "metadata": {},
   "outputs": [],
   "source": []
  },
  {
   "cell_type": "code",
   "execution_count": 182,
   "metadata": {},
   "outputs": [],
   "source": [
    "data = torch.load(r\"D:\\Productivity\\Projects\\RiskFieldImitation-main\\data\\reduced_data\").to('cuda')"
   ]
  },
  {
   "cell_type": "code",
   "execution_count": 130,
   "metadata": {},
   "outputs": [
    {
     "name": "stderr",
     "output_type": "stream",
     "text": [
      "  4%|▍         | 45615/1208443 [00:02<01:11, 16324.40it/s]\n"
     ]
    },
    {
     "ename": "KeyboardInterrupt",
     "evalue": "",
     "output_type": "error",
     "traceback": [
      "\u001b[1;31m---------------------------------------------------------------------------\u001b[0m",
      "\u001b[1;31mKeyboardInterrupt\u001b[0m                         Traceback (most recent call last)",
      "Cell \u001b[1;32mIn[130], line 8\u001b[0m\n\u001b[0;32m      6\u001b[0m bin_indices \u001b[38;5;241m=\u001b[39m torch\u001b[38;5;241m.\u001b[39mfloor(data[:, feature_dims] \u001b[38;5;241m/\u001b[39m interval)\u001b[38;5;241m.\u001b[39mint()  \u001b[38;5;66;03m# Convert to integer bins\u001b[39;00m\n\u001b[0;32m      7\u001b[0m \u001b[38;5;66;03m# Convert to tuples to use as dictionary keys\u001b[39;00m\n\u001b[1;32m----> 8\u001b[0m bin_keys \u001b[38;5;241m=\u001b[39m [\u001b[38;5;28mtuple\u001b[39m(row\u001b[38;5;241m.\u001b[39mtolist()) \u001b[38;5;28;01mfor\u001b[39;00m row \u001b[38;5;129;01min\u001b[39;00m tqdm(bin_indices)]\n\u001b[0;32m      9\u001b[0m \u001b[38;5;66;03m# Create a dictionary to store groups\u001b[39;00m\n\u001b[0;32m     10\u001b[0m grouped_data \u001b[38;5;241m=\u001b[39m defaultdict(\u001b[38;5;28mlist\u001b[39m)\n",
      "\u001b[1;31mKeyboardInterrupt\u001b[0m: "
     ]
    }
   ],
   "source": [
    "# Define bin interval\n",
    "interval = 0.1\n",
    "# Define the feature dimensions to calculate the similarity\n",
    "feature_dims = [0,1,2,3,4,5,6,7]\n",
    "# Compute bin indices for the first 8 dimensions\n",
    "bin_indices = torch.floor(data[:, feature_dims] / interval).int()  # Convert to integer bins\n",
    "# Convert to tuples to use as dictionary keys\n",
    "bin_keys = [tuple(row.tolist()) for row in tqdm(bin_indices)]\n",
    "# Create a dictionary to store groups\n",
    "grouped_data = defaultdict(list)\n",
    "# Group indices based on bin keys\n",
    "for idx, key in enumerate(tqdm(bin_keys)):\n",
    "    grouped_data[key].append(idx)\n",
    "# Convert lists to tensors for efficient access\n",
    "grouped_data = {k: torch.tensor(v, dtype=torch.long) for k, v in tqdm(grouped_data.items())}\n"
   ]
  },
  {
   "cell_type": "code",
   "execution_count": 166,
   "metadata": {},
   "outputs": [],
   "source": [
    "def find_neighbors_batch(data, query_point, epsilons=[0.1,0.15], mu=100, search_dims=[0,1,2,3,4,6,7], batch_size=10000, k=0):\n",
    "    \"\"\"\n",
    "    Find all points in 'data' within 'epsilon' distance of 'query_point' using brute-force search.\n",
    "    \"\"\"\n",
    "    num_samples = data.shape[0]\n",
    "    indices_list = [] \n",
    "    for i in range(0, num_samples, batch_size):\n",
    "        bound = i + batch_size if i+batch_size < num_samples else num_samples\n",
    "        batch = data[i:bound] \n",
    "        distances = torch.norm(batch[:,search_dims] - query_point[search_dims], dim=1)\n",
    "        mask = distances <= epsilons[k]\n",
    "        found_indices = torch.nonzero(mask, as_tuple=True)[0] + i\n",
    "        indices_list.append(found_indices.to('cuda'))\n",
    "    indices = torch.cat(indices_list) if indices_list else torch.tensor([]).to('cuda')\n",
    "    # _k = k+1\n",
    "    # print (epsilons[k])\n",
    "    # if len(indices)<mu and _k<len(epsilons):\n",
    "    #     indices = find_neighbors_batch(data, query_point, epsilons=epsilons, mu=mu, search_dims=search_dims, batch_size=batch_size, k=_k)\n",
    "    return indices\n",
    "    "
   ]
  },
  {
   "cell_type": "code",
   "execution_count": 177,
   "metadata": {},
   "outputs": [],
   "source": [
    "idx = 92483\n",
    "query_point = data[idx]\n",
    "indices = find_neighbors_batch(data=data, query_point=query_point, batch_size=len(data))"
   ]
  },
  {
   "cell_type": "code",
   "execution_count": 172,
   "metadata": {},
   "outputs": [],
   "source": [
    "idx = 92483\n",
    "query_point = data[idx]\n",
    "indices = find_neighbors_batch(data=full_data, query_point=query_point, batch_size=len(data))"
   ]
  },
  {
   "cell_type": "code",
   "execution_count": 178,
   "metadata": {},
   "outputs": [
    {
     "data": {
      "text/plain": [
       "tensor([ 0.6032, -0.0100,  0.5616, -0.4600,  0.0000,  1.0000,  0.0000,  0.0000,\n",
       "        -3.3295, -0.1460], device='cuda:0')"
      ]
     },
     "execution_count": 178,
     "metadata": {},
     "output_type": "execute_result"
    }
   ],
   "source": [
    "query_point"
   ]
  },
  {
   "cell_type": "code",
   "execution_count": 179,
   "metadata": {},
   "outputs": [],
   "source": [
    "neighbors = data[indices]\n",
    "neighbor_x = neighbors[:,8]*20\n",
    "neighbor_y = neighbors[:,9]*5"
   ]
  },
  {
   "cell_type": "code",
   "execution_count": 180,
   "metadata": {},
   "outputs": [
    {
     "data": {
      "image/png": "[encoded data removed]",
      "text/plain": [
       "<Figure size 640x480 with 1 Axes>"
      ]
     },
     "metadata": {},
     "output_type": "display_data"
    }
   ],
   "source": [
    "plt.scatter(neighbor_y.cpu(), neighbor_x.cpu(), color='black', s=1)\n",
    "plt.ylim(-100, 100)\n",
    "plt.xlim(-6, 6)\n",
    "plt.axhline(0, linestyle='dotted', color='grey')\n",
    "plt.axvline(0, linestyle='dotted', color='grey')\n",
    "ax = plt.gca()\n",
    "ax.set_aspect('equal', adjustable='box')"
   ]
  },
  {
   "cell_type": "code",
   "execution_count": null,
   "metadata": {},
   "outputs": [],
   "source": []
  },
  {
   "cell_type": "code",
   "execution_count": 184,
   "metadata": {},
   "outputs": [
    {
     "name": "stderr",
     "output_type": "stream",
     "text": [
      "100%|██████████| 1208443/1208443 [06:31<00:00, 3090.31it/s]\n"
     ]
    }
   ],
   "source": [
    "neighbor_indices = [ find_neighbors_batch(data, data[k], batch_size=100000000) for k in trange(len(data))  ]"
   ]
  },
  {
   "cell_type": "code",
   "execution_count": 198,
   "metadata": {},
   "outputs": [],
   "source": [
    "torch.save(neighbor_indices, 'D:/Productivity/Projects/RiskFieldImitation-main/data/reduced_neighbor_indices')"
   ]
  },
  {
   "cell_type": "code",
   "execution_count": 191,
   "metadata": {},
   "outputs": [
    {
     "data": {
      "text/plain": [
       "1283"
      ]
     },
     "execution_count": 191,
     "metadata": {},
     "output_type": "execute_result"
    }
   ],
   "source": [
    "len(neighbor_indices[8874])"
   ]
  },
  {
   "cell_type": "code",
   "execution_count": 195,
   "metadata": {},
   "outputs": [
    {
     "data": {
      "image/png": "[encoded data removed]",
      "text/plain": [
       "<Figure size 640x480 with 1 Axes>"
      ]
     },
     "metadata": {},
     "output_type": "display_data"
    }
   ],
   "source": [
    "idx = 8874\n",
    "neighbors = data[neighbor_indices[idx]]\n",
    "neighbor_x = neighbors[:,8]*20\n",
    "neighbor_y = neighbors[:,9]*5\n",
    "plt.scatter(neighbor_y.cpu(), neighbor_x.cpu(), color='black', s=1)\n",
    "plt.ylim(-100, 100)\n",
    "plt.xlim(-6, 6)\n",
    "plt.axhline(0, linestyle='dotted', color='grey')\n",
    "plt.axvline(0, linestyle='dotted', color='grey')\n",
    "ax = plt.gca()\n",
    "ax.set_aspect('equal', adjustable='box')"
   ]
  },
  {
   "cell_type": "code",
   "execution_count": 197,
   "metadata": {},
   "outputs": [
    {
     "data": {
      "text/plain": [
       "<matplotlib.legend.Legend at 0x27f4fb5e9f0>"
      ]
     },
     "execution_count": 197,
     "metadata": {},
     "output_type": "execute_result"
    },
    {
     "data": {
      "image/png": "[encoded data removed]",
      "text/plain": [
       "<Figure size 640x480 with 1 Axes>"
      ]
     },
     "metadata": {},
     "output_type": "display_data"
    }
   ],
   "source": [
    "plt.scatter(neighbors[:,0].cpu(), neighbors[:,1].cpu(), color='blue', s=0.1, label='ego_local')\n",
    "plt.scatter(neighbors[:,2].cpu(), neighbors[:,3].cpu(), color='red', s=0.1, label='ego_foe_relative')\n",
    "plt.axhline(0, linestyle='dashed', color='black')\n",
    "plt.axvline(0, linestyle='dashed', color='black')\n",
    "plt.ylim(-2,2)\n",
    "plt.xlim(-2,2)\n",
    "plt.xlabel('x')\n",
    "plt.ylabel('y')\n",
    "plt.legend()"
   ]
  },
  {
   "cell_type": "code",
   "execution_count": 6,
   "metadata": {},
   "outputs": [],
   "source": [
    "\n",
    "# Function to get top-k neighbors within epsilon using bins\n",
    "def find_neighbors(data, grouped_data, bin_indices, batch_size=10000, epsilon=0.20, k=100, feature_dims = [0,1,2,3,4,5,6,7]):\n",
    "    neighbor_dict = {}\n",
    "    N = len(data)\n",
    "    # Process data in batches to maximize GPU parallelism\n",
    "    for i in range(0, N, batch_size):\n",
    "        batch_data = data[i:i+batch_size]  # Extract batch\n",
    "        batch_bins = bin_indices[i:i+batch_size]\n",
    "        # Convert batch bins to tuple keys\n",
    "        batch_keys = [tuple(row.tolist()) for row in batch_bins]\n",
    "\n",
    "        # Get all potential neighbor indices from adjacent bins\n",
    "        candidate_indices = []\n",
    "        for key in batch_keys:\n",
    "            adjacent_bins = list(itertools.product(\n",
    "                *[(key[j] - 1, key[j], key[j] + 1) for j in range(len(feature_dims))]\n",
    "            ))\n",
    "            for adj_bin in adjacent_bins:\n",
    "                if adj_bin in grouped_data:\n",
    "                    candidate_indices.extend(grouped_data[adj_bin].tolist())\n",
    "\n",
    "        if not candidate_indices:\n",
    "            continue  # Skip if no neighbors\n",
    "\n",
    "        candidate_indices = torch.tensor(candidate_indices, device=\"cuda\")\n",
    "        candidate_data = data[candidate_indices]  # Retrieve full data\n",
    "\n",
    "        # Compute distances in parallel for the entire batch\n",
    "        distances = torch.cdist(batch_data[:,feature_dims], candidate_data[feature_dims])\n",
    "\n",
    "        # Get top-k nearest neighbors under epsilon\n",
    "        mask = distances < epsilon\n",
    "        top_k_indices = torch.argsort(distances, dim=1)[:, :k]  # Sort and take top-k\n",
    "\n",
    "        # Store results in a dictionary\n",
    "        for j in trange(batch_data.shape[0]):\n",
    "            valid_neighbors = candidate_indices[top_k_indices[j][mask[j, top_k_indices[j]]]]\n",
    "            neighbor_dict[i + j] = valid_neighbors.tolist()\n",
    "\n",
    "    return neighbor_dict\n",
    "\n",
    "\n"
   ]
  },
  {
   "cell_type": "code",
   "execution_count": 7,
   "metadata": {},
   "outputs": [
    {
     "ename": "TypeError",
     "evalue": "find_neighbors() missing 1 required positional argument: 'bin_indices'",
     "output_type": "error",
     "traceback": [
      "\u001b[1;31m---------------------------------------------------------------------------\u001b[0m",
      "\u001b[1;31mTypeError\u001b[0m                                 Traceback (most recent call last)",
      "Cell \u001b[1;32mIn[7], line 2\u001b[0m\n\u001b[0;32m      1\u001b[0m \u001b[38;5;66;03m# get all indices\u001b[39;00m\n\u001b[1;32m----> 2\u001b[0m all_indices \u001b[38;5;241m=\u001b[39m find_neighbors(data, grouped_data\u001b[38;5;241m=\u001b[39mgrouped_data, batch_size\u001b[38;5;241m=\u001b[39m\u001b[38;5;241m1000000\u001b[39m,feature_dims\u001b[38;5;241m=\u001b[39mfeature_dims)\n",
      "\u001b[1;31mTypeError\u001b[0m: find_neighbors() missing 1 required positional argument: 'bin_indices'"
     ]
    }
   ],
   "source": [
    "# get all indices\n",
    "all_indices = find_neighbors(data, grouped_data=grouped_data, batch_size=1000000,feature_dims=feature_dims)"
   ]
  },
  {
   "cell_type": "code",
   "execution_count": 10,
   "metadata": {},
   "outputs": [],
   "source": [
    "i= 5000\n",
    "batch_size = 15000\n",
    "batch_data = data[i:i+batch_size]\n",
    "batch_bins = bin_indices[i:i+batch_size]"
   ]
  },
  {
   "cell_type": "code",
   "execution_count": 16,
   "metadata": {},
   "outputs": [
    {
     "data": {
      "text/plain": [
       "[(tensor(6, device='cuda:0', dtype=torch.int32),\n",
       "  tensor(7, device='cuda:0', dtype=torch.int32),\n",
       "  tensor(8, device='cuda:0', dtype=torch.int32)),\n",
       " (tensor(-2, device='cuda:0', dtype=torch.int32),\n",
       "  tensor(-1, device='cuda:0', dtype=torch.int32),\n",
       "  tensor(0, device='cuda:0', dtype=torch.int32)),\n",
       " (tensor(0, device='cuda:0', dtype=torch.int32),\n",
       "  tensor(1, device='cuda:0', dtype=torch.int32),\n",
       "  tensor(2, device='cuda:0', dtype=torch.int32)),\n",
       " (tensor(0, device='cuda:0', dtype=torch.int32),\n",
       "  tensor(1, device='cuda:0', dtype=torch.int32),\n",
       "  tensor(2, device='cuda:0', dtype=torch.int32)),\n",
       " (tensor(-1, device='cuda:0', dtype=torch.int32),\n",
       "  tensor(0, device='cuda:0', dtype=torch.int32),\n",
       "  tensor(1, device='cuda:0', dtype=torch.int32)),\n",
       " (tensor(-1, device='cuda:0', dtype=torch.int32),\n",
       "  tensor(0, device='cuda:0', dtype=torch.int32),\n",
       "  tensor(1, device='cuda:0', dtype=torch.int32)),\n",
       " (tensor(-1, device='cuda:0', dtype=torch.int32),\n",
       "  tensor(0, device='cuda:0', dtype=torch.int32),\n",
       "  tensor(1, device='cuda:0', dtype=torch.int32)),\n",
       " (tensor(-1, device='cuda:0', dtype=torch.int32),\n",
       "  tensor(0, device='cuda:0', dtype=torch.int32),\n",
       "  tensor(1, device='cuda:0', dtype=torch.int32))]"
      ]
     },
     "execution_count": 16,
     "metadata": {},
     "output_type": "execute_result"
    }
   ],
   "source": [
    "idx = 500232\n",
    "key = bin_indices[idx]\n",
    "# adjacent_bins = list(itertools.product(\n",
    "#                 *[(key[j] - 1, key[j], key[j] + 1) for j in range(len(feature_dims))]\n",
    "#             ))\n",
    "[(key[j] - 1, key[j], key[j] + 1) for j in range(len(feature_dims))]\n"
   ]
  },
  {
   "cell_type": "code",
   "execution_count": null,
   "metadata": {},
   "outputs": [
    {
     "data": {
      "text/plain": [
       "tensor([[ 9,  0, -2,  1,  0,  0,  0,  0],\n",
       "        [ 9,  0,  6,  0,  0,  0,  0, 10],\n",
       "        [ 9,  0,  6,  0,  0,  0,  0, 10],\n",
       "        [ 9,  0, -2,  1,  0,  0,  0,  0],\n",
       "        [ 9,  0,  6,  1,  0,  0,  0, 10],\n",
       "        [ 9,  0, -7,  0,  0,  0,  0, 10],\n",
       "        [ 9,  0, -2,  1,  0,  0,  0,  0],\n",
       "        [ 9,  0,  6,  1,  0,  0,  0, 10],\n",
       "        [ 9,  0, -7,  0,  0,  0,  0, 10],\n",
       "        [ 9,  0, -2,  1,  0,  0,  0,  0],\n",
       "        [ 9,  0,  6,  1,  0,  0,  0, 10],\n",
       "        [ 9,  0, -7,  0,  0,  0,  0, 10],\n",
       "        [ 9,  0, -2,  1,  0,  0,  0,  0],\n",
       "        [ 9,  0,  6,  1,  0,  0,  0, 10],\n",
       "        [ 9,  0, -7,  0,  0,  0,  0, 10],\n",
       "        [ 9,  0, -2,  1,  0,  0,  0,  0],\n",
       "        [ 9,  0,  6,  1,  0,  0,  0, 10],\n",
       "        [ 9,  0, -7,  0,  0,  0,  0, 10],\n",
       "        [ 9,  0, -2,  1,  0,  0,  0,  0],\n",
       "        [ 9,  0,  6,  1,  0,  0,  0, 10],\n",
       "        [ 9,  0, -7,  0,  0,  0,  0, 10],\n",
       "        [ 9,  0, -2,  1,  0,  0,  0,  0],\n",
       "        [ 9,  0,  6,  1,  0,  0,  0, 10],\n",
       "        [ 9,  0, -7,  0,  0,  0,  0, 10],\n",
       "        [ 9,  0, -2,  0,  0,  0,  0,  0],\n",
       "        [ 9,  0,  6,  1,  0,  0,  0, 10],\n",
       "        [ 9,  0, -7,  0,  0,  0,  0, 10],\n",
       "        [ 9,  0, -2,  0,  0,  0,  0,  0],\n",
       "        [ 9,  0,  6,  0,  0,  0,  0, 10],\n",
       "        [ 9,  0, -7,  0,  0,  0,  0, 10],\n",
       "        [ 9,  0, -2,  0,  0,  0,  0,  0],\n",
       "        [ 9,  0,  6,  0,  0,  0,  0, 10],\n",
       "        [ 9,  0, -8,  0,  0,  0,  0, 10],\n",
       "        [ 9,  0, -2, -1,  0,  0,  0,  0],\n",
       "        [ 9,  0,  6,  0,  0,  0,  0, 10],\n",
       "        [ 9,  0, -8,  0,  0,  0,  0, 10],\n",
       "        [ 9,  0, -2, -1,  0,  0,  0,  0],\n",
       "        [ 9,  0,  6,  0,  0,  0,  0, 10],\n",
       "        [ 9,  0, -8,  1,  0,  0,  0, 10],\n",
       "        [ 9,  0, -2, -1,  0,  0,  0,  0],\n",
       "        [ 9,  0,  6,  0,  0,  0,  0, 10],\n",
       "        [ 9,  0, -8,  1,  0,  0,  0, 10],\n",
       "        [ 9,  0, -2, -1,  0,  0,  0,  0],\n",
       "        [ 9,  0,  6,  0,  0,  0,  0, 10],\n",
       "        [ 9,  0, -8,  1,  0,  0,  0, 10],\n",
       "        [ 9,  0, -2, -1,  0,  0,  0,  0],\n",
       "        [ 9,  0,  6,  0,  0,  0,  0, 10],\n",
       "        [ 9,  0, -8,  1,  0,  0,  0, 10],\n",
       "        [ 9,  0, -2, -1,  0,  0,  0,  0],\n",
       "        [ 9,  0,  6,  0,  0,  0,  0, 10]], device='cuda:0', dtype=torch.int32)"
      ]
     },
     "execution_count": 8,
     "metadata": {},
     "output_type": "execute_result"
    }
   ],
   "source": [
    "batch_data = data[i:i+batch_size]  # Extract batch\n",
    "        batch_bins = bin_indices[i:i+batch_size]\n",
    "        # Convert batch bins to tuple keys\n",
    "        batch_keys = [tuple(row.tolist()) for row in batch_bins]\n",
    "\n",
    "        # Get all potential neighbor indices from adjacent bins\n",
    "        candidate_indices = []\n",
    "        for key in batch_keys:\n",
    "            adjacent_bins = list(itertools.product(\n",
    "                *[(key[j] - 1, key[j], key[j] + 1) for j in range(len(feature_dims))]\n",
    "            ))\n",
    "            for adj_bin in adjacent_bins:\n",
    "                if adj_bin in grouped_data:\n",
    "                    candidate_indices.extend(grouped_data[adj_bin].tolist())"
   ]
  }
 ],
 "metadata": {
  "kernelspec": {
   "display_name": "field",
   "language": "python",
   "name": "python3"
  },
  "language_info": {
   "codemirror_mode": {
    "name": "ipython",
    "version": 3
   },
   "file_extension": ".py",
   "mimetype": "text/x-python",
   "name": "python",
   "nbconvert_exporter": "python",
   "pygments_lexer": "ipython3",
   "version": "3.12.9"
  }
 },
 "nbformat": 4,
 "nbformat_minor": 2
}
