{
 "cells": [
  {
   "cell_type": "code",
   "execution_count": 1,
   "metadata": {},
   "outputs": [],
   "source": [
    "import numpy as np\n",
    "import torch\n",
    "import torch.nn.functional as F\n",
    "import torch.nn as nn\n",
    "import torch.optim as optim\n",
    "import os\n",
    "import pandas as pd\n",
    "from tqdm import tqdm, trange\n",
    "from collections import defaultdict\n",
    "import itertools\n",
    "import matplotlib.pyplot as plt"
   ]
  },
  {
   "cell_type": "code",
   "execution_count": 2,
   "metadata": {},
   "outputs": [],
   "source": [
    "def get_processed_tensors(data, normalize=True):\n",
    "    # add direction attributes\n",
    "    vehicle_mean_speed = data.groupby(['ego_id','recording_id']).ego_xVel.transform('mean')\n",
    "    vehicle_abs_speed = vehicle_mean_speed.abs() \n",
    "    data['dir'] = vehicle_mean_speed / vehicle_abs_speed\n",
    "    # add lane changing attributes\n",
    "    ego_pre_lc = data.groupby(['ego_id','recording_id']).ego_pre_lc.transform('any')\n",
    "    ego_post_lc = data.groupby(['ego_id','recording_id']).ego_post_lc.transform('any')\n",
    "    ego_lc = ego_pre_lc | ego_post_lc\n",
    "    foe_pre_lc = data.groupby(['foe_id','recording_id']).foe_pre_lc.transform('any')\n",
    "    foe_post_lc = data.groupby(['foe_id','recording_id']).foe_post_lc.transform('any')\n",
    "    foe_lc = foe_pre_lc | foe_post_lc\n",
    "    data['ego_lc'] = ego_lc\n",
    "    data['foe_lc'] = foe_lc\n",
    "    ego_xVel = np.abs(data.ego_xVel.values)\n",
    "    ego_yVel = np.abs(data.ego_yVel.values) * data.dir.values\n",
    "    rel_xVel = -((data.ego_xVel - data.foe_xVel)*(data.ego_x - data.foe_x) / abs(data.ego_x - data.foe_x)).values\n",
    "    rel_yVel = -((data.ego_yVel - data.foe_yVel)*(data.ego_y - data.foe_y) / abs(data.ego_y - data.foe_y)).values\n",
    "    ego_lc = data.ego_lc\n",
    "    foe_lc = data.foe_lc\n",
    "    ego_class = data.ego_truck.values\n",
    "    foe_class = data.foe_truck.values\n",
    "    X = np.clip( abs(data.ego_x - data.foe_x) -  0.5*(data.ego_length - data.foe_length), a_min=0, a_max=None).values *((data.foe_x - data.ego_x) / abs(data.ego_x - data.foe_x)).values * data.dir.values\n",
    "    Y = np.clip( abs(data.ego_y - data.foe_y) -  0.5*(data.ego_width - data.foe_width), a_min=0, a_max=None).values *((data.foe_y - data.ego_y) / abs(data.ego_y - data.foe_y)).values * data.dir.values\n",
    "    np.nan_to_num(X, 0)\n",
    "    np.nan_to_num(Y, 0)\n",
    "    X = torch.Tensor(X).to('cuda').detach()\n",
    "    Y = torch.Tensor(Y).to('cuda').detach()\n",
    "    Input = np.array(\n",
    "    [\n",
    "        ego_xVel, ego_yVel, rel_xVel, rel_yVel, ego_lc, foe_lc, ego_class, foe_class\n",
    "    ]\n",
    "    ).T\n",
    "    np.nan_to_num(Input, 0)\n",
    "    Input = torch.Tensor(Input).to('cuda')\n",
    "    if normalize:\n",
    "        Input[:,0] = Input[:,0] / torch.quantile(Input[:,0], 0.95)\n",
    "        Input[:,1] = Input[:,1] / 1\n",
    "        Input[:,2] = Input[:,2] / 15\n",
    "        Input[:,2] = Input[:,2] / 1.25\n",
    "    dataset = torch.cat([Input, X.view(-1,1)], dim=1)\n",
    "    dataset = torch.cat([dataset, Y.view(-1,1)], dim=1)\n",
    "    return dataset"
   ]
  },
  {
   "cell_type": "code",
   "execution_count": 171,
   "metadata": {},
   "outputs": [
    {
     "name": "stdout",
     "output_type": "stream",
     "text": [
      "---- Reading raw data ----\n"
     ]
    },
    {
     "name": "stderr",
     "output_type": "stream",
     "text": [
      "100%|██████████| 60/60 [00:05<00:00, 10.59it/s]\n"
     ]
    },
    {
     "name": "stdout",
     "output_type": "stream",
     "text": [
      "---- Generating tensor ----\n"
     ]
    }
   ],
   "source": [
    "data_path = \"D:/Productivity/Projects/RiskFieldImitation-main/data\"\n",
    "print (f\"---- Reading raw data ----\")\n",
    "full_data = pd.concat([ pd.read_csv(f\"{data_path}/{r:02}_spacings_2.csv\",index_col=0) for r in trange(1,61)])\n",
    "print (f\"---- Generating tensor ----\")\n",
    "full_data = get_processed_tensors(full_data)"
   ]
  },
  {
   "cell_type": "code",
   "execution_count": 67,
   "metadata": {},
   "outputs": [],
   "source": [
    "\n",
    "def remove_similar_data(data, epsilon=0.1):\n",
    "    \"\"\"\n",
    "    Remove similar data points by keeping only one representative per group.\n",
    "    \n",
    "    Args:\n",
    "        data (torch.Tensor): (N, D) tensor of data points.\n",
    "        epsilon (float): Distance threshold to consider points as similar.\n",
    "\n",
    "    Returns:\n",
    "        torch.Tensor: Filtered tensor with reduced similar points.\n",
    "    \"\"\"\n",
    "    device = data.device  # Ensure we work on the correct device\n",
    "    remaining_indices = torch.arange(data.shape[0], device=device)  # Track remaining indices\n",
    "    selected_points = []  # Store filtered points\n",
    "\n",
    "    # Use tqdm for a progress bar\n",
    "    with tqdm(total=data.shape[0], desc=\"Processing\", unit=\"samples\") as pbar:\n",
    "        while remaining_indices.numel() > 0:\n",
    "            ref_idx = remaining_indices[0]  # Take the first available index\n",
    "            ref_point = data[ref_idx].unsqueeze(0)  # Reshape for broadcasting\n",
    "            selected_points.append(ref_point.squeeze(0))  # Keep the reference point\n",
    "\n",
    "            # Compute distances between the reference point and remaining points\n",
    "            distances = torch.norm(data[remaining_indices] - ref_point, dim=1)\n",
    "\n",
    "            # Keep only points that are farther than epsilon\n",
    "            mask = distances >= epsilon\n",
    "            remaining_indices = remaining_indices[mask]  # Filter indices\n",
    "\n",
    "            # Update progress bar\n",
    "            pbar.update(len(data) - len(remaining_indices))\n",
    "\n",
    "    return torch.stack(selected_points)\n",
    "\n"
   ]
  },
  {
   "cell_type": "code",
   "execution_count": 71,
   "metadata": {},
   "outputs": [],
   "source": [
    "_data = data\n",
    "norm_x = 20\n",
    "norm_y = 5\n",
    "_data[:,8] = _data[:,8]/norm_x\n",
    "_data[:,9] = _data[:,9]/norm_y"
   ]
  },
  {
   "cell_type": "code",
   "execution_count": 87,
   "metadata": {},
   "outputs": [
    {
     "data": {
      "text/plain": [
       "405859"
      ]
     },
     "execution_count": 87,
     "metadata": {},
     "output_type": "execute_result"
    }
   ],
   "source": [
    "len(data[data[:,1]==0])"
   ]
  },
  {
   "cell_type": "code",
   "execution_count": 69,
   "metadata": {},
   "outputs": [
    {
     "name": "stderr",
     "output_type": "stream",
     "text": [
      "Processing: 42962513607samples [02:08, 333566756.97samples/s]                  \n"
     ]
    },
    {
     "ename": "KeyboardInterrupt",
     "evalue": "",
     "output_type": "error",
     "traceback": [
      "\u001b[1;31m---------------------------------------------------------------------------\u001b[0m",
      "\u001b[1;31mKeyboardInterrupt\u001b[0m                         Traceback (most recent call last)",
      "Cell \u001b[1;32mIn[69], line 1\u001b[0m\n\u001b[1;32m----> 1\u001b[0m reduced_data \u001b[38;5;241m=\u001b[39m torch\u001b[38;5;241m.\u001b[39mstack(\u001b[38;5;28mlist\u001b[39m(remove_similar_data(_data, epsilon\u001b[38;5;241m=\u001b[39m\u001b[38;5;241m0.1\u001b[39m)))\n",
      "Cell \u001b[1;32mIn[67], line 31\u001b[0m, in \u001b[0;36mremove_similar_data\u001b[1;34m(data, epsilon)\u001b[0m\n\u001b[0;32m     28\u001b[0m         remaining_indices \u001b[38;5;241m=\u001b[39m remaining_indices[mask]  \u001b[38;5;66;03m# Filter indices\u001b[39;00m\n\u001b[0;32m     30\u001b[0m         \u001b[38;5;66;03m# Update progress bar\u001b[39;00m\n\u001b[1;32m---> 31\u001b[0m         pbar\u001b[38;5;241m.\u001b[39mupdate(\u001b[38;5;28mlen\u001b[39m(data) \u001b[38;5;241m-\u001b[39m \u001b[38;5;28mlen\u001b[39m(remaining_indices))\n\u001b[0;32m     33\u001b[0m \u001b[38;5;28;01mreturn\u001b[39;00m torch\u001b[38;5;241m.\u001b[39mstack(selected_points)\n",
      "File \u001b[1;32mc:\\Anaconda\\envs\\field\\Lib\\site-packages\\torch\\_tensor.py:1128\u001b[0m, in \u001b[0;36mTensor.__len__\u001b[1;34m(self)\u001b[0m\n\u001b[0;32m   1125\u001b[0m \u001b[38;5;21m__neg__\u001b[39m \u001b[38;5;241m=\u001b[39m _C\u001b[38;5;241m.\u001b[39mTensorBase\u001b[38;5;241m.\u001b[39mneg\n\u001b[0;32m   1126\u001b[0m \u001b[38;5;21m__abs__\u001b[39m \u001b[38;5;241m=\u001b[39m _C\u001b[38;5;241m.\u001b[39mTensorBase\u001b[38;5;241m.\u001b[39mabs\n\u001b[1;32m-> 1128\u001b[0m \u001b[38;5;28;01mdef\u001b[39;00m \u001b[38;5;21m__len__\u001b[39m(\u001b[38;5;28mself\u001b[39m):\n\u001b[0;32m   1129\u001b[0m     \u001b[38;5;28;01mif\u001b[39;00m has_torch_function_unary(\u001b[38;5;28mself\u001b[39m):\n\u001b[0;32m   1130\u001b[0m         \u001b[38;5;28;01mreturn\u001b[39;00m handle_torch_function(Tensor\u001b[38;5;241m.\u001b[39m\u001b[38;5;21m__len__\u001b[39m, (\u001b[38;5;28mself\u001b[39m,), \u001b[38;5;28mself\u001b[39m)\n",
      "\u001b[1;31mKeyboardInterrupt\u001b[0m: "
     ]
    }
   ],
   "source": [
    "reduced_data = torch.stack(list(remove_similar_data(_data, epsilon=0.1)))"
   ]
  },
  {
   "cell_type": "code",
   "execution_count": 54,
   "metadata": {},
   "outputs": [],
   "source": [
    "data = reduced_data"
   ]
  },
  {
   "cell_type": "code",
   "execution_count": null,
   "metadata": {},
   "outputs": [],
   "source": []
  },
  {
   "cell_type": "code",
   "execution_count": 182,
   "metadata": {},
   "outputs": [],
   "source": [
    "data = torch.load(r\"D:\\Productivity\\Projects\\RiskFieldImitation-main\\data\\reduced_data\").to('cuda')"
   ]
  },
  {
   "cell_type": "code",
   "execution_count": 130,
   "metadata": {},
   "outputs": [
    {
     "name": "stderr",
     "output_type": "stream",
     "text": [
      "  4%|▍         | 45615/1208443 [00:02<01:11, 16324.40it/s]\n"
     ]
    },
    {
     "ename": "KeyboardInterrupt",
     "evalue": "",
     "output_type": "error",
     "traceback": [
      "\u001b[1;31m---------------------------------------------------------------------------\u001b[0m",
      "\u001b[1;31mKeyboardInterrupt\u001b[0m                         Traceback (most recent call last)",
      "Cell \u001b[1;32mIn[130], line 8\u001b[0m\n\u001b[0;32m      6\u001b[0m bin_indices \u001b[38;5;241m=\u001b[39m torch\u001b[38;5;241m.\u001b[39mfloor(data[:, feature_dims] \u001b[38;5;241m/\u001b[39m interval)\u001b[38;5;241m.\u001b[39mint()  \u001b[38;5;66;03m# Convert to integer bins\u001b[39;00m\n\u001b[0;32m      7\u001b[0m \u001b[38;5;66;03m# Convert to tuples to use as dictionary keys\u001b[39;00m\n\u001b[1;32m----> 8\u001b[0m bin_keys \u001b[38;5;241m=\u001b[39m [\u001b[38;5;28mtuple\u001b[39m(row\u001b[38;5;241m.\u001b[39mtolist()) \u001b[38;5;28;01mfor\u001b[39;00m row \u001b[38;5;129;01min\u001b[39;00m tqdm(bin_indices)]\n\u001b[0;32m      9\u001b[0m \u001b[38;5;66;03m# Create a dictionary to store groups\u001b[39;00m\n\u001b[0;32m     10\u001b[0m grouped_data \u001b[38;5;241m=\u001b[39m defaultdict(\u001b[38;5;28mlist\u001b[39m)\n",
      "\u001b[1;31mKeyboardInterrupt\u001b[0m: "
     ]
    }
   ],
   "source": [
    "# Define bin interval\n",
    "interval = 0.1\n",
    "# Define the feature dimensions to calculate the similarity\n",
    "feature_dims = [0,1,2,3,4,5,6,7]\n",
    "# Compute bin indices for the first 8 dimensions\n",
    "bin_indices = torch.floor(data[:, feature_dims] / interval).int()  # Convert to integer bins\n",
    "# Convert to tuples to use as dictionary keys\n",
    "bin_keys = [tuple(row.tolist()) for row in tqdm(bin_indices)]\n",
    "# Create a dictionary to store groups\n",
    "grouped_data = defaultdict(list)\n",
    "# Group indices based on bin keys\n",
    "for idx, key in enumerate(tqdm(bin_keys)):\n",
    "    grouped_data[key].append(idx)\n",
    "# Convert lists to tensors for efficient access\n",
    "grouped_data = {k: torch.tensor(v, dtype=torch.long) for k, v in tqdm(grouped_data.items())}\n"
   ]
  },
  {
   "cell_type": "code",
   "execution_count": 166,
   "metadata": {},
   "outputs": [],
   "source": [
    "def find_neighbors_batch(data, query_point, epsilons=[0.1,0.15], mu=100, search_dims=[0,1,2,3,4,6,7], batch_size=10000, k=0):\n",
    "    \"\"\"\n",
    "    Find all points in 'data' within 'epsilon' distance of 'query_point' using brute-force search.\n",
    "    \"\"\"\n",
    "    num_samples = data.shape[0]\n",
    "    indices_list = [] \n",
    "    for i in range(0, num_samples, batch_size):\n",
    "        bound = i + batch_size if i+batch_size < num_samples else num_samples\n",
    "        batch = data[i:bound] \n",
    "        distances = torch.norm(batch[:,search_dims] - query_point[search_dims], dim=1)\n",
    "        mask = distances <= epsilons[k]\n",
    "        found_indices = torch.nonzero(mask, as_tuple=True)[0] + i\n",
    "        indices_list.append(found_indices.to('cuda'))\n",
    "    indices = torch.cat(indices_list) if indices_list else torch.tensor([]).to('cuda')\n",
    "    # _k = k+1\n",
    "    # print (epsilons[k])\n",
    "    # if len(indices)<mu and _k<len(epsilons):\n",
    "    #     indices = find_neighbors_batch(data, query_point, epsilons=epsilons, mu=mu, search_dims=search_dims, batch_size=batch_size, k=_k)\n",
    "    return indices\n",
    "    "
   ]
  },
  {
   "cell_type": "code",
   "execution_count": 177,
   "metadata": {},
   "outputs": [],
   "source": [
    "idx = 92483\n",
    "query_point = data[idx]\n",
    "indices = find_neighbors_batch(data=data, query_point=query_point, batch_size=len(data))"
   ]
  },
  {
   "cell_type": "code",
   "execution_count": 172,
   "metadata": {},
   "outputs": [],
   "source": [
    "idx = 92483\n",
    "query_point = data[idx]\n",
    "indices = find_neighbors_batch(data=full_data, query_point=query_point, batch_size=len(data))"
   ]
  },
  {
   "cell_type": "code",
   "execution_count": 178,
   "metadata": {},
   "outputs": [
    {
     "data": {
      "text/plain": [
       "tensor([ 0.6032, -0.0100,  0.5616, -0.4600,  0.0000,  1.0000,  0.0000,  0.0000,\n",
       "        -3.3295, -0.1460], device='cuda:0')"
      ]
     },
     "execution_count": 178,
     "metadata": {},
     "output_type": "execute_result"
    }
   ],
   "source": [
    "query_point"
   ]
  },
  {
   "cell_type": "code",
   "execution_count": 179,
   "metadata": {},
   "outputs": [],
   "source": [
    "neighbors = data[indices]\n",
    "neighbor_x = neighbors[:,8]*20\n",
    "neighbor_y = neighbors[:,9]*5"
   ]
  },
  {
   "cell_type": "code",
   "execution_count": 180,
   "metadata": {},
   "outputs": [
    {
     "data": {
      "image/png": "[encoded data removed]",
      "text/plain": [
       "<Figure size 640x480 with 1 Axes>"
      ]
     },
     "metadata": {},
     "output_type": "display_data"
    }
   ],
   "source": [
    "plt.scatter(neighbor_y.cpu(), neighbor_x.cpu(), color='black', s=1)\n",
    "plt.ylim(-100, 100)\n",
    "plt.xlim(-6, 6)\n",
    "plt.axhline(0, linestyle='dotted', color='grey')\n",
    "plt.axvline(0, linestyle='dotted', color='grey')\n",
    "ax = plt.gca()\n",
    "ax.set_aspect('equal', adjustable='box')"
   ]
  },
  {
   "cell_type": "code",
   "execution_count": null,
   "metadata": {},
   "outputs": [],
   "source": []
  },
  {
   "cell_type": "code",
   "execution_count": 184,
   "metadata": {},
   "outputs": [
    {
     "name": "stderr",
     "output_type": "stream",
     "text": [
      "100%|██████████| 1208443/1208443 [06:31<00:00, 3090.31it/s]\n"
     ]
    }
   ],
   "source": [
    "neighbor_indices = [ find_neighbors_batch(data, data[k], batch_size=100000000) for k in trange(len(data))  ]"
   ]
  },
  {
   "cell_type": "code",
   "execution_count": 198,
   "metadata": {},
   "outputs": [],
   "source": [
    "torch.save(neighbor_indices, 'D:/Productivity/Projects/RiskFieldImitation-main/data/reduced_neighbor_indices')"
   ]
  },
  {
   "cell_type": "code",
   "execution_count": 191,
   "metadata": {},
   "outputs": [
    {
     "data": {
      "text/plain": [
       "1283"
      ]
     },
     "execution_count": 191,
     "metadata": {},
     "output_type": "execute_result"
    }
   ],
   "source": [
    "len(neighbor_indices[8874])"
   ]
  },
  {
   "cell_type": "code",
   "execution_count": 195,
   "metadata": {},
   "outputs": [
    {
     "data": {
      "image/png": "[encoded data removed]",
      "text/plain": [
       "<Figure size 640x480 with 1 Axes>"
      ]
     },
     "metadata": {},
     "output_type": "display_data"
    }
   ],
   "source": [
    "idx = 8874\n",
    "neighbors = data[neighbor_indices[idx]]\n",
    "neighbor_x = neighbors[:,8]*20\n",
    "neighbor_y = neighbors[:,9]*5\n",
    "plt.scatter(neighbor_y.cpu(), neighbor_x.cpu(), color='black', s=1)\n",
    "plt.ylim(-100, 100)\n",
    "plt.xlim(-6, 6)\n",
    "plt.axhline(0, linestyle='dotted', color='grey')\n",
    "plt.axvline(0, linestyle='dotted', color='grey')\n",
    "ax = plt.gca()\n",
    "ax.set_aspect('equal', adjustable='box')"
   ]
  },
  {
   "cell_type": "code",
   "execution_count": 197,
   "metadata": {},
   "outputs": [
    {
     "data": {
      "text/plain": [
       "<matplotlib.legend.Legend at 0x27f4fb5e9f0>"
      ]
     },
     "execution_count": 197,
     "metadata": {},
     "output_type": "execute_result"
    },
    {
     "data": {
      "image/png": "[encoded data removed]",
      "text/plain": [
       "<Figure size 640x480 with 1 Axes>"
      ]
     },
     "metadata": {},
     "output_type": "display_data"
    }
   ],
   "source": [
    "plt.scatter(neighbors[:,0].cpu(), neighbors[:,1].cpu(), color='blue', s=0.1, label='ego_local')\n",
    "plt.scatter(neighbors[:,2].cpu(), neighbors[:,3].cpu(), color='red', s=0.1, label='ego_foe_relative')\n",
    "plt.axhline(0, linestyle='dashed', color='black')\n",
    "plt.axvline(0, linestyle='dashed', color='black')\n",
    "plt.ylim(-2,2)\n",
    "plt.xlim(-2,2)\n",
    "plt.xlabel('x')\n",
    "plt.ylabel('y')\n",
    "plt.legend()"
   ]
  },
  {
   "cell_type": "code",
   "execution_count": 6,
   "metadata": {},
   "outputs": [],
   "source": [
    "\n",
    "# Function to get top-k neighbors within epsilon using bins\n",
    "def find_neighbors(data, grouped_data, bin_indices, batch_size=10000, epsilon=0.20, k=100, feature_dims = [0,1,2,3,4,5,6,7]):\n",
    "    neighbor_dict = {}\n",
    "    N = len(data)\n",
    "    # Process data in batches to maximize GPU parallelism\n",
    "    for i in range(0, N, batch_size):\n",
    "        batch_data = data[i:i+batch_size]  # Extract batch\n",
    "        batch_bins = bin_indices[i:i+batch_size]\n",
    "        # Convert batch bins to tuple keys\n",
    "        batch_keys = [tuple(row.tolist()) for row in batch_bins]\n",
    "\n",
    "        # Get all potential neighbor indices from adjacent bins\n",
    "        candidate_indices = []\n",
    "        for key in batch_keys:\n",
    "            adjacent_bins = list(itertools.product(\n",
    "                *[(key[j] - 1, key[j], key[j] + 1) for j in range(len(feature_dims))]\n",
    "            ))\n",
    "            for adj_bin in adjacent_bins:\n",
    "                if adj_bin in grouped_data:\n",
    "                    candidate_indices.extend(grouped_data[adj_bin].tolist())\n",
    "\n",
    "        if not candidate_indices:\n",
    "            continue  # Skip if no neighbors\n",
    "\n",
    "        candidate_indices = torch.tensor(candidate_indices, device=\"cuda\")\n",
    "        candidate_data = data[candidate_indices]  # Retrieve full data\n",
    "\n",
    "        # Compute distances in parallel for the entire batch\n",
    "        distances = torch.cdist(batch_data[:,feature_dims], candidate_data[feature_dims])\n",
    "\n",
    "        # Get top-k nearest neighbors under epsilon\n",
    "        mask = distances < epsilon\n",
    "        top_k_indices = torch.argsort(distances, dim=1)[:, :k]  # Sort and take top-k\n",
    "\n",
    "        # Store results in a dictionary\n",
    "        for j in trange(batch_data.shape[0]):\n",
    "            valid_neighbors = candidate_indices[top_k_indices[j][mask[j, top_k_indices[j]]]]\n",
    "            neighbor_dict[i + j] = valid_neighbors.tolist()\n",
    "\n",
    "    return neighbor_dict\n",
    "\n",
    "\n"
   ]
  },
  {
   "cell_type": "code",
   "execution_count": 7,
   "metadata": {},
   "outputs": [
    {
     "ename": "TypeError",
     "evalue": "find_neighbors() missing 1 required positional argument: 'bin_indices'",
     "output_type": "error",
     "traceback": [
      "\u001b[1;31m---------------------------------------------------------------------------\u001b[0m",
      "\u001b[1;31mTypeError\u001b[0m                                 Traceback (most recent call last)",
      "Cell \u001b[1;32mIn[7], line 2\u001b[0m\n\u001b[0;32m      1\u001b[0m \u001b[38;5;66;03m# get all indices\u001b[39;00m\n\u001b[1;32m----> 2\u001b[0m all_indices \u001b[38;5;241m=\u001b[39m find_neighbors(data, grouped_data\u001b[38;5;241m=\u001b[39mgrouped_data, batch_size\u001b[38;5;241m=\u001b[39m\u001b[38;5;241m1000000\u001b[39m,feature_dims\u001b[38;5;241m=\u001b[39mfeature_dims)\n",
      "\u001b[1;31mTypeError\u001b[0m: find_neighbors() missing 1 required positional argument: 'bin_indices'"
     ]
    }
   ],
   "source": [
    "# get all indices\n",
    "all_indices = find_neighbors(data, grouped_data=grouped_data, batch_size=1000000,feature_dims=feature_dims)"
   ]
  },
  {
   "cell_type": "code",
   "execution_count": 10,
   "metadata": {},
   "outputs": [],
   "source": [
    "i= 5000\n",
    "batch_size = 15000\n",
    "batch_data = data[i:i+batch_size]\n",
    "batch_bins = bin_indices[i:i+batch_size]"
   ]
  },
  {
   "cell_type": "code",
   "execution_count": 16,
   "metadata": {},
   "outputs": [
    {
     "data": {
      "text/plain": [
       "[(tensor(6, device='cuda:0', dtype=torch.int32),\n",
       "  tensor(7, device='cuda:0', dtype=torch.int32),\n",
       "  tensor(8, device='cuda:0', dtype=torch.int32)),\n",
       " (tensor(-2, device='cuda:0', dtype=torch.int32),\n",
       "  tensor(-1, device='cuda:0', dtype=torch.int32),\n",
       "  tensor(0, device='cuda:0', dtype=torch.int32)),\n",
       " (tensor(0, device='cuda:0', dtype=torch.int32),\n",
       "  tensor(1, device='cuda:0', dtype=torch.int32),\n",
       "  tensor(2, device='cuda:0', dtype=torch.int32)),\n",
       " (tensor(0, device='cuda:0', dtype=torch.int32),\n",
       "  tensor(1, device='cuda:0', dtype=torch.int32),\n",
       "  tensor(2, device='cuda:0', dtype=torch.int32)),\n",
       " (tensor(-1, device='cuda:0', dtype=torch.int32),\n",
       "  tensor(0, device='cuda:0', dtype=torch.int32),\n",
       "  tensor(1, device='cuda:0', dtype=torch.int32)),\n",
       " (tensor(-1, device='cuda:0', dtype=torch.int32),\n",
       "  tensor(0, device='cuda:0', dtype=torch.int32),\n",
       "  tensor(1, device='cuda:0', dtype=torch.int32)),\n",
       " (tensor(-1, device='cuda:0', dtype=torch.int32),\n",
       "  tensor(0, device='cuda:0', dtype=torch.int32),\n",
       "  tensor(1, device='cuda:0', dtype=torch.int32)),\n",
       " (tensor(-1, device='cuda:0', dtype=torch.int32),\n",
       "  tensor(0, device='cuda:0', dtype=torch.int32),\n",
       "  tensor(1, device='cuda:0', dtype=torch.int32))]"
      ]
     },
     "execution_count": 16,
     "metadata": {},
     "output_type": "execute_result"
    }
   ],
   "source": [
    "idx = 500232\n",
    "key = bin_indices[idx]\n",
    "# adjacent_bins = list(itertools.product(\n",
    "#                 *[(key[j] - 1, key[j], key[j] + 1) for j in range(len(feature_dims))]\n",
    "#             ))\n",
    "[(key[j] - 1, key[j], key[j] + 1) for j in range(len(feature_dims))]\n"
   ]
  },
  {
   "cell_type": "code",
   "execution_count": null,
   "metadata": {},
   "outputs": [
    {
     "data": {
      "text/plain": [
       "tensor([[ 9,  0, -2,  1,  0,  0,  0,  0],\n",
       "        [ 9,  0,  6,  0,  0,  0,  0, 10],\n",
       "        [ 9,  0,  6,  0,  0,  0,  0, 10],\n",
       "        [ 9,  0, -2,  1,  0,  0,  0,  0],\n",
       "        [ 9,  0,  6,  1,  0,  0,  0, 10],\n",
       "        [ 9,  0, -7,  0,  0,  0,  0, 10],\n",
       "        [ 9,  0, -2,  1,  0,  0,  0,  0],\n",
       "        [ 9,  0,  6,  1,  0,  0,  0, 10],\n",
       "        [ 9,  0, -7,  0,  0,  0,  0, 10],\n",
       "        [ 9,  0, -2,  1,  0,  0,  0,  0],\n",
       "        [ 9,  0,  6,  1,  0,  0,  0, 10],\n",
       "        [ 9,  0, -7,  0,  0,  0,  0, 10],\n",
       "        [ 9,  0, -2,  1,  0,  0,  0,  0],\n",
       "        [ 9,  0,  6,  1,  0,  0,  0, 10],\n",
       "        [ 9,  0, -7,  0,  0,  0,  0, 10],\n",
       "        [ 9,  0, -2,  1,  0,  0,  0,  0],\n",
       "        [ 9,  0,  6,  1,  0,  0,  0, 10],\n",
       "        [ 9,  0, -7,  0,  0,  0,  0, 10],\n",
       "        [ 9,  0, -2,  1,  0,  0,  0,  0],\n",
       "        [ 9,  0,  6,  1,  0,  0,  0, 10],\n",
       "        [ 9,  0, -7,  0,  0,  0,  0, 10],\n",
       "        [ 9,  0, -2,  1,  0,  0,  0,  0],\n",
       "        [ 9,  0,  6,  1,  0,  0,  0, 10],\n",
       "        [ 9,  0, -7,  0,  0,  0,  0, 10],\n",
       "        [ 9,  0, -2,  0,  0,  0,  0,  0],\n",
       "        [ 9,  0,  6,  1,  0,  0,  0, 10],\n",
       "        [ 9,  0, -7,  0,  0,  0,  0, 10],\n",
       "        [ 9,  0, -2,  0,  0,  0,  0,  0],\n",
       "        [ 9,  0,  6,  0,  0,  0,  0, 10],\n",
       "        [ 9,  0, -7,  0,  0,  0,  0, 10],\n",
       "        [ 9,  0, -2,  0,  0,  0,  0,  0],\n",
       "        [ 9,  0,  6,  0,  0,  0,  0, 10],\n",
       "        [ 9,  0, -8,  0,  0,  0,  0, 10],\n",
       "        [ 9,  0, -2, -1,  0,  0,  0,  0],\n",
       "        [ 9,  0,  6,  0,  0,  0,  0, 10],\n",
       "        [ 9,  0, -8,  0,  0,  0,  0, 10],\n",
       "        [ 9,  0, -2, -1,  0,  0,  0,  0],\n",
       "        [ 9,  0,  6,  0,  0,  0,  0, 10],\n",
       "        [ 9,  0, -8,  1,  0,  0,  0, 10],\n",
       "        [ 9,  0, -2, -1,  0,  0,  0,  0],\n",
       "        [ 9,  0,  6,  0,  0,  0,  0, 10],\n",
       "        [ 9,  0, -8,  1,  0,  0,  0, 10],\n",
       "        [ 9,  0, -2, -1,  0,  0,  0,  0],\n",
       "        [ 9,  0,  6,  0,  0,  0,  0, 10],\n",
       "        [ 9,  0, -8,  1,  0,  0,  0, 10],\n",
       "        [ 9,  0, -2, -1,  0,  0,  0,  0],\n",
       "        [ 9,  0,  6,  0,  0,  0,  0, 10],\n",
       "        [ 9,  0, -8,  1,  0,  0,  0, 10],\n",
       "        [ 9,  0, -2, -1,  0,  0,  0,  0],\n",
       "        [ 9,  0,  6,  0,  0,  0,  0, 10]], device='cuda:0', dtype=torch.int32)"
      ]
     },
     "execution_count": 8,
     "metadata": {},
     "output_type": "execute_result"
    }
   ],
   "source": [
    "batch_data = data[i:i+batch_size]  # Extract batch\n",
    "        batch_bins = bin_indices[i:i+batch_size]\n",
    "        # Convert batch bins to tuple keys\n",
    "        batch_keys = [tuple(row.tolist()) for row in batch_bins]\n",
    "\n",
    "        # Get all potential neighbor indices from adjacent bins\n",
    "        candidate_indices = []\n",
    "        for key in batch_keys:\n",
    "            adjacent_bins = list(itertools.product(\n",
    "                *[(key[j] - 1, key[j], key[j] + 1) for j in range(len(feature_dims))]\n",
    "            ))\n",
    "            for adj_bin in adjacent_bins:\n",
    "                if adj_bin in grouped_data:\n",
    "                    candidate_indices.extend(grouped_data[adj_bin].tolist())"
   ]
  }
 ],
 "metadata": {
  "kernelspec": {
   "display_name": "field",
   "language": "python",
   "name": "python3"
  },
  "language_info": {
   "codemirror_mode": {
    "name": "ipython",
    "version": 3
   },
   "file_extension": ".py",
   "mimetype": "text/x-python",
   "name": "python",
   "nbconvert_exporter": "python",
   "pygments_lexer": "ipython3",
   "version": "3.12.9"
  }
 },
 "nbformat": 4,
 "nbformat_minor": 2
}
