{
 "cells": [
  {
   "cell_type": "code",
   "execution_count": 1,
   "metadata": {},
   "outputs": [],
   "source": [
    "import pandas as pd\n",
    "import numpy as np\n",
    "import matplotlib.pyplot as plt\n",
    "import torch\n",
    "from tqdm import tqdm, trange"
   ]
  },
  {
   "cell_type": "code",
   "execution_count": 2,
   "metadata": {},
   "outputs": [],
   "source": [
    "data = pd.read_csv(r\"D:\\Productivity\\Projects\\RiskFieldImitation-main\\data\\ngsim\\i80 sample.csv\")"
   ]
  },
  {
   "cell_type": "code",
   "execution_count": 11,
   "metadata": {},
   "outputs": [],
   "source": [
    "def reformat_ngsim(data, metric=True, record=-1):\n",
    "    _unit_coef = 0.3048 if metric else 1\n",
    "\n",
    "    _id = data.Vehicle_ID.values \n",
    "    _frame = data.Frame_ID.values \n",
    "    _x = data.Local_Y.values * _unit_coef\n",
    "    _y = data.Local_X.values * _unit_coef\n",
    "    _len = data.v_Length.values * _unit_coef\n",
    "    _wid = data.v_Width.values * _unit_coef\n",
    "    _record = np.repeat(record, len(data))\n",
    "    _dir = np.repeat(1, len(data))\n",
    "\n",
    "    dt = 0.1\n",
    "    dx = data.groupby('Vehicle_ID')['Local_Y'].diff()\n",
    "    dy = data.groupby('Vehicle_ID')['Local_X'].diff()\n",
    "\n",
    "    _vx = dx/dt * _unit_coef\n",
    "    _vy = dy/dt * _unit_coef\n",
    "    _ax = _vx.diff()/dt \n",
    "    _ay = _vy.diff()/dt \n",
    "\n",
    "\n",
    "    df = pd.DataFrame(\n",
    "        {\n",
    "            'id':_id,\n",
    "            'frame':_frame,\n",
    "            'record':_record,\n",
    "            'x':_x-_len/2,\n",
    "            'y':_y,\n",
    "            'xVelocity':_vx,\n",
    "            'yVelocity':_vy,\n",
    "            'xAcceleration':_ax,\n",
    "            'yAcceleration':_ay,\n",
    "            'length':_len,\n",
    "            'width':_wid,\n",
    "            'direction':_dir,\n",
    "        }\n",
    "    )\n",
    "    df = df.sort_values(by=['id','frame'])\n",
    "    return df\n",
    "\n",
    "\n",
    "\n",
    "\n",
    "\n"
   ]
  },
  {
   "cell_type": "code",
   "execution_count": 12,
   "metadata": {},
   "outputs": [],
   "source": [
    "_data = reformat_ngsim(data)"
   ]
  },
  {
   "cell_type": "code",
   "execution_count": 13,
   "metadata": {},
   "outputs": [
    {
     "data": {
      "text/plain": [
       "0                NaN\n",
       "1          14.020800\n",
       "2          13.719048\n",
       "3          13.716000\n",
       "4          13.828776\n",
       "             ...    \n",
       "1048570     3.051048\n",
       "1048571     3.041904\n",
       "1048572     3.060192\n",
       "1048573     3.096768\n",
       "1048574     3.066288\n",
       "Name: xVelocity, Length: 1048575, dtype: float64"
      ]
     },
     "execution_count": 13,
     "metadata": {},
     "output_type": "execute_result"
    }
   ],
   "source": [
    "_data.xVelocity"
   ]
  },
  {
   "cell_type": "code",
   "execution_count": 14,
   "metadata": {},
   "outputs": [
    {
     "data": {
      "text/plain": [
       "0              NaN\n",
       "1              NaN\n",
       "2         -3.01752\n",
       "3         -0.03048\n",
       "4          1.12776\n",
       "            ...   \n",
       "1048570    0.03048\n",
       "1048571   -0.09144\n",
       "1048572    0.18288\n",
       "1048573    0.36576\n",
       "1048574   -0.30480\n",
       "Name: xAcceleration, Length: 1048575, dtype: float64"
      ]
     },
     "execution_count": 14,
     "metadata": {},
     "output_type": "execute_result"
    }
   ],
   "source": [
    "_data.xAcceleration"
   ]
  },
  {
   "cell_type": "code",
   "execution_count": 6,
   "metadata": {},
   "outputs": [],
   "source": [
    "def get_interaction_vehicle_indices(tensor, max_dist=50, grid_dist=1000):\n",
    "    \"\"\"\n",
    "    Finds nearby vehicle IDs within a distance threshold using a grid-based approach.\n",
    "    Returns a tensor of shape (N, M), where N = input size and M = max neighbors (padded with 0).\n",
    "    \n",
    "    Args:\n",
    "        tensor (torch.Tensor): Shape (N, 4) where:\n",
    "            - Column 0: Frame number\n",
    "            - Column 1: Vehicle ID\n",
    "            - Column 2: X coordinate\n",
    "            - Column 3: Y coordinate\n",
    "        distance_threshold (float): Distance threshold to consider as \"nearby\".\n",
    "        max_neighbors (int): Maximum number of neighbors to keep per vehicle (padded with 0).\n",
    "\n",
    "    Returns:\n",
    "        torch.Tensor: Shape (N, M), where each row contains up to `M` nearest vehicle IDs.\n",
    "    \"\"\"\n",
    "    frames = tensor[:, 0]  # Extract frame column\n",
    "    positions = tensor[:, 2:4]  # Extract x, y coordinates\n",
    "    vids = tensor[:, 1]\n",
    "    lengths = tensor[:, -3]\n",
    "    widths = tensor[:, -2]\n",
    "    directions = tensor[:, -1]\n",
    "    indices = torch.arange(tensor.shape[0], device=tensor.device)  # Create an index for vehicle IDs\n",
    "    \n",
    "    allow_reverse = True\n",
    "     # **Step 1: Assign grid IDs (divide x-coordinates by 50m)**\n",
    "    grid_x = (positions[:, 0] // grid_dist).int()  # Grid ID based on x position\n",
    "\n",
    "    unique_grid = torch.sort(torch.unique(grid_x))[0]\n",
    "\n",
    "    keys = []\n",
    "    neighbors = []\n",
    "\n",
    "    for grid in tqdm(unique_grid):\n",
    "        neighbor_grid_mask = (grid_x - grid ==1) | (grid_x == grid)\n",
    "\n",
    "        neighbor_grid_positions = positions[neighbor_grid_mask]\n",
    "        neighbor_grid_frames = frames[neighbor_grid_mask]\n",
    "        neighbor_grid_indices = indices[neighbor_grid_mask]\n",
    "        neighbor_grid_directions = directions[neighbor_grid_mask]\n",
    "        neighbor_lengths = lengths[neighbor_grid_mask]\n",
    "        neighbor_widths = widths[neighbor_grid_mask]\n",
    "\n",
    "        _neighbor_grid_position_x = torch.abs(neighbor_grid_positions[:,0].unsqueeze(1) - neighbor_grid_positions[:,0].unsqueeze(0)) - 0.5*(neighbor_lengths.unsqueeze(1)+neighbor_lengths.unsqueeze(0))\n",
    "        \n",
    "        \n",
    "        neighbor_grid_position_x = torch.clamp(_neighbor_grid_position_x, min=0)\n",
    "        neighbor_dist_mask = neighbor_grid_position_x < max_dist\n",
    "\n",
    "        # neighbor_dist_mask = (torch.norm(neighbor_grid_positions.unsqueeze(1) - neighbor_grid_positions.unsqueeze(0), dim=2) < max_dist) \n",
    "        frame_mask = neighbor_grid_frames.unsqueeze(1) == neighbor_grid_frames.unsqueeze(0)\n",
    "        direction_mask = neighbor_grid_directions.unsqueeze(1) == neighbor_grid_directions.unsqueeze(0)\n",
    "        neighbor_mask = neighbor_dist_mask & frame_mask & direction_mask\n",
    "        n_shape = neighbor_mask.shape[0]\n",
    "        neighbor_mask[range(n_shape), range(n_shape)] = 0\n",
    "        \n",
    "        idx_x, idx_y = torch.where(neighbor_mask)\n",
    "\n",
    "        keys.append (neighbor_grid_indices[idx_x])\n",
    "        neighbors.append (neighbor_grid_indices[idx_y])\n",
    "\n",
    "    pairs = torch.stack((torch.cat(keys), torch.cat(neighbors)), dim=1)\n",
    "    pairs = pairs if allow_reverse else torch.sort(pairs, dim=1)[0]\n",
    "    unique_pairs = torch.unique(pairs, dim=0)\n",
    "\n",
    "    return unique_pairs"
   ]
  },
  {
   "cell_type": "code",
   "execution_count": 7,
   "metadata": {},
   "outputs": [],
   "source": [
    "tracks = _data[(_data.frame<=1600)&(_data.frame>=1500)]"
   ]
  },
  {
   "cell_type": "code",
   "execution_count": 8,
   "metadata": {},
   "outputs": [
    {
     "name": "stderr",
     "output_type": "stream",
     "text": [
      "100%|██████████| 11/11 [00:00<00:00, 155.33it/s]\n"
     ]
    }
   ],
   "source": [
    "pairs = get_interaction_vehicle_indices(torch.tensor(tracks.values[:,(1,0,3,4,-3,-2,1)], device='cuda'), grid_dist=50)"
   ]
  },
  {
   "cell_type": "code",
   "execution_count": 10,
   "metadata": {},
   "outputs": [
    {
     "data": {
      "text/plain": [
       "tensor([[    0,    16],\n",
       "        [    0,    17],\n",
       "        [    0,    56],\n",
       "        ...,\n",
       "        [15724, 15598],\n",
       "        [15724, 15660],\n",
       "        [15724, 15681]], device='cuda:0')"
      ]
     },
     "execution_count": 10,
     "metadata": {},
     "output_type": "execute_result"
    }
   ],
   "source": [
    "pairs"
   ]
  },
  {
   "cell_type": "code",
   "execution_count": 9,
   "metadata": {},
   "outputs": [
    {
     "data": {
      "text/plain": [
       "100646    495.561518\n",
       "100647    495.936118\n",
       "100648    496.310412\n",
       "100649    496.685011\n",
       "100650    497.059306\n",
       "             ...    \n",
       "251445     49.141075\n",
       "251446     49.747627\n",
       "251447     50.391365\n",
       "251448     51.038760\n",
       "251449     51.680364\n",
       "Name: x, Length: 15725, dtype: float64"
      ]
     },
     "execution_count": 9,
     "metadata": {},
     "output_type": "execute_result"
    }
   ],
   "source": [
    "tracks.x"
   ]
  },
  {
   "cell_type": "code",
   "execution_count": null,
   "metadata": {},
   "outputs": [],
   "source": []
  },
  {
   "cell_type": "code",
   "execution_count": 23,
   "metadata": {},
   "outputs": [
    {
     "data": {
      "text/plain": [
       "[-0.5, 3.5, 7.25, 11.0, 14.75, 18.5, 22.5]"
      ]
     },
     "execution_count": 23,
     "metadata": {},
     "output_type": "execute_result"
    },
    {
     "data": {
      "image/png": "[encoded data removed]",
      "text/plain": [
       "<Figure size 640x480 with 1 Axes>"
      ]
     },
     "metadata": {},
     "output_type": "display_data"
    }
   ],
   "source": [
    "plt.hist(_data.y, bins=80)\n",
    "lanes = [-0.5,  3.5 ,  7.25, 11.  , 14.75, 18.5 , 22.5]\n",
    "_ = [ plt.axvline(l) for l in lanes ]\n",
    "lanes"
   ]
  },
  {
   "cell_type": "code",
   "execution_count": null,
   "metadata": {},
   "outputs": [],
   "source": []
  }
 ],
 "metadata": {
  "kernelspec": {
   "display_name": "field",
   "language": "python",
   "name": "python3"
  },
  "language_info": {
   "codemirror_mode": {
    "name": "ipython",
    "version": 3
   },
   "file_extension": ".py",
   "mimetype": "text/x-python",
   "name": "python",
   "nbconvert_exporter": "python",
   "pygments_lexer": "ipython3",
   "version": "3.12.9"
  }
 },
 "nbformat": 4,
 "nbformat_minor": 2
}
