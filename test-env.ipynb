{
 "cells": [
  {
   "cell_type": "code",
   "execution_count": 1,
   "metadata": {},
   "outputs": [],
   "source": [
    "from env import HighwayEnv, convert_highd_sample_to_gail_expert\n",
    "import torch\n",
    "import numpy as np\n",
    "import matplotlib.pyplot as plt\n",
    "import pandas as pd\n",
    "import copy"
   ]
  },
  {
   "cell_type": "code",
   "execution_count": 85,
   "metadata": {},
   "outputs": [],
   "source": [
    "tracks = pd.read_csv(r\"E:\\Data\\highd-dataset-v1.0\\data\\26_tracks.csv\")"
   ]
  },
  {
   "cell_type": "code",
   "execution_count": 86,
   "metadata": {},
   "outputs": [],
   "source": [
    "cars = tracks[tracks['width'] < 10]"
   ]
  },
  {
   "cell_type": "code",
   "execution_count": 87,
   "metadata": {},
   "outputs": [],
   "source": [
    "trucks = tracks[~ (tracks['width'] < 10)]"
   ]
  },
  {
   "cell_type": "code",
   "execution_count": 94,
   "metadata": {},
   "outputs": [
    {
     "data": {
      "text/plain": [
       "(4.882984629486892, 1.0121729613031003)"
      ]
     },
     "execution_count": 94,
     "metadata": {},
     "output_type": "execute_result"
    }
   ],
   "source": [
    "cars.width.mean(), cars.width.std()"
   ]
  },
  {
   "cell_type": "code",
   "execution_count": 92,
   "metadata": {},
   "outputs": [
    {
     "data": {
      "text/plain": [
       "(1.905026873778759, 0.17756152419257806)"
      ]
     },
     "execution_count": 92,
     "metadata": {},
     "output_type": "execute_result"
    }
   ],
   "source": [
    "cars.height.mean(), cars.height.std()"
   ]
  },
  {
   "cell_type": "code",
   "execution_count": 96,
   "metadata": {},
   "outputs": [
    {
     "data": {
      "text/plain": [
       "(15.708948857121014, 2.5270073585535773)"
      ]
     },
     "execution_count": 96,
     "metadata": {},
     "output_type": "execute_result"
    }
   ],
   "source": [
    "trucks.width.mean(), trucks.width.std()"
   ]
  },
  {
   "cell_type": "code",
   "execution_count": 90,
   "metadata": {},
   "outputs": [
    {
     "data": {
      "text/plain": [
       "(2.507716960137265, 0.0781221255525807)"
      ]
     },
     "execution_count": 90,
     "metadata": {},
     "output_type": "execute_result"
    }
   ],
   "source": [
    "trucks.height.mean(), trucks.height.std()"
   ]
  },
  {
   "cell_type": "code",
   "execution_count": 428,
   "metadata": {},
   "outputs": [
    {
     "data": {
      "text/plain": [
       "array([0.        , 0.0877551 , 0.0042796 , 0.44507042, 0.40780142,\n",
       "       0.05775578, 0.        ])"
      ]
     },
     "execution_count": 428,
     "metadata": {},
     "output_type": "execute_result"
    }
   ],
   "source": [
    "lanes = tracks.laneId.unique()\n",
    "\n",
    "num_cars = np.array([ cars[cars.laneId==l].id.nunique() for l in lanes])\n",
    "num_trucks = np.array([ trucks[trucks.laneId==l].id.nunique() for l in lanes])\n",
    "\n",
    "num_trucks / (num_cars + num_trucks)"
   ]
  },
  {
   "cell_type": "code",
   "execution_count": null,
   "metadata": {},
   "outputs": [],
   "source": []
  },
  {
   "cell_type": "code",
   "execution_count": null,
   "metadata": {},
   "outputs": [],
   "source": []
  },
  {
   "cell_type": "code",
   "execution_count": 4,
   "metadata": {},
   "outputs": [],
   "source": [
    "samples = tracks[(tracks.frame>=25*100)&(tracks.frame<=25*220)]\n",
    "samples.to_csv(\"./data/26_sample_tracks.csv\")"
   ]
  },
  {
   "cell_type": "code",
   "execution_count": 145,
   "metadata": {},
   "outputs": [],
   "source": [
    "forward_mask = samples.groupby('id').xVelocity.transform('mean') > 0"
   ]
  },
  {
   "cell_type": "code",
   "execution_count": 146,
   "metadata": {},
   "outputs": [],
   "source": [
    "forward = False"
   ]
  },
  {
   "cell_type": "code",
   "execution_count": 147,
   "metadata": {},
   "outputs": [
    {
     "name": "stderr",
     "output_type": "stream",
     "text": [
      "C:\\Users\\Lucas\\AppData\\Local\\Temp\\ipykernel_52744\\3569966275.py:6: SettingWithCopyWarning: \n",
      "A value is trying to be set on a copy of a slice from a DataFrame.\n",
      "Try using .loc[row_indexer,col_indexer] = value instead\n",
      "\n",
      "See the caveats in the documentation: https://pandas.pydata.org/pandas-docs/stable/user_guide/indexing.html#returning-a-view-versus-a-copy\n",
      "  df['center_x'] = df['x'] + 0.5 * df['width']\n",
      "C:\\Users\\Lucas\\AppData\\Local\\Temp\\ipykernel_52744\\3569966275.py:7: SettingWithCopyWarning: \n",
      "A value is trying to be set on a copy of a slice from a DataFrame.\n",
      "Try using .loc[row_indexer,col_indexer] = value instead\n",
      "\n",
      "See the caveats in the documentation: https://pandas.pydata.org/pandas-docs/stable/user_guide/indexing.html#returning-a-view-versus-a-copy\n",
      "  df['center_y'] = df['y'] + 0.5 * df['height']\n"
     ]
    },
    {
     "data": {
      "text/plain": [
       "(419.9, -18.165)"
      ]
     },
     "execution_count": 147,
     "metadata": {},
     "output_type": "execute_result"
    }
   ],
   "source": [
    "# average speed\n",
    "df = samples[forward_mask] if forward else samples[~forward_mask]\n",
    "df.groupby('laneId').xVelocity.mean()\n",
    "\n",
    "# Compute vehicle center positions\n",
    "df['center_x'] = df['x'] + 0.5 * df['width']\n",
    "df['center_y'] = df['y'] + 0.5 * df['height']\n",
    "\n",
    "# Get road start:\n",
    "road_start = df['center_x'].min() - 10.0 if forward else df['center_x'].max() + 10.0 \n",
    "road_end = df['center_x'].max() + 10.0 if forward else df['center_x'].min() - 10.0\n",
    "\n",
    "road_start, road_end"
   ]
  },
  {
   "cell_type": "code",
   "execution_count": 148,
   "metadata": {},
   "outputs": [
    {
     "data": {
      "text/plain": [
       "laneId\n",
       "2    1\n",
       "3    3\n",
       "4    5\n",
       "5    4\n",
       "7    1\n",
       "8    3\n",
       "9    2\n",
       "Name: id, dtype: int64"
      ]
     },
     "execution_count": 148,
     "metadata": {},
     "output_type": "execute_result"
    }
   ],
   "source": [
    "# first frame number of vehicles\n",
    "firstFrameNumOfVehiclesPerLane = samples[samples.frame == samples.frame.min()].groupby('laneId')['id'].nunique()\n",
    "firstFrameNumOfVehiclesPerLane"
   ]
  },
  {
   "cell_type": "code",
   "execution_count": 149,
   "metadata": {},
   "outputs": [],
   "source": [
    "# Assume df is your DataFrame with columns: 'id', 'frame', 'laneId'\n",
    "global_first_frame = df['frame'].min()\n",
    "\n",
    "# Get the time length of dataset in seconds\n",
    "lenT = (df['frame'].max() - df['frame'].min()) * (1/25)\n",
    "\n",
    "# For each vehicle, get the first appearance (minimum frame)\n",
    "first_appearance = df.sort_values('frame').groupby('id', as_index=False).first()\n",
    "\n",
    "# Exclude vehicles that first appear in the global first frame\n",
    "first_appearance_after = first_appearance[first_appearance['frame'] > global_first_frame]\n",
    "\n",
    "# Create a mapping (or simply keep the columns 'id' and 'laneId')\n",
    "first_appearance_laneId = first_appearance_after[['id', 'laneId']]\n",
    "\n",
    "# Get the number of vehicles spawned on each lane\n",
    "lane_vehicles_spawned = first_appearance_laneId.groupby('laneId').size()\n",
    "\n",
    "# Get the number arrival ratio per lane, from left to right\n",
    "lane_arrival_ratio = lane_vehicles_spawned / lenT\n",
    "\n",
    "# Reverse if backward\n",
    "lane_arrival_ratio = lane_arrival_ratio.values if forward else lane_arrival_ratio.values[::-1]"
   ]
  },
  {
   "cell_type": "code",
   "execution_count": 150,
   "metadata": {},
   "outputs": [],
   "source": [
    "# last appearance \n",
    "last_appearance = df.sort_values('frame').groupby('id', as_index=False).last()"
   ]
  },
  {
   "cell_type": "code",
   "execution_count": 151,
   "metadata": {},
   "outputs": [],
   "source": [
    "num_lanes = df.laneId.nunique()"
   ]
  },
  {
   "cell_type": "code",
   "execution_count": 160,
   "metadata": {},
   "outputs": [],
   "source": [
    "arrival_lane_map = first_appearance[['id', 'laneId']].set_index('id')\n",
    "departure_lane_map = last_appearance[['id', 'laneId']].set_index('id')\n",
    "\n",
    "# Combine into a DataFrame.\n",
    "arr_depart = pd.DataFrame({\n",
    "    'arrival': arrival_lane_map.laneId,\n",
    "    'departure': departure_lane_map.laneId\n",
    "}, index=arrival_lane_map.index)\n",
    "\n",
    "# Create a contingency table that counts vehicles for each (arrival, departure) pair.\n",
    "table = pd.crosstab(arr_depart['arrival'], arr_depart['departure'])\n",
    "\n",
    "# Determine all lanes that appear in either series.\n",
    "all_lanes = sorted(set(arrival_lane_map.laneId.unique()) | set(departure_lane_map.laneId.unique()))\n",
    "N = len(all_lanes)\n",
    "\n",
    "# Reindex the table to ensure it has rows and columns for all lanes.\n",
    "# This fills missing rows/columns with 0.\n",
    "table = table.reindex(index=all_lanes, columns=all_lanes, fill_value=0)\n",
    "\n",
    "# Normalize each row (arrival lane) so that they sum to 1.\n",
    "M = table.div(table.sum(axis=1), axis=0).values\n",
    "\n",
    "lcRatio = M if forward else M[::-1, ::-1]\n"
   ]
  },
  {
   "cell_type": "code",
   "execution_count": 164,
   "metadata": {},
   "outputs": [
    {
     "data": {
      "text/plain": [
       "array([40.65462569, 32.89017657, 25.07124386, 21.23384049])"
      ]
     },
     "execution_count": 164,
     "metadata": {},
     "output_type": "execute_result"
    }
   ],
   "source": [
    "lane_vel = df.groupby('laneId').xVelocity.mean().abs().values\n",
    "lane_avg_vel = lane_vel if forward else lane_vel[::-1]\n",
    "lane_avg_vel"
   ]
  },
  {
   "cell_type": "code",
   "execution_count": 1,
   "metadata": {},
   "outputs": [],
   "source": [
    "from env import HighwayEnv, convert_highd_sample_to_gail_expert\n",
    "import torch\n",
    "import numpy as np\n",
    "import matplotlib.pyplot as plt\n",
    "import pandas as pd\n",
    "import copy"
   ]
  },
  {
   "cell_type": "code",
   "execution_count": 2,
   "metadata": {},
   "outputs": [],
   "source": [
    "expert_data, df = convert_highd_sample_to_gail_expert(\n",
    "        sample_csv=r\"./data/26_sample_tracks.csv\",\n",
    "        meta_csv=r\"E:\\Data\\highd-dataset-v1.0\\data\\26_recordingMeta.csv\",\n",
    "        forward=False,\n",
    "        p_agent=0.5\n",
    "    )"
   ]
  },
  {
   "cell_type": "code",
   "execution_count": 53,
   "metadata": {},
   "outputs": [],
   "source": [
    "# Create the environment and set expert data.\n",
    "env = HighwayEnv(dt=0.2, T=50, generation_mode=False, demo_mode=True)\n",
    "# Uncomment and update the following line when expert_data is available:\n",
    "env.set_expert_data(expert_data)"
   ]
  },
  {
   "cell_type": "code",
   "execution_count": 54,
   "metadata": {},
   "outputs": [
    {
     "data": {
      "image/png": "[encoded data removed]",
      "text/plain": [
       "<Figure size 1200x300 with 1 Axes>"
      ]
     },
     "metadata": {},
     "output_type": "display_data"
    }
   ],
   "source": [
    "obs = env.reset()\n",
    "env.render()"
   ]
  },
  {
   "cell_type": "code",
   "execution_count": 92,
   "metadata": {},
   "outputs": [
    {
     "data": {
      "image/png": "[encoded data removed]",
      "text/plain": [
       "<Figure size 1200x300 with 1 Axes>"
      ]
     },
     "metadata": {},
     "output_type": "display_data"
    }
   ],
   "source": [
    "# Example: apply an action of [1.0, 0.5] for every vehicle slot.\n",
    "actions = torch.full((env.N_max, 2), 5.0)\n",
    "actions[:, 1] = 0\n",
    "obs, reward, done, info = env.step(actions)\n",
    "env.render()"
   ]
  },
  {
   "cell_type": "code",
   "execution_count": 93,
   "metadata": {},
   "outputs": [
    {
     "data": {
      "text/plain": [
       "tensor([[-0.2700,  0.0000],\n",
       "        [-0.4700,  0.0000],\n",
       "        [-0.5000, -0.0000],\n",
       "        [ 0.3100,  0.0000],\n",
       "        [-0.1200,  0.0000],\n",
       "        [-0.5800, -0.0500],\n",
       "        [-0.3700,  0.0000],\n",
       "        [-0.3500, -0.0500],\n",
       "        [-0.2000,  0.0000],\n",
       "        [ 5.0000,  0.0000],\n",
       "        [ 5.0000,  0.0000],\n",
       "        [ 0.1700,  0.0000],\n",
       "        [ 0.5300,  0.0000],\n",
       "        [ 5.0000,  0.0000],\n",
       "        [-0.2200, -0.0500],\n",
       "        [-0.2300,  0.0500],\n",
       "        [ 0.6300, -0.2000],\n",
       "        [-0.0400,  0.0000],\n",
       "        [ 0.5300,  0.0500],\n",
       "        [ 0.0000, -0.0500],\n",
       "        [ 0.1400,  0.1000],\n",
       "        [-0.3800,  0.0500],\n",
       "        [ 0.1700,  0.1000],\n",
       "        [-0.3400,  0.1000],\n",
       "        [-0.5400,  0.0500],\n",
       "        [-0.1900, -0.0500],\n",
       "        [-0.3600,  0.0500],\n",
       "        [-0.3000,  0.0000],\n",
       "        [-0.1400,  0.1000],\n",
       "        [ 0.1800,  0.0000],\n",
       "        [-0.4100,  0.0500],\n",
       "        [ 0.1400,  0.0500],\n",
       "        [ 0.2000,  0.0500],\n",
       "        [-0.4100,  0.0500],\n",
       "        [-0.0400,  0.0500],\n",
       "        [ 0.2400, -0.0500],\n",
       "        [-0.3100,  0.0000],\n",
       "        [ 5.0000,  0.0000],\n",
       "        [ 5.0000,  0.0000],\n",
       "        [ 5.0000,  0.0000],\n",
       "        [ 5.0000,  0.0000],\n",
       "        [ 5.0000,  0.0000],\n",
       "        [ 5.0000,  0.0000],\n",
       "        [ 5.0000,  0.0000],\n",
       "        [ 5.0000,  0.0000],\n",
       "        [ 5.0000,  0.0000],\n",
       "        [ 5.0000,  0.0000],\n",
       "        [ 5.0000,  0.0000],\n",
       "        [ 5.0000,  0.0000],\n",
       "        [ 5.0000,  0.0000],\n",
       "        [ 5.0000,  0.0000],\n",
       "        [ 5.0000,  0.0000],\n",
       "        [ 5.0000,  0.0000],\n",
       "        [ 5.0000,  0.0000],\n",
       "        [ 5.0000,  0.0000],\n",
       "        [ 5.0000,  0.0000],\n",
       "        [ 5.0000,  0.0000],\n",
       "        [ 5.0000,  0.0000],\n",
       "        [ 5.0000,  0.0000],\n",
       "        [ 5.0000,  0.0000],\n",
       "        [ 5.0000,  0.0000],\n",
       "        [ 5.0000,  0.0000],\n",
       "        [ 5.0000,  0.0000],\n",
       "        [ 5.0000,  0.0000],\n",
       "        [ 5.0000,  0.0000],\n",
       "        [ 5.0000,  0.0000],\n",
       "        [ 5.0000,  0.0000],\n",
       "        [ 5.0000,  0.0000],\n",
       "        [ 5.0000,  0.0000],\n",
       "        [ 5.0000,  0.0000],\n",
       "        [ 5.0000,  0.0000],\n",
       "        [ 5.0000,  0.0000],\n",
       "        [ 5.0000,  0.0000],\n",
       "        [ 5.0000,  0.0000],\n",
       "        [ 5.0000,  0.0000],\n",
       "        [ 5.0000,  0.0000],\n",
       "        [ 5.0000,  0.0000],\n",
       "        [ 5.0000,  0.0000],\n",
       "        [ 5.0000,  0.0000],\n",
       "        [ 5.0000,  0.0000],\n",
       "        [ 5.0000,  0.0000],\n",
       "        [ 5.0000,  0.0000],\n",
       "        [ 5.0000,  0.0000],\n",
       "        [ 5.0000,  0.0000],\n",
       "        [ 5.0000,  0.0000],\n",
       "        [ 5.0000,  0.0000],\n",
       "        [ 5.0000,  0.0000],\n",
       "        [ 5.0000,  0.0000],\n",
       "        [ 5.0000,  0.0000],\n",
       "        [ 5.0000,  0.0000],\n",
       "        [ 5.0000,  0.0000],\n",
       "        [ 5.0000,  0.0000],\n",
       "        [ 5.0000,  0.0000],\n",
       "        [ 5.0000,  0.0000],\n",
       "        [ 5.0000,  0.0000],\n",
       "        [ 5.0000,  0.0000],\n",
       "        [ 5.0000,  0.0000],\n",
       "        [ 5.0000,  0.0000],\n",
       "        [ 5.0000,  0.0000],\n",
       "        [ 5.0000,  0.0000]])"
      ]
     },
     "execution_count": 93,
     "metadata": {},
     "output_type": "execute_result"
    }
   ],
   "source": [
    "actions"
   ]
  },
  {
   "cell_type": "code",
   "execution_count": 213,
   "metadata": {},
   "outputs": [
    {
     "data": {
      "text/plain": [
       "dict_keys(['time_dependent', 'time_independent', 'lane_markers', 'boundary_lines', 'agent_mask'])"
      ]
     },
     "execution_count": 213,
     "metadata": {},
     "output_type": "execute_result"
    }
   ],
   "source": [
    "obs.keys()"
   ]
  },
  {
   "cell_type": "code",
   "execution_count": 214,
   "metadata": {},
   "outputs": [
    {
     "data": {
      "text/plain": [
       "tensor([[[ 2.7355e+01,  8.9740e+00, -8.1080e+00, -2.0000e-02],\n",
       "         [ 4.3939e+01,  8.7640e+00, -7.7940e+00, -3.0000e-02],\n",
       "         [ 5.4317e+01,  8.4350e+00, -8.4400e+00,  2.0000e-02],\n",
       "         ...,\n",
       "         [        nan,         nan,         nan,         nan],\n",
       "         [        nan,         nan,         nan,         nan],\n",
       "         [        nan,         nan,         nan,         nan]],\n",
       "\n",
       "        [[ 2.5732e+01,  8.9690e+00, -8.1220e+00, -3.0000e-02],\n",
       "         [ 4.2386e+01,  8.7590e+00, -7.7380e+00, -2.0000e-02],\n",
       "         [ 5.2650e+01,  8.4390e+00, -8.2300e+00,  2.0000e-02],\n",
       "         ...,\n",
       "         [        nan,         nan,         nan,         nan],\n",
       "         [        nan,         nan,         nan,         nan],\n",
       "         [        nan,         nan,         nan,         nan]],\n",
       "\n",
       "        [[ 2.4104e+01,  8.9620e+00, -8.1500e+00, -4.0000e-02],\n",
       "         [ 4.0843e+01,  8.7550e+00, -7.6880e+00, -2.0000e-02],\n",
       "         [ 5.1022e+01,  8.4440e+00, -8.0520e+00,  3.0000e-02],\n",
       "         ...,\n",
       "         [        nan,         nan,         nan,         nan],\n",
       "         [        nan,         nan,         nan,         nan],\n",
       "         [        nan,         nan,         nan,         nan]],\n",
       "\n",
       "        ...,\n",
       "\n",
       "        [[ 2.8108e+02,  1.3128e+01, -1.4852e+01, -4.0000e-02],\n",
       "         [ 3.0358e+02,  1.3519e+01, -1.4964e+01, -1.0000e-02],\n",
       "         [ 3.2640e+02,  1.2545e+01, -1.2862e+01, -1.0000e-02],\n",
       "         ...,\n",
       "         [        nan,         nan,         nan,         nan],\n",
       "         [        nan,         nan,         nan,         nan],\n",
       "         [        nan,         nan,         nan,         nan]],\n",
       "\n",
       "        [[ 2.7809e+02,  1.3119e+01, -1.4978e+01, -5.0000e-02],\n",
       "         [ 3.0058e+02,  1.3518e+01, -1.5050e+01,  9.3132e-09],\n",
       "         [ 3.2381e+02,  1.2544e+01, -1.2990e+01,  1.8626e-09],\n",
       "         ...,\n",
       "         [        nan,         nan,         nan,         nan],\n",
       "         [        nan,         nan,         nan,         nan],\n",
       "         [        nan,         nan,         nan,         nan]],\n",
       "\n",
       "        [[ 2.7509e+02,  1.3109e+01, -1.5108e+01, -5.0000e-02],\n",
       "         [ 2.9756e+02,  1.3518e+01, -1.5122e+01,  9.3132e-09],\n",
       "         [ 3.2120e+02,  1.2544e+01, -1.3136e+01,  1.8626e-09],\n",
       "         ...,\n",
       "         [        nan,         nan,         nan,         nan],\n",
       "         [        nan,         nan,         nan,         nan],\n",
       "         [        nan,         nan,         nan,         nan]]])"
      ]
     },
     "execution_count": 214,
     "metadata": {},
     "output_type": "execute_result"
    }
   ],
   "source": [
    "obs['time_dependent']"
   ]
  },
  {
   "cell_type": "code",
   "execution_count": 24,
   "metadata": {},
   "outputs": [
    {
     "data": {
      "text/plain": [
       "tensor([1., 0., 0., 0., 0., 1., 0., 1., 0., 0., 0., 0., 0., 0., 0., 0., 0., 0.,\n",
       "        0., 0., 0., 0., 0., 0., 0., 0., 0., 0., 0., 0., 0., 0., 0., 0., 0., 0.,\n",
       "        0., 0., 0., 0., 0., 0., 0., 0., 0., 0., 0., 0., 0., 0., 0., 0., 0., 0.,\n",
       "        0., 0., 0., 0., 0., 0., 0., 0., 0., 0., 0., 0., 0., 0., 0., 0., 0., 0.,\n",
       "        0., 0., 0., 0., 0., 0., 0., 0., 0., 0., 0., 0., 0., 0., 0., 0., 0., 0.,\n",
       "        0., 0., 0., 0., 0., 0., 0., 0., 0., 0.])"
      ]
     },
     "execution_count": 24,
     "metadata": {},
     "output_type": "execute_result"
    }
   ],
   "source": [
    "obs['agent_mask']"
   ]
  },
  {
   "cell_type": "code",
   "execution_count": null,
   "metadata": {},
   "outputs": [],
   "source": []
  },
  {
   "cell_type": "code",
   "execution_count": null,
   "metadata": {},
   "outputs": [],
   "source": []
  },
  {
   "cell_type": "code",
   "execution_count": 83,
   "metadata": {},
   "outputs": [
    {
     "data": {
      "text/plain": [
       "tensor([318, 319, 324, 326, 236, 320, 321, 317, 248, 325, 322, 327, 328,  -1,\n",
       "        263,  -1,  -1,  -1,  -1, 274,  -1, 277, 280, 283, 285, 287, 288, 292,\n",
       "        293, 295, 296, 299, 300, 305, 313, 314, 315, 316, 323,  -1,  -1,  -1,\n",
       "         -1,  -1,  -1,  -1,  -1,  -1,  -1,  -1,  -1,  -1,  -1,  -1,  -1,  -1,\n",
       "         -1,  -1,  -1,  -1,  -1,  -1,  -1,  -1,  -1,  -1,  -1,  -1,  -1,  -1,\n",
       "         -1,  -1,  -1,  -1,  -1,  -1,  -1,  -1,  -1,  -1,  -1,  -1,  -1,  -1,\n",
       "         -1,  -1,  -1,  -1,  -1,  -1,  -1,  -1,  -1,  -1,  -1,  -1,  -1,  -1,\n",
       "         -1,  -1])"
      ]
     },
     "execution_count": 83,
     "metadata": {},
     "output_type": "execute_result"
    }
   ],
   "source": [
    "env.vehicle_ids"
   ]
  },
  {
   "cell_type": "code",
   "execution_count": 32,
   "metadata": {},
   "outputs": [
    {
     "data": {
      "text/plain": [
       "tensor([ 11.7499,  12.1659, -10.5580, -11.0820, -10.3660,  15.8836,      nan,\n",
       "          4.2002,  -9.8780, -12.7780,      nan, -13.3620, -15.2540, -14.6580,\n",
       "         -9.4540, -14.5680, -16.1660, -14.6980, -16.4200,  -9.6280, -14.8400,\n",
       "        -10.8700, -15.0160, -14.5060,  -8.2480, -11.4640, -14.7560,  -7.5280,\n",
       "        -15.7900, -12.1980,  -6.9200, -15.2960, -12.5520, -13.9080, -11.8800,\n",
       "         10.5659,      nan,      nan,      nan,      nan,      nan,      nan,\n",
       "             nan,      nan,      nan,      nan,      nan,      nan,      nan,\n",
       "             nan,      nan,      nan,      nan,      nan,      nan,      nan,\n",
       "             nan,      nan,      nan,      nan,      nan,      nan,      nan,\n",
       "             nan,      nan,      nan,      nan,      nan,      nan,      nan,\n",
       "             nan,      nan,      nan,      nan,      nan,      nan,      nan,\n",
       "             nan,      nan,      nan,      nan,      nan,      nan,      nan,\n",
       "             nan,      nan,      nan,      nan,      nan,      nan,      nan,\n",
       "             nan,      nan,      nan,      nan,      nan,      nan,      nan,\n",
       "             nan,      nan])"
      ]
     },
     "execution_count": 32,
     "metadata": {},
     "output_type": "execute_result"
    }
   ],
   "source": [
    "env.kinematics[:,2]"
   ]
  },
  {
   "cell_type": "code",
   "execution_count": null,
   "metadata": {},
   "outputs": [],
   "source": []
  },
  {
   "cell_type": "code",
   "execution_count": null,
   "metadata": {},
   "outputs": [],
   "source": []
  },
  {
   "cell_type": "code",
   "execution_count": 7,
   "metadata": {},
   "outputs": [
    {
     "data": {
      "text/plain": [
       "array([[1.        , 0.        , 0.        ],\n",
       "       [0.03508772, 0.92982456, 0.03508772],\n",
       "       [0.02857143, 0.        , 0.97142857]])"
      ]
     },
     "execution_count": 7,
     "metadata": {},
     "output_type": "execute_result"
    }
   ],
   "source": [
    "expert_data['lane_change_ratios']"
   ]
  },
  {
   "cell_type": "code",
   "execution_count": 8,
   "metadata": {},
   "outputs": [
    {
     "data": {
      "text/plain": [
       "array([[1.        , 0.        , 0.        ],\n",
       "       [0.03508772, 0.92982456, 0.03508772],\n",
       "       [0.02857143, 0.        , 0.97142857]])"
      ]
     },
     "execution_count": 8,
     "metadata": {},
     "output_type": "execute_result"
    }
   ],
   "source": [
    "env.lane_change_ratio"
   ]
  },
  {
   "cell_type": "code",
   "execution_count": 9,
   "metadata": {},
   "outputs": [
    {
     "data": {
      "text/plain": [
       "array([12.925,  9.125,  5.37 ])"
      ]
     },
     "execution_count": 9,
     "metadata": {},
     "output_type": "execute_result"
    }
   ],
   "source": [
    "env.lanecenters"
   ]
  },
  {
   "cell_type": "code",
   "execution_count": 92,
   "metadata": {},
   "outputs": [
    {
     "data": {
      "text/plain": [
       "tensor([326., 315., 318., 321., 327., 316., 317., 319., 248., 320., 323., 324.,\n",
       "        325.,  nan, 263.,  nan,  nan,  nan,  nan, 274.,  nan, 277.,  nan,  nan,\n",
       "        285., 287., 288., 292.,  nan, 295., 296.,  nan, 300., 305., 313.,  nan,\n",
       "         nan,  nan,  nan,  nan,  nan,  nan,  nan,  nan,  nan,  nan,  nan,  nan,\n",
       "         nan,  nan,  nan,  nan,  nan,  nan,  nan,  nan,  nan,  nan,  nan,  nan,\n",
       "         nan,  nan,  nan,  nan,  nan,  nan,  nan,  nan,  nan,  nan,  nan,  nan,\n",
       "         nan,  nan,  nan,  nan,  nan,  nan,  nan,  nan,  nan,  nan,  nan,  nan,\n",
       "         nan,  nan,  nan,  nan,  nan,  nan,  nan,  nan,  nan,  nan,  nan,  nan,\n",
       "         nan,  nan,  nan,  nan])"
      ]
     },
     "execution_count": 92,
     "metadata": {},
     "output_type": "execute_result"
    }
   ],
   "source": [
    "env.kinematics[:,-2]"
   ]
  },
  {
   "cell_type": "code",
   "execution_count": 11,
   "metadata": {},
   "outputs": [
    {
     "data": {
      "text/plain": [
       "tensor([ 5.3700,  5.3700,  5.3700,  5.3700,  5.3700,  9.1250,  9.1250, 12.9250,\n",
       "         5.3700,  9.1250, 12.9250,  9.1250,  9.1250, 12.9250,  5.3700, 12.9250,\n",
       "         5.3700, 12.9250,  9.1250,  5.3700, 12.9250,  9.1250, 12.9250, 12.9250,\n",
       "         5.3700,  9.1250, 12.9250,  5.3700, 12.9250,  9.1250,  5.3700, 12.9250,\n",
       "         9.1250, 12.9250,  9.1250,     nan,     nan,     nan,     nan,     nan,\n",
       "            nan,     nan,     nan,     nan,     nan,     nan,     nan,     nan,\n",
       "            nan,     nan,     nan,     nan,     nan,     nan,     nan,     nan,\n",
       "            nan,     nan,     nan,     nan,     nan,     nan,     nan,     nan,\n",
       "            nan,     nan,     nan,     nan,     nan,     nan,     nan,     nan,\n",
       "            nan,     nan,     nan,     nan,     nan,     nan,     nan,     nan,\n",
       "            nan,     nan,     nan,     nan,     nan,     nan,     nan,     nan,\n",
       "            nan,     nan,     nan,     nan,     nan,     nan,     nan,     nan,\n",
       "            nan,     nan,     nan,     nan])"
      ]
     },
     "execution_count": 11,
     "metadata": {},
     "output_type": "execute_result"
    }
   ],
   "source": [
    "env.kinematics[:,7]"
   ]
  },
  {
   "cell_type": "code",
   "execution_count": null,
   "metadata": {},
   "outputs": [],
   "source": []
  },
  {
   "cell_type": "code",
   "execution_count": null,
   "metadata": {},
   "outputs": [],
   "source": []
  },
  {
   "cell_type": "code",
   "execution_count": 65,
   "metadata": {},
   "outputs": [
    {
     "data": {
      "text/plain": [
       "tensor([125.0946,  35.5990,  67.3900,  58.3532, 430.7849,  24.4082,  63.0656,\n",
       "        411.7750, 397.0049,      nan, 384.6922, 417.0928, 302.3247, 381.7200,\n",
       "        337.4521, 336.8380, 290.8880, 229.5332, 244.5180, 176.7088, 233.3392,\n",
       "        216.3092, 153.9234, 127.0608, 113.4750,  14.2870,      nan,      nan,\n",
       "             nan,      nan,      nan,      nan,      nan,      nan,      nan,\n",
       "             nan,      nan,      nan,      nan,      nan,      nan,      nan,\n",
       "             nan,      nan,      nan,      nan,      nan,      nan,      nan,\n",
       "             nan,      nan,      nan,      nan,      nan,      nan,      nan,\n",
       "             nan,      nan,      nan,      nan,      nan,      nan,      nan,\n",
       "             nan,      nan,      nan,      nan,      nan,      nan,      nan,\n",
       "             nan,      nan,      nan,      nan,      nan,      nan,      nan,\n",
       "             nan,      nan,      nan,      nan,      nan,      nan,      nan,\n",
       "             nan,      nan,      nan,      nan,      nan,      nan,      nan,\n",
       "             nan,      nan,      nan,      nan,      nan,      nan,      nan,\n",
       "             nan,      nan])"
      ]
     },
     "execution_count": 65,
     "metadata": {},
     "output_type": "execute_result"
    }
   ],
   "source": [
    "env.history[-2,:,0]"
   ]
  },
  {
   "cell_type": "code",
   "execution_count": 63,
   "metadata": {},
   "outputs": [
    {
     "data": {
      "text/plain": [
       "tensor([ 74.6688,   0.0000,  27.9132,  18.0028, 387.3597, 409.7956,  12.6110,\n",
       "        375.2068, 338.1549, 369.2119, 343.4349, 341.1035, 265.6251, 314.1800,\n",
       "        278.5575, 254.4210, 232.3878, 171.6048, 191.6114, 135.9614, 168.0821,\n",
       "        150.6254, 113.8230,  97.8280,  64.8550,   0.0000,   0.0000,   0.0000,\n",
       "          0.0000,   0.0000,   0.0000,   0.0000,   0.0000,   0.0000,   0.0000,\n",
       "          0.0000,   0.0000,   0.0000,   0.0000,   0.0000,   0.0000,   0.0000,\n",
       "          0.0000,   0.0000,   0.0000,   0.0000,   0.0000,   0.0000,   0.0000,\n",
       "          0.0000,   0.0000,   0.0000,   0.0000,   0.0000,   0.0000,   0.0000,\n",
       "          0.0000,   0.0000,   0.0000,   0.0000,   0.0000,   0.0000,   0.0000,\n",
       "          0.0000,   0.0000,   0.0000,   0.0000,   0.0000,   0.0000,   0.0000,\n",
       "          0.0000,   0.0000,   0.0000,   0.0000,   0.0000,   0.0000,   0.0000,\n",
       "          0.0000,   0.0000,   0.0000,   0.0000,   0.0000,   0.0000,   0.0000,\n",
       "          0.0000,   0.0000,   0.0000,   0.0000,   0.0000,   0.0000,   0.0000,\n",
       "          0.0000,   0.0000,   0.0000,   0.0000,   0.0000,   0.0000,   0.0000,\n",
       "          0.0000,   0.0000])"
      ]
     },
     "execution_count": 63,
     "metadata": {},
     "output_type": "execute_result"
    }
   ],
   "source": [
    "obs['time_dependent'][-1,:,0]"
   ]
  },
  {
   "cell_type": "code",
   "execution_count": 50,
   "metadata": {},
   "outputs": [
    {
     "data": {
      "text/plain": [
       "tensor([[ 4.9500,  1.8200, 30.6000,  0.0000],\n",
       "        [ 6.3700,  2.1200, 38.4200,  0.0000],\n",
       "        [ 6.3700,  2.1200, 34.6900,  0.0000],\n",
       "        [ 0.0000,  0.0000,  0.0000,  0.0000],\n",
       "        [ 4.8500,  2.0200, 38.4200,  1.0000],\n",
       "        [ 4.1400,  1.7200, 34.6900,  0.0000],\n",
       "        [ 5.2600,  1.9200, 30.6000,  0.0000],\n",
       "        [ 4.6500,  1.7200, 34.6900,  1.0000],\n",
       "        [ 4.3500,  1.7200, 38.4200,  1.0000],\n",
       "        [ 4.5500,  1.8200, 30.6000,  0.0000],\n",
       "        [ 4.7500,  1.9200, 34.6900,  0.0000],\n",
       "        [ 4.7500,  1.9200, 30.6000,  1.0000],\n",
       "        [ 4.6500,  1.8200, 38.4200,  0.0000],\n",
       "        [ 7.4800,  2.1200, 30.6000,  0.0000],\n",
       "        [ 4.1400,  1.6200, 30.6000,  1.0000],\n",
       "        [ 7.7800,  2.5000, 34.6900,  1.0000],\n",
       "        [ 5.1500,  1.8200, 30.6000,  0.0000],\n",
       "        [14.5500,  2.5000, 38.4200,  0.0000],\n",
       "        [ 5.1500,  1.9200, 34.6900,  0.0000],\n",
       "        [ 5.3600,  1.9200, 38.4200,  1.0000],\n",
       "        [ 4.6500,  1.8200, 30.6000,  1.0000],\n",
       "        [ 4.9500,  1.8200, 34.6900,  1.0000],\n",
       "        [ 4.9500,  1.9200, 30.6000,  0.0000],\n",
       "        [16.9800,  2.5000, 38.4200,  0.0000],\n",
       "        [ 4.5500,  1.8200, 34.6900,  1.0000],\n",
       "        [ 0.0000,  0.0000,  0.0000,  0.0000],\n",
       "        [ 0.0000,  0.0000,  0.0000,  0.0000],\n",
       "        [ 0.0000,  0.0000,  0.0000,  0.0000],\n",
       "        [ 0.0000,  0.0000,  0.0000,  0.0000],\n",
       "        [ 0.0000,  0.0000,  0.0000,  0.0000],\n",
       "        [ 0.0000,  0.0000,  0.0000,  0.0000],\n",
       "        [ 0.0000,  0.0000,  0.0000,  0.0000],\n",
       "        [ 0.0000,  0.0000,  0.0000,  0.0000],\n",
       "        [ 0.0000,  0.0000,  0.0000,  0.0000],\n",
       "        [ 0.0000,  0.0000,  0.0000,  0.0000],\n",
       "        [ 0.0000,  0.0000,  0.0000,  0.0000],\n",
       "        [ 0.0000,  0.0000,  0.0000,  0.0000],\n",
       "        [ 0.0000,  0.0000,  0.0000,  0.0000],\n",
       "        [ 0.0000,  0.0000,  0.0000,  0.0000],\n",
       "        [ 0.0000,  0.0000,  0.0000,  0.0000],\n",
       "        [ 0.0000,  0.0000,  0.0000,  0.0000],\n",
       "        [ 0.0000,  0.0000,  0.0000,  0.0000],\n",
       "        [ 0.0000,  0.0000,  0.0000,  0.0000],\n",
       "        [ 0.0000,  0.0000,  0.0000,  0.0000],\n",
       "        [ 0.0000,  0.0000,  0.0000,  0.0000],\n",
       "        [ 0.0000,  0.0000,  0.0000,  0.0000],\n",
       "        [ 0.0000,  0.0000,  0.0000,  0.0000],\n",
       "        [ 0.0000,  0.0000,  0.0000,  0.0000],\n",
       "        [ 0.0000,  0.0000,  0.0000,  0.0000],\n",
       "        [ 0.0000,  0.0000,  0.0000,  0.0000],\n",
       "        [ 0.0000,  0.0000,  0.0000,  0.0000],\n",
       "        [ 0.0000,  0.0000,  0.0000,  0.0000],\n",
       "        [ 0.0000,  0.0000,  0.0000,  0.0000],\n",
       "        [ 0.0000,  0.0000,  0.0000,  0.0000],\n",
       "        [ 0.0000,  0.0000,  0.0000,  0.0000],\n",
       "        [ 0.0000,  0.0000,  0.0000,  0.0000],\n",
       "        [ 0.0000,  0.0000,  0.0000,  0.0000],\n",
       "        [ 0.0000,  0.0000,  0.0000,  0.0000],\n",
       "        [ 0.0000,  0.0000,  0.0000,  0.0000],\n",
       "        [ 0.0000,  0.0000,  0.0000,  0.0000],\n",
       "        [ 0.0000,  0.0000,  0.0000,  0.0000],\n",
       "        [ 0.0000,  0.0000,  0.0000,  0.0000],\n",
       "        [ 0.0000,  0.0000,  0.0000,  0.0000],\n",
       "        [ 0.0000,  0.0000,  0.0000,  0.0000],\n",
       "        [ 0.0000,  0.0000,  0.0000,  0.0000],\n",
       "        [ 0.0000,  0.0000,  0.0000,  0.0000],\n",
       "        [ 0.0000,  0.0000,  0.0000,  0.0000],\n",
       "        [ 0.0000,  0.0000,  0.0000,  0.0000],\n",
       "        [ 0.0000,  0.0000,  0.0000,  0.0000],\n",
       "        [ 0.0000,  0.0000,  0.0000,  0.0000],\n",
       "        [ 0.0000,  0.0000,  0.0000,  0.0000],\n",
       "        [ 0.0000,  0.0000,  0.0000,  0.0000],\n",
       "        [ 0.0000,  0.0000,  0.0000,  0.0000],\n",
       "        [ 0.0000,  0.0000,  0.0000,  0.0000],\n",
       "        [ 0.0000,  0.0000,  0.0000,  0.0000],\n",
       "        [ 0.0000,  0.0000,  0.0000,  0.0000],\n",
       "        [ 0.0000,  0.0000,  0.0000,  0.0000],\n",
       "        [ 0.0000,  0.0000,  0.0000,  0.0000],\n",
       "        [ 0.0000,  0.0000,  0.0000,  0.0000],\n",
       "        [ 0.0000,  0.0000,  0.0000,  0.0000],\n",
       "        [ 0.0000,  0.0000,  0.0000,  0.0000],\n",
       "        [ 0.0000,  0.0000,  0.0000,  0.0000],\n",
       "        [ 0.0000,  0.0000,  0.0000,  0.0000],\n",
       "        [ 0.0000,  0.0000,  0.0000,  0.0000],\n",
       "        [ 0.0000,  0.0000,  0.0000,  0.0000],\n",
       "        [ 0.0000,  0.0000,  0.0000,  0.0000],\n",
       "        [ 0.0000,  0.0000,  0.0000,  0.0000],\n",
       "        [ 0.0000,  0.0000,  0.0000,  0.0000],\n",
       "        [ 0.0000,  0.0000,  0.0000,  0.0000],\n",
       "        [ 0.0000,  0.0000,  0.0000,  0.0000],\n",
       "        [ 0.0000,  0.0000,  0.0000,  0.0000],\n",
       "        [ 0.0000,  0.0000,  0.0000,  0.0000],\n",
       "        [ 0.0000,  0.0000,  0.0000,  0.0000],\n",
       "        [ 0.0000,  0.0000,  0.0000,  0.0000],\n",
       "        [ 0.0000,  0.0000,  0.0000,  0.0000],\n",
       "        [ 0.0000,  0.0000,  0.0000,  0.0000],\n",
       "        [ 0.0000,  0.0000,  0.0000,  0.0000],\n",
       "        [ 0.0000,  0.0000,  0.0000,  0.0000],\n",
       "        [ 0.0000,  0.0000,  0.0000,  0.0000],\n",
       "        [ 0.0000,  0.0000,  0.0000,  0.0000]])"
      ]
     },
     "execution_count": 50,
     "metadata": {},
     "output_type": "execute_result"
    }
   ],
   "source": [
    "obs['time_independent']"
   ]
  },
  {
   "cell_type": "code",
   "execution_count": null,
   "metadata": {},
   "outputs": [],
   "source": []
  },
  {
   "cell_type": "code",
   "execution_count": null,
   "metadata": {},
   "outputs": [],
   "source": []
  },
  {
   "cell_type": "code",
   "execution_count": 69,
   "metadata": {},
   "outputs": [
    {
     "data": {
      "text/plain": [
       "tensor(34)"
      ]
     },
     "execution_count": 69,
     "metadata": {},
     "output_type": "execute_result"
    }
   ],
   "source": [
    "torch.sum(obs['time_dependent'][-1,:,0] > 0)"
   ]
  },
  {
   "cell_type": "code",
   "execution_count": null,
   "metadata": {},
   "outputs": [],
   "source": []
  },
  {
   "cell_type": "code",
   "execution_count": null,
   "metadata": {},
   "outputs": [],
   "source": []
  },
  {
   "cell_type": "code",
   "execution_count": 103,
   "metadata": {},
   "outputs": [],
   "source": [
    "veh_last_y = samples.sort_values('frame').groupby('id').last()['y']"
   ]
  },
  {
   "cell_type": "code",
   "execution_count": 3,
   "metadata": {},
   "outputs": [
    {
     "ename": "NameError",
     "evalue": "name 'env' is not defined",
     "output_type": "error",
     "traceback": [
      "\u001b[1;31m---------------------------------------------------------------------------\u001b[0m",
      "\u001b[1;31mNameError\u001b[0m                                 Traceback (most recent call last)",
      "Cell \u001b[1;32mIn[3], line 1\u001b[0m\n\u001b[1;32m----> 1\u001b[0m lanecenters \u001b[38;5;241m=\u001b[39m np\u001b[38;5;241m.\u001b[39mconcatenate((\u001b[43menv\u001b[49m\u001b[38;5;241m.\u001b[39mboundarylines[:\u001b[38;5;241m1\u001b[39m], env\u001b[38;5;241m.\u001b[39mlanemarkers, env\u001b[38;5;241m.\u001b[39mboundarylines[\u001b[38;5;241m-\u001b[39m\u001b[38;5;241m1\u001b[39m:]))\n\u001b[0;32m      2\u001b[0m laneindices \u001b[38;5;241m=\u001b[39m np\u001b[38;5;241m.\u001b[39margmin( np\u001b[38;5;241m.\u001b[39mabs(lanecenters \u001b[38;5;241m-\u001b[39m veh_last_y\u001b[38;5;241m.\u001b[39mvalues\u001b[38;5;241m.\u001b[39mreshape(\u001b[38;5;241m-\u001b[39m\u001b[38;5;241m1\u001b[39m,\u001b[38;5;241m1\u001b[39m)), axis\u001b[38;5;241m=\u001b[39m\u001b[38;5;241m1\u001b[39m)\n\u001b[0;32m      3\u001b[0m last_lanecenters \u001b[38;5;241m=\u001b[39m lanecenters[laneindices]\n",
      "\u001b[1;31mNameError\u001b[0m: name 'env' is not defined"
     ]
    }
   ],
   "source": [
    "lanecenters = np.concatenate((env.boundarylines[:1], env.lanemarkers, env.boundarylines[-1:]))\n",
    "laneindices = np.argmin( np.abs(lanecenters - veh_last_y.values.reshape(-1,1)), axis=1)\n",
    "last_lanecenters = lanecenters[laneindices]\n",
    "\n",
    "veh_last_lanecenters = pd.Series(last_lanecenters, index=veh_last_y.index)"
   ]
  },
  {
   "cell_type": "code",
   "execution_count": null,
   "metadata": {},
   "outputs": [
    {
     "data": {
      "image/png": "[encoded data removed]",
      "text/plain": [
       "<Figure size 1200x300 with 1 Axes>"
      ]
     },
     "metadata": {},
     "output_type": "display_data"
    }
   ],
   "source": [
    "obs = env.reset()\n",
    "env.render()"
   ]
  },
  {
   "cell_type": "code",
   "execution_count": null,
   "metadata": {},
   "outputs": [],
   "source": []
  },
  {
   "cell_type": "code",
   "execution_count": 74,
   "metadata": {},
   "outputs": [
    {
     "data": {
      "text/plain": [
       "tensor([[ 8.9326e+01,  3.6647e+01,  1.4844e+01,  6.0000e-02,  4.8500e+00,\n",
       "          1.9200e+00,  7.4000e+01],\n",
       "        [ 7.9854e+01,  4.0483e+01,  1.4406e+01, -1.2000e-01,  5.4600e+00,\n",
       "          2.0200e+00,  7.8000e+01],\n",
       "        [ 6.6916e+01,  3.6189e+01,  1.3882e+01,  9.0000e-02,  4.6500e+00,\n",
       "          1.8200e+00,  7.9000e+01],\n",
       "        [ 4.3468e+02,  4.0416e+01,  1.9700e+01,  2.0000e-02,  4.6500e+00,\n",
       "          1.7200e+00,  1.2000e+01],\n",
       "        [ 3.1263e+01,  3.2525e+01,  1.6820e+01, -1.0000e-02,  4.6500e+00,\n",
       "          1.8200e+00,  8.7000e+01],\n",
       "        [ 3.1819e+01,  3.6474e+01,  1.6560e+01, -9.0000e-02,  8.3900e+00,\n",
       "          2.5000e+00,  8.8000e+01],\n",
       "        [ 3.8855e+02,  3.6688e+01,  1.8086e+01, -1.0000e-02,  4.6500e+00,\n",
       "          1.8200e+00,  1.7000e+01],\n",
       "        [ 1.4800e-02,  0.0000e+00,  0.0000e+00,  0.0000e+00,  0.0000e+00,\n",
       "          0.0000e+00,  0.0000e+00],\n",
       "        [ 0.0000e+00,  0.0000e+00,  0.0000e+00,  0.0000e+00,  0.0000e+00,\n",
       "          0.0000e+00,  0.0000e+00],\n",
       "        [ 4.0781e+02,  3.1991e+01,  1.8772e+01,  6.0000e-02,  4.9500e+00,\n",
       "          1.8200e+00,  1.5000e+01],\n",
       "        [ 0.0000e+00,  0.0000e+00,  0.0000e+00,  0.0000e+00,  0.0000e+00,\n",
       "          0.0000e+00,  0.0000e+00],\n",
       "        [ 3.8847e+02,  3.3043e+01,  1.7386e+01,  3.0000e-02,  4.9500e+00,\n",
       "          1.8200e+00,  1.8000e+01],\n",
       "        [ 4.2212e+02,  3.6200e+01,  2.7550e+01,  0.0000e+00,  5.5600e+00,\n",
       "          2.0200e+00,  1.9000e+01],\n",
       "        [ 4.1719e+02,  3.1330e+01,  2.7570e+01, -9.0000e-02,  5.0500e+00,\n",
       "          1.8200e+00,  2.2000e+01],\n",
       "        [ 3.6910e+02,  4.0428e+01,  1.6014e+01,  1.0000e-02,  1.8800e+01,\n",
       "          2.5000e+00,  2.3000e+01],\n",
       "        [ 3.9517e+02,  3.2400e+01,  2.7480e+01,  0.0000e+00,  2.9300e+00,\n",
       "          1.6200e+00,  2.4000e+01],\n",
       "        [ 3.3842e+02,  4.0818e+01,  1.4596e+01,  4.0000e-02,  3.6400e+00,\n",
       "          1.7200e+00,  2.7000e+01],\n",
       "        [ 3.8321e+02,  3.5140e+01,  2.6500e+01, -9.0000e-02,  5.1500e+00,\n",
       "          1.8200e+00,  2.8000e+01],\n",
       "        [ 2.9466e+02,  3.2116e+01,  1.8878e+01, -5.0000e-02,  4.4500e+00,\n",
       "          1.9200e+00,  3.0000e+01],\n",
       "        [ 3.4244e+02,  4.0590e+01,  2.5790e+01,  0.0000e+00,  4.3500e+00,\n",
       "          1.7200e+00,  3.3000e+01],\n",
       "        [ 2.8863e+02,  3.7960e+01,  2.3880e+01,  1.8000e-01,  4.1400e+00,\n",
       "          1.8200e+00,  3.6000e+01],\n",
       "        [ 2.2734e+02,  3.6560e+01,  1.5780e+01, -2.0000e-02,  5.1500e+00,\n",
       "          1.9200e+00,  3.8000e+01],\n",
       "        [ 1.7775e+02,  3.2724e+01,  1.8266e+01, -2.0000e-02,  4.3500e+00,\n",
       "          1.8200e+00,  3.9000e+01],\n",
       "        [ 2.0921e+02,  4.1046e+01,  1.7206e+01,  6.0000e-02,  3.9400e+00,\n",
       "          1.7200e+00,  4.0000e+01],\n",
       "        [ 1.5648e+02,  3.6471e+01,  1.6214e+01, -1.0000e-02,  4.4500e+00,\n",
       "          1.7200e+00,  4.4000e+01],\n",
       "        [ 1.4217e+02,  4.0407e+01,  1.4104e+01,  3.0000e-02,  7.3800e+00,\n",
       "          2.5000e+00,  4.5000e+01],\n",
       "        [ 1.3342e+02,  3.2500e+01,  2.2610e+01,  0.0000e+00,  4.8500e+00,\n",
       "          1.9200e+00,  7.3000e+01],\n",
       "        [ 3.2405e+02,  3.6420e+01,  2.4070e+01,  0.0000e+00,  4.3500e+00,\n",
       "          1.7200e+00,  5.4000e+01],\n",
       "        [ 2.4715e+02,  3.1877e+01,  1.8950e+01, -7.0000e-02,  3.8400e+00,\n",
       "          1.6200e+00,  5.5000e+01],\n",
       "        [ 2.0969e+02,  3.2510e+01,  1.7928e+01,  3.0000e-02,  4.7500e+00,\n",
       "          1.8200e+00,  5.6000e+01],\n",
       "        [ 2.7602e+02,  4.0342e+01,  2.5250e+01,  2.0000e-02,  4.7500e+00,\n",
       "          1.8200e+00,  5.8000e+01],\n",
       "        [ 2.0942e+02,  3.6567e+01,  1.4978e+01, -5.0000e-02,  4.2400e+00,\n",
       "          1.8200e+00,  6.0000e+01],\n",
       "        [ 1.9331e+02,  4.1550e+01,  2.1370e+01,  1.5000e-01,  4.7500e+00,\n",
       "          1.8200e+00,  6.2000e+01],\n",
       "        [ 3.1990e+02,  4.0009e+01,  1.5578e+01, -1.0000e-02,  3.0300e+00,\n",
       "          1.7200e+00,  6.7000e+01],\n",
       "        [ 1.3929e+02,  3.6948e+01,  1.5922e+01,  6.0000e-02,  3.6400e+00,\n",
       "          1.7200e+00,  6.9000e+01],\n",
       "        [ 1.3663e+02,  3.2131e+01,  1.7154e+01,  6.0000e-02,  5.0500e+00,\n",
       "          1.8200e+00,  7.1000e+01],\n",
       "        [ 7.5424e+01,  3.2659e+01,  1.7056e+01,  1.1000e-01,  4.9500e+00,\n",
       "          1.9200e+00,  8.0000e+01],\n",
       "        [ 7.3290e+01,  3.9375e+01,  1.8790e+01, -9.0000e-02,  7.4800e+00,\n",
       "          2.4300e+00,  8.3000e+01],\n",
       "        [ 4.8696e+01,  3.6927e+01,  1.4172e+01,  6.0000e-02,  3.5400e+00,\n",
       "          1.6200e+00,  8.5000e+01],\n",
       "        [ 4.5140e+01,  4.0689e+01,  1.5424e+01,  2.0000e-02,  4.7500e+00,\n",
       "          1.9200e+00,  8.6000e+01],\n",
       "        [ 0.0000e+00,  0.0000e+00,  0.0000e+00,  0.0000e+00,  0.0000e+00,\n",
       "          0.0000e+00,  0.0000e+00],\n",
       "        [ 0.0000e+00,  0.0000e+00,  0.0000e+00,  0.0000e+00,  0.0000e+00,\n",
       "          0.0000e+00,  0.0000e+00],\n",
       "        [ 0.0000e+00,  0.0000e+00,  0.0000e+00,  0.0000e+00,  0.0000e+00,\n",
       "          0.0000e+00,  0.0000e+00],\n",
       "        [ 0.0000e+00,  0.0000e+00,  0.0000e+00,  0.0000e+00,  0.0000e+00,\n",
       "          0.0000e+00,  0.0000e+00],\n",
       "        [ 0.0000e+00,  0.0000e+00,  0.0000e+00,  0.0000e+00,  0.0000e+00,\n",
       "          0.0000e+00,  0.0000e+00],\n",
       "        [ 0.0000e+00,  0.0000e+00,  0.0000e+00,  0.0000e+00,  0.0000e+00,\n",
       "          0.0000e+00,  0.0000e+00],\n",
       "        [ 0.0000e+00,  0.0000e+00,  0.0000e+00,  0.0000e+00,  0.0000e+00,\n",
       "          0.0000e+00,  0.0000e+00],\n",
       "        [ 0.0000e+00,  0.0000e+00,  0.0000e+00,  0.0000e+00,  0.0000e+00,\n",
       "          0.0000e+00,  0.0000e+00],\n",
       "        [ 0.0000e+00,  0.0000e+00,  0.0000e+00,  0.0000e+00,  0.0000e+00,\n",
       "          0.0000e+00,  0.0000e+00],\n",
       "        [ 0.0000e+00,  0.0000e+00,  0.0000e+00,  0.0000e+00,  0.0000e+00,\n",
       "          0.0000e+00,  0.0000e+00],\n",
       "        [ 0.0000e+00,  0.0000e+00,  0.0000e+00,  0.0000e+00,  0.0000e+00,\n",
       "          0.0000e+00,  0.0000e+00],\n",
       "        [ 0.0000e+00,  0.0000e+00,  0.0000e+00,  0.0000e+00,  0.0000e+00,\n",
       "          0.0000e+00,  0.0000e+00],\n",
       "        [ 0.0000e+00,  0.0000e+00,  0.0000e+00,  0.0000e+00,  0.0000e+00,\n",
       "          0.0000e+00,  0.0000e+00],\n",
       "        [ 0.0000e+00,  0.0000e+00,  0.0000e+00,  0.0000e+00,  0.0000e+00,\n",
       "          0.0000e+00,  0.0000e+00],\n",
       "        [ 0.0000e+00,  0.0000e+00,  0.0000e+00,  0.0000e+00,  0.0000e+00,\n",
       "          0.0000e+00,  0.0000e+00],\n",
       "        [ 0.0000e+00,  0.0000e+00,  0.0000e+00,  0.0000e+00,  0.0000e+00,\n",
       "          0.0000e+00,  0.0000e+00],\n",
       "        [ 0.0000e+00,  0.0000e+00,  0.0000e+00,  0.0000e+00,  0.0000e+00,\n",
       "          0.0000e+00,  0.0000e+00],\n",
       "        [ 0.0000e+00,  0.0000e+00,  0.0000e+00,  0.0000e+00,  0.0000e+00,\n",
       "          0.0000e+00,  0.0000e+00],\n",
       "        [ 0.0000e+00,  0.0000e+00,  0.0000e+00,  0.0000e+00,  0.0000e+00,\n",
       "          0.0000e+00,  0.0000e+00],\n",
       "        [ 0.0000e+00,  0.0000e+00,  0.0000e+00,  0.0000e+00,  0.0000e+00,\n",
       "          0.0000e+00,  0.0000e+00],\n",
       "        [ 0.0000e+00,  0.0000e+00,  0.0000e+00,  0.0000e+00,  0.0000e+00,\n",
       "          0.0000e+00,  0.0000e+00],\n",
       "        [ 0.0000e+00,  0.0000e+00,  0.0000e+00,  0.0000e+00,  0.0000e+00,\n",
       "          0.0000e+00,  0.0000e+00],\n",
       "        [ 0.0000e+00,  0.0000e+00,  0.0000e+00,  0.0000e+00,  0.0000e+00,\n",
       "          0.0000e+00,  0.0000e+00],\n",
       "        [ 0.0000e+00,  0.0000e+00,  0.0000e+00,  0.0000e+00,  0.0000e+00,\n",
       "          0.0000e+00,  0.0000e+00],\n",
       "        [ 0.0000e+00,  0.0000e+00,  0.0000e+00,  0.0000e+00,  0.0000e+00,\n",
       "          0.0000e+00,  0.0000e+00],\n",
       "        [ 0.0000e+00,  0.0000e+00,  0.0000e+00,  0.0000e+00,  0.0000e+00,\n",
       "          0.0000e+00,  0.0000e+00],\n",
       "        [ 0.0000e+00,  0.0000e+00,  0.0000e+00,  0.0000e+00,  0.0000e+00,\n",
       "          0.0000e+00,  0.0000e+00],\n",
       "        [ 0.0000e+00,  0.0000e+00,  0.0000e+00,  0.0000e+00,  0.0000e+00,\n",
       "          0.0000e+00,  0.0000e+00],\n",
       "        [ 0.0000e+00,  0.0000e+00,  0.0000e+00,  0.0000e+00,  0.0000e+00,\n",
       "          0.0000e+00,  0.0000e+00],\n",
       "        [ 0.0000e+00,  0.0000e+00,  0.0000e+00,  0.0000e+00,  0.0000e+00,\n",
       "          0.0000e+00,  0.0000e+00],\n",
       "        [ 0.0000e+00,  0.0000e+00,  0.0000e+00,  0.0000e+00,  0.0000e+00,\n",
       "          0.0000e+00,  0.0000e+00],\n",
       "        [ 0.0000e+00,  0.0000e+00,  0.0000e+00,  0.0000e+00,  0.0000e+00,\n",
       "          0.0000e+00,  0.0000e+00],\n",
       "        [ 0.0000e+00,  0.0000e+00,  0.0000e+00,  0.0000e+00,  0.0000e+00,\n",
       "          0.0000e+00,  0.0000e+00],\n",
       "        [ 0.0000e+00,  0.0000e+00,  0.0000e+00,  0.0000e+00,  0.0000e+00,\n",
       "          0.0000e+00,  0.0000e+00],\n",
       "        [ 0.0000e+00,  0.0000e+00,  0.0000e+00,  0.0000e+00,  0.0000e+00,\n",
       "          0.0000e+00,  0.0000e+00],\n",
       "        [ 0.0000e+00,  0.0000e+00,  0.0000e+00,  0.0000e+00,  0.0000e+00,\n",
       "          0.0000e+00,  0.0000e+00],\n",
       "        [ 0.0000e+00,  0.0000e+00,  0.0000e+00,  0.0000e+00,  0.0000e+00,\n",
       "          0.0000e+00,  0.0000e+00],\n",
       "        [ 0.0000e+00,  0.0000e+00,  0.0000e+00,  0.0000e+00,  0.0000e+00,\n",
       "          0.0000e+00,  0.0000e+00],\n",
       "        [ 0.0000e+00,  0.0000e+00,  0.0000e+00,  0.0000e+00,  0.0000e+00,\n",
       "          0.0000e+00,  0.0000e+00],\n",
       "        [ 0.0000e+00,  0.0000e+00,  0.0000e+00,  0.0000e+00,  0.0000e+00,\n",
       "          0.0000e+00,  0.0000e+00],\n",
       "        [ 0.0000e+00,  0.0000e+00,  0.0000e+00,  0.0000e+00,  0.0000e+00,\n",
       "          0.0000e+00,  0.0000e+00],\n",
       "        [ 0.0000e+00,  0.0000e+00,  0.0000e+00,  0.0000e+00,  0.0000e+00,\n",
       "          0.0000e+00,  0.0000e+00],\n",
       "        [ 0.0000e+00,  0.0000e+00,  0.0000e+00,  0.0000e+00,  0.0000e+00,\n",
       "          0.0000e+00,  0.0000e+00],\n",
       "        [ 0.0000e+00,  0.0000e+00,  0.0000e+00,  0.0000e+00,  0.0000e+00,\n",
       "          0.0000e+00,  0.0000e+00],\n",
       "        [ 0.0000e+00,  0.0000e+00,  0.0000e+00,  0.0000e+00,  0.0000e+00,\n",
       "          0.0000e+00,  0.0000e+00],\n",
       "        [ 0.0000e+00,  0.0000e+00,  0.0000e+00,  0.0000e+00,  0.0000e+00,\n",
       "          0.0000e+00,  0.0000e+00],\n",
       "        [ 0.0000e+00,  0.0000e+00,  0.0000e+00,  0.0000e+00,  0.0000e+00,\n",
       "          0.0000e+00,  0.0000e+00],\n",
       "        [ 0.0000e+00,  0.0000e+00,  0.0000e+00,  0.0000e+00,  0.0000e+00,\n",
       "          0.0000e+00,  0.0000e+00],\n",
       "        [ 0.0000e+00,  0.0000e+00,  0.0000e+00,  0.0000e+00,  0.0000e+00,\n",
       "          0.0000e+00,  0.0000e+00],\n",
       "        [ 0.0000e+00,  0.0000e+00,  0.0000e+00,  0.0000e+00,  0.0000e+00,\n",
       "          0.0000e+00,  0.0000e+00],\n",
       "        [ 0.0000e+00,  0.0000e+00,  0.0000e+00,  0.0000e+00,  0.0000e+00,\n",
       "          0.0000e+00,  0.0000e+00],\n",
       "        [ 0.0000e+00,  0.0000e+00,  0.0000e+00,  0.0000e+00,  0.0000e+00,\n",
       "          0.0000e+00,  0.0000e+00],\n",
       "        [ 0.0000e+00,  0.0000e+00,  0.0000e+00,  0.0000e+00,  0.0000e+00,\n",
       "          0.0000e+00,  0.0000e+00],\n",
       "        [ 0.0000e+00,  0.0000e+00,  0.0000e+00,  0.0000e+00,  0.0000e+00,\n",
       "          0.0000e+00,  0.0000e+00],\n",
       "        [ 0.0000e+00,  0.0000e+00,  0.0000e+00,  0.0000e+00,  0.0000e+00,\n",
       "          0.0000e+00,  0.0000e+00],\n",
       "        [ 0.0000e+00,  0.0000e+00,  0.0000e+00,  0.0000e+00,  0.0000e+00,\n",
       "          0.0000e+00,  0.0000e+00],\n",
       "        [ 0.0000e+00,  0.0000e+00,  0.0000e+00,  0.0000e+00,  0.0000e+00,\n",
       "          0.0000e+00,  0.0000e+00],\n",
       "        [ 0.0000e+00,  0.0000e+00,  0.0000e+00,  0.0000e+00,  0.0000e+00,\n",
       "          0.0000e+00,  0.0000e+00],\n",
       "        [ 0.0000e+00,  0.0000e+00,  0.0000e+00,  0.0000e+00,  0.0000e+00,\n",
       "          0.0000e+00,  0.0000e+00],\n",
       "        [ 0.0000e+00,  0.0000e+00,  0.0000e+00,  0.0000e+00,  0.0000e+00,\n",
       "          0.0000e+00,  0.0000e+00]])"
      ]
     },
     "execution_count": 74,
     "metadata": {},
     "output_type": "execute_result"
    }
   ],
   "source": [
    "env.kinematics"
   ]
  },
  {
   "cell_type": "code",
   "execution_count": 75,
   "metadata": {},
   "outputs": [
    {
     "data": {
      "text/plain": [
       "tensor([[[ 6.9045e+01,  3.6555e+01,  1.4158e+01,  8.0000e-02],\n",
       "         [ 5.9440e+01,  4.0641e+01,  1.4764e+01, -8.0000e-02],\n",
       "         [ 4.7645e+01,  3.6034e+01,  1.3634e+01,  1.2000e-01],\n",
       "         ...,\n",
       "         [ 0.0000e+00,  0.0000e+00,  0.0000e+00,  0.0000e+00],\n",
       "         [ 0.0000e+00,  0.0000e+00,  0.0000e+00,  0.0000e+00],\n",
       "         [ 0.0000e+00,  0.0000e+00,  0.0000e+00,  0.0000e+00]],\n",
       "\n",
       "        [[ 7.1885e+01,  3.6570e+01,  1.4246e+01,  7.0000e-02],\n",
       "         [ 6.2388e+01,  4.0623e+01,  1.4710e+01, -1.0000e-01],\n",
       "         [ 5.0376e+01,  3.6058e+01,  1.3674e+01,  1.2000e-01],\n",
       "         ...,\n",
       "         [ 0.0000e+00,  0.0000e+00,  0.0000e+00,  0.0000e+00],\n",
       "         [ 0.0000e+00,  0.0000e+00,  0.0000e+00,  0.0000e+00],\n",
       "         [ 0.0000e+00,  0.0000e+00,  0.0000e+00,  0.0000e+00]],\n",
       "\n",
       "        [[ 7.4743e+01,  3.6584e+01,  1.4336e+01,  7.0000e-02],\n",
       "         [ 6.5325e+01,  4.0602e+01,  1.4658e+01, -1.1000e-01],\n",
       "         [ 5.3115e+01,  3.6082e+01,  1.3712e+01,  1.2000e-01],\n",
       "         ...,\n",
       "         [ 0.0000e+00,  0.0000e+00,  0.0000e+00,  0.0000e+00],\n",
       "         [ 0.0000e+00,  0.0000e+00,  0.0000e+00,  0.0000e+00],\n",
       "         [ 0.0000e+00,  0.0000e+00,  0.0000e+00,  0.0000e+00]],\n",
       "\n",
       "        ...,\n",
       "\n",
       "        [[ 8.3431e+01,  3.6622e+01,  1.4630e+01,  7.0000e-02],\n",
       "         [ 7.4073e+01,  4.0531e+01,  1.4502e+01, -1.2000e-01],\n",
       "         [ 6.1375e+01,  3.6149e+01,  1.3820e+01,  1.1000e-01],\n",
       "         ...,\n",
       "         [ 0.0000e+00,  0.0000e+00,  0.0000e+00,  0.0000e+00],\n",
       "         [ 0.0000e+00,  0.0000e+00,  0.0000e+00,  0.0000e+00],\n",
       "         [ 0.0000e+00,  0.0000e+00,  0.0000e+00,  0.0000e+00]],\n",
       "\n",
       "        [[ 8.6368e+01,  3.6635e+01,  1.4736e+01,  6.0000e-02],\n",
       "         [ 7.6968e+01,  4.0507e+01,  1.4452e+01, -1.2000e-01],\n",
       "         [ 6.4142e+01,  3.6170e+01,  1.3852e+01,  1.0000e-01],\n",
       "         ...,\n",
       "         [ 0.0000e+00,  0.0000e+00,  0.0000e+00,  0.0000e+00],\n",
       "         [ 0.0000e+00,  0.0000e+00,  0.0000e+00,  0.0000e+00],\n",
       "         [ 0.0000e+00,  0.0000e+00,  0.0000e+00,  0.0000e+00]],\n",
       "\n",
       "        [[ 8.9326e+01,  3.6647e+01,  1.4844e+01,  6.0000e-02],\n",
       "         [ 7.9854e+01,  4.0483e+01,  1.4406e+01, -1.2000e-01],\n",
       "         [ 6.6916e+01,  3.6189e+01,  1.3882e+01,  9.0000e-02],\n",
       "         ...,\n",
       "         [ 0.0000e+00,  0.0000e+00,  0.0000e+00,  0.0000e+00],\n",
       "         [ 0.0000e+00,  0.0000e+00,  0.0000e+00,  0.0000e+00],\n",
       "         [ 0.0000e+00,  0.0000e+00,  0.0000e+00,  0.0000e+00]]])"
      ]
     },
     "execution_count": 75,
     "metadata": {},
     "output_type": "execute_result"
    }
   ],
   "source": [
    "obs['time_dependent'][-8:]"
   ]
  },
  {
   "cell_type": "code",
   "execution_count": 629,
   "metadata": {},
   "outputs": [
    {
     "data": {
      "text/plain": [
       "torch.Size([4, 100, 7])"
      ]
     },
     "execution_count": 629,
     "metadata": {},
     "output_type": "execute_result"
    }
   ],
   "source": [
    "env.history.shape"
   ]
  },
  {
   "cell_type": "code",
   "execution_count": 679,
   "metadata": {},
   "outputs": [],
   "source": [
    "hist = torch.full((50, 100, 4), float('nan'))"
   ]
  },
  {
   "cell_type": "code",
   "execution_count": 681,
   "metadata": {},
   "outputs": [],
   "source": [
    "hist[-1] = env.kinematics[...,:4]"
   ]
  },
  {
   "cell_type": "code",
   "execution_count": 10,
   "metadata": {},
   "outputs": [
    {
     "data": {
      "text/plain": [
       "tensor([ 4.3500,  8.0800,  4.4500,  4.5500,  5.0500,  7.4800,  5.1500,  4.8500,\n",
       "         5.0500,  5.2600,  4.8500, 19.1000,  4.4500,  4.6500,  5.3600,  4.8500,\n",
       "         4.7500,  4.8500,  5.1500,  5.7600,  5.1500,  4.8500,  5.0500,  0.0000,\n",
       "         0.0000,  0.0000,  0.0000,  0.0000,  0.0000,  0.0000,  0.0000,  0.0000,\n",
       "         0.0000,  0.0000,  0.0000,  0.0000,  0.0000,  0.0000,  0.0000,  0.0000,\n",
       "         0.0000,  0.0000,  0.0000,  0.0000,  0.0000,  0.0000,  0.0000,  0.0000,\n",
       "         0.0000,  0.0000,  0.0000,  0.0000,  0.0000,  0.0000,  0.0000,  0.0000,\n",
       "         0.0000,  0.0000,  0.0000,  0.0000,  0.0000,  0.0000,  0.0000,  0.0000,\n",
       "         0.0000,  0.0000,  0.0000,  0.0000,  0.0000,  0.0000,  0.0000,  0.0000,\n",
       "         0.0000,  0.0000,  0.0000,  0.0000,  0.0000,  0.0000,  0.0000,  0.0000,\n",
       "         0.0000,  0.0000,  0.0000,  0.0000,  0.0000,  0.0000,  0.0000,  0.0000,\n",
       "         0.0000,  0.0000,  0.0000,  0.0000,  0.0000,  0.0000,  0.0000,  0.0000,\n",
       "         0.0000,  0.0000,  0.0000,  0.0000])"
      ]
     },
     "execution_count": 10,
     "metadata": {},
     "output_type": "execute_result"
    }
   ],
   "source": [
    "env.kinematics[:,4]"
   ]
  },
  {
   "cell_type": "code",
   "execution_count": null,
   "metadata": {},
   "outputs": [
    {
     "data": {
      "text/plain": [
       "array([30.6 , 42.63])"
      ]
     },
     "execution_count": 76,
     "metadata": {},
     "output_type": "execute_result"
    }
   ],
   "source": [
    "env.expert_data['boundarylines']"
   ]
  },
  {
   "cell_type": "code",
   "execution_count": 77,
   "metadata": {},
   "outputs": [
    {
     "data": {
      "text/plain": [
       "array([34.69, 38.42])"
      ]
     },
     "execution_count": 77,
     "metadata": {},
     "output_type": "execute_result"
    }
   ],
   "source": [
    "env.expert_data['lanemarkers']"
   ]
  },
  {
   "cell_type": "code",
   "execution_count": null,
   "metadata": {},
   "outputs": [],
   "source": [
    "np.concatenate([30,40][:1], [], [30,40][-1:])"
   ]
  },
  {
   "cell_type": "code",
   "execution_count": null,
   "metadata": {},
   "outputs": [],
   "source": []
  },
  {
   "cell_type": "code",
   "execution_count": null,
   "metadata": {},
   "outputs": [],
   "source": []
  },
  {
   "cell_type": "code",
   "execution_count": 25,
   "metadata": {},
   "outputs": [
    {
     "data": {
      "text/plain": [
       "torch.Size([100])"
      ]
     },
     "execution_count": 25,
     "metadata": {},
     "output_type": "execute_result"
    }
   ],
   "source": [
    "env.kinematics[:,0].shape"
   ]
  },
  {
   "cell_type": "code",
   "execution_count": 27,
   "metadata": {},
   "outputs": [
    {
     "data": {
      "text/plain": [
       "tensor([[ 3.8200e+02,  4.0203e+01,  2.3550e+01, -2.0000e-03,  7.4800e+00,\n",
       "          2.1200e+00],\n",
       "        [ 4.2352e+02,  4.0635e+01,  2.4312e+01,  1.8400e-01,  8.0800e+00,\n",
       "          2.5000e+00],\n",
       "        [ 3.9612e+02,  4.0210e+01,  2.3590e+01,  2.0000e-02,  7.4800e+00,\n",
       "          2.1200e+00],\n",
       "        [ 4.3101e+02,  3.3031e+01,  2.8252e+01,  1.4800e-01,  4.5500e+00,\n",
       "          1.8200e+00],\n",
       "        [ 4.1083e+02,  3.2714e+01,  2.9602e+01, -3.6000e-02,  5.0500e+00,\n",
       "          1.8200e+00],\n",
       "        [ 3.2621e+02,  4.0042e+01,  2.3326e+01, -1.4800e-01,  7.4800e+00,\n",
       "          2.1200e+00],\n",
       "        [ 3.5678e+02,  3.6858e+01,  2.9660e+01,  9.0000e-02,  5.1500e+00,\n",
       "          1.9200e+00],\n",
       "        [ 3.7800e+02,  3.2904e+01,  3.3350e+01,  2.0000e-02,  4.8500e+00,\n",
       "          1.8200e+00],\n",
       "        [ 3.5050e+02,  3.2135e+01,  3.1816e+01, -2.4000e-02,  5.0500e+00,\n",
       "          1.8200e+00],\n",
       "        [ 3.1321e+02,  3.2582e+01,  3.0180e+01,  6.0000e-02,  5.2600e+00,\n",
       "          1.9200e+00],\n",
       "        [ 2.9913e+02,  3.6316e+01,  2.9290e+01, -7.0000e-02,  4.8500e+00,\n",
       "          1.7200e+00],\n",
       "        [ 2.7284e+02,  4.0522e+01,  2.5390e+01, -1.4000e-01,  1.9100e+01,\n",
       "          2.5000e+00],\n",
       "        [ 2.7874e+02,  3.2676e+01,  2.8910e+01,  1.3000e-01,  4.4500e+00,\n",
       "          1.7200e+00],\n",
       "        [ 2.6955e+02,  3.6802e+01,  2.6330e+01, -6.4000e-02,  4.6500e+00,\n",
       "          1.7200e+00],\n",
       "        [ 2.5441e+02,  3.2526e+01,  2.7940e+01,  8.0000e-02,  5.3600e+00,\n",
       "          1.8200e+00],\n",
       "        [ 2.4953e+02,  3.6334e+01,  2.6008e+01, -4.4000e-02,  4.8500e+00,\n",
       "          1.8200e+00],\n",
       "        [ 2.0646e+02,  4.0420e+01,  2.6940e+01,  5.0000e-02,  4.7500e+00,\n",
       "          1.8200e+00],\n",
       "        [ 2.2676e+02,  3.2475e+01,  2.6976e+01,  1.8000e-02,  4.8500e+00,\n",
       "          1.8200e+00],\n",
       "        [ 2.1034e+02,  3.6395e+01,  2.7940e+01,  5.0000e-02,  5.1500e+00,\n",
       "          1.7700e+00],\n",
       "        [ 1.8391e+02,  3.6442e+01,  2.5112e+01,  1.2600e-01,  5.7600e+00,\n",
       "          1.9200e+00],\n",
       "        [ 1.6081e+02,  3.6664e+01,  2.7770e+01,  2.0000e-02,  5.1500e+00,\n",
       "          1.8200e+00],\n",
       "        [ 1.6384e+02,  3.2699e+01,  3.0490e+01,  1.2000e-01,  4.8500e+00,\n",
       "          1.8700e+00],\n",
       "        [ 1.0396e+02,  3.3048e+01,  2.8170e+01,  1.8000e-02,  5.0500e+00,\n",
       "          1.9200e+00],\n",
       "        [ 3.7270e+02,  4.0232e+01,  2.3744e+01,  8.0000e-03,  7.4800e+00,\n",
       "          2.1200e+00],\n",
       "        [ 4.2529e+02,  4.0346e+01,  2.4752e+01,  8.0000e-03,  8.0800e+00,\n",
       "          2.5000e+00],\n",
       "        [ 4.0186e+02,  3.2220e+01,  3.1170e+01,  8.0000e-02,  5.2600e+00,\n",
       "          1.9200e+00],\n",
       "        [ 3.8117e+02,  3.6440e+01,  2.8590e+01, -7.0000e-02,  4.8500e+00,\n",
       "          1.7200e+00],\n",
       "        [ 4.1441e+02,  3.2640e+01,  3.1670e+01, -7.0000e-02,  5.0500e+00,\n",
       "          1.8200e+00],\n",
       "        [ 3.2959e+02,  4.0130e+01,  2.5640e+01, -5.0000e-02,  7.4800e+00,\n",
       "          2.1200e+00],\n",
       "        [ 3.5643e+02,  3.6820e+01,  2.9540e+01,  8.0000e-02,  5.1500e+00,\n",
       "          1.9200e+00],\n",
       "        [ 3.7761e+02,  3.2910e+01,  3.3230e+01,  2.0000e-02,  4.8500e+00,\n",
       "          1.8200e+00],\n",
       "        [ 3.5219e+02,  3.2260e+01,  3.3110e+01,  4.0000e-02,  5.0500e+00,\n",
       "          1.8200e+00],\n",
       "        [ 3.1298e+02,  3.2510e+01,  3.0110e+01,  4.0000e-02,  5.2600e+00,\n",
       "          1.9200e+00],\n",
       "        [ 2.9876e+02,  3.6350e+01,  2.9180e+01, -6.0000e-02,  4.8500e+00,\n",
       "          1.7200e+00],\n",
       "        [ 2.7244e+02,  4.0480e+01,  2.5250e+01, -1.5000e-01,  1.9100e+01,\n",
       "          2.5000e+00],\n",
       "        [ 2.7839e+02,  3.2680e+01,  2.8790e+01,  1.3000e-01,  4.4500e+00,\n",
       "          1.7200e+00],\n",
       "        [ 2.7283e+02,  3.6860e+01,  2.8580e+01, -4.0000e-02,  4.6500e+00,\n",
       "          1.7200e+00],\n",
       "        [ 2.5385e+02,  3.2520e+01,  2.7760e+01,  8.0000e-02,  5.3600e+00,\n",
       "          1.8200e+00],\n",
       "        [ 2.5391e+02,  3.6400e+01,  2.8590e+01,  1.0000e-02,  4.8500e+00,\n",
       "          1.8200e+00],\n",
       "        [ 2.0593e+02,  4.0420e+01,  2.6760e+01,  5.0000e-02,  4.7500e+00,\n",
       "          1.8200e+00],\n",
       "        [ 2.3069e+02,  3.2530e+01,  2.9320e+01,  7.0000e-02,  4.8500e+00,\n",
       "          1.8200e+00],\n",
       "        [ 2.0982e+02,  3.6365e+01,  2.7770e+01,  4.0000e-02,  5.1500e+00,\n",
       "          1.7700e+00],\n",
       "        [ 1.8753e+02,  3.6430e+01,  2.7250e+01,  9.0000e-02,  5.7600e+00,\n",
       "          1.9200e+00],\n",
       "        [ 1.6015e+02,  3.6690e+01,  2.7550e+01,  3.0000e-02,  5.1500e+00,\n",
       "          1.8200e+00],\n",
       "        [ 1.6308e+02,  3.2725e+01,  3.0230e+01,  1.3000e-01,  4.8500e+00,\n",
       "          1.8700e+00],\n",
       "        [ 1.0709e+02,  3.3110e+01,  3.0330e+01,  6.0000e-02,  5.0500e+00,\n",
       "          1.9200e+00],\n",
       "        [ 3.8683e+02,  4.0206e+01,  2.3950e+01, -1.0000e-02,  7.4800e+00,\n",
       "          2.1200e+00],\n",
       "        [ 4.3092e+02,  4.0480e+01,  2.6040e+01,  5.0000e-02,  8.0800e+00,\n",
       "          2.5000e+00],\n",
       "        [ 3.9151e+02,  4.0202e+01,  2.3770e+01,  1.0000e-02,  7.4800e+00,\n",
       "          2.1200e+00],\n",
       "        [ 3.3858e+02,  4.0980e+01,  2.3000e+01, -6.0000e-02,  1.9100e+01,\n",
       "          2.5000e+00],\n",
       "        [ 4.1949e+02,  3.2680e+01,  3.1470e+01, -5.0000e-02,  5.0500e+00,\n",
       "          1.8200e+00],\n",
       "        [ 3.3363e+02,  4.0186e+01,  2.5480e+01, -3.0000e-02,  7.4800e+00,\n",
       "          2.1200e+00],\n",
       "        [ 3.6157e+02,  3.6740e+01,  2.9470e+01,  5.0000e-02,  5.1500e+00,\n",
       "          1.9200e+00],\n",
       "        [ 3.8352e+02,  3.2944e+01,  3.3150e+01,  3.0000e-02,  4.8500e+00,\n",
       "          1.8200e+00],\n",
       "        [ 3.5852e+02,  3.2310e+01,  3.3190e+01,  5.0000e-02,  5.0500e+00,\n",
       "          1.8200e+00],\n",
       "        [ 3.1862e+02,  3.2484e+01,  3.0180e+01,  3.0000e-02,  5.2600e+00,\n",
       "          1.9200e+00],\n",
       "        [ 3.0401e+02,  3.6426e+01,  2.9190e+01, -3.0000e-02,  4.8500e+00,\n",
       "          1.7200e+00],\n",
       "        [ 2.7662e+02,  4.0534e+01,  2.5150e+01, -1.2000e-01,  1.9100e+01,\n",
       "          2.5000e+00],\n",
       "        [ 2.8352e+02,  3.2648e+01,  2.8790e+01,  1.1000e-01,  4.4500e+00,\n",
       "          1.7200e+00],\n",
       "        [ 2.7772e+02,  3.6820e+01,  2.8500e+01, -5.0000e-02,  4.6500e+00,\n",
       "          1.7200e+00],\n",
       "        [ 2.5838e+02,  3.2478e+01,  2.7610e+01,  6.0000e-02,  5.3600e+00,\n",
       "          1.8200e+00],\n",
       "        [ 2.5838e+02,  3.6408e+01,  2.8370e+01,  1.0000e-02,  4.8500e+00,\n",
       "          1.8200e+00],\n",
       "        [ 2.1019e+02,  4.0430e+01,  2.6580e+01,  5.0000e-02,  4.7500e+00,\n",
       "          1.8200e+00],\n",
       "        [ 2.3515e+02,  3.2546e+01,  2.9040e+01,  7.0000e-02,  4.8500e+00,\n",
       "          1.8200e+00],\n",
       "        [ 2.1437e+02,  3.6311e+01,  2.7630e+01,  2.0000e-02,  5.1500e+00,\n",
       "          1.7700e+00],\n",
       "        [ 1.9205e+02,  3.6490e+01,  2.7130e+01,  1.0000e-01,  5.7600e+00,\n",
       "          1.9200e+00],\n",
       "        [ 1.6430e+02,  3.6732e+01,  2.7290e+01,  4.0000e-02,  5.1500e+00,\n",
       "          1.8200e+00],\n",
       "        [ 1.6758e+02,  3.2787e+01,  2.9920e+01,  1.4000e-01,  4.8500e+00,\n",
       "          1.8700e+00],\n",
       "        [ 1.1231e+02,  3.2996e+01,  3.0230e+01,  2.0000e-02,  5.0500e+00,\n",
       "          1.9200e+00],\n",
       "        [ 3.6342e+02,  3.2450e+01,  2.9920e+01, -3.0000e-02,  4.4500e+00,\n",
       "          1.7200e+00],\n",
       "        [ 4.2629e+02,  3.6724e+01,  2.8790e+01,  6.0000e-02,  5.1500e+00,\n",
       "          1.9200e+00],\n",
       "        [ 3.9569e+02,  3.2200e+01,  3.1080e+01,  5.0000e-02,  5.2600e+00,\n",
       "          1.9200e+00],\n",
       "        [ 4.2483e+02,  3.2758e+01,  3.1310e+01, -2.0000e-02,  5.0500e+00,\n",
       "          1.8200e+00],\n",
       "        [ 3.3779e+02,  4.0208e+01,  2.5340e+01, -2.0000e-02,  7.4800e+00,\n",
       "          2.1200e+00],\n",
       "        [ 3.6671e+02,  3.6724e+01,  2.9390e+01,  4.0000e-02,  5.1500e+00,\n",
       "          1.9200e+00],\n",
       "        [ 3.8925e+02,  3.2974e+01,  3.3010e+01,  4.0000e-02,  4.8500e+00,\n",
       "          1.8200e+00],\n",
       "        [ 3.6464e+02,  3.2320e+01,  3.3180e+01,  5.0000e-02,  5.0500e+00,\n",
       "          1.8200e+00],\n",
       "        [ 3.2435e+02,  3.2462e+01,  3.0260e+01,  2.0000e-02,  5.2600e+00,\n",
       "          1.9200e+00],\n",
       "        [ 3.0935e+02,  3.6500e+01,  2.9210e+01,  0.0000e+00,  4.8500e+00,\n",
       "          1.7200e+00],\n",
       "        [ 2.8089e+02,  4.0700e+01,  2.5070e+01, -5.0000e-02,  1.9100e+01,\n",
       "          2.5000e+00],\n",
       "        [ 2.8880e+02,  3.2598e+01,  2.8830e+01,  8.0000e-02,  4.4500e+00,\n",
       "          1.7200e+00],\n",
       "        [ 2.8265e+02,  3.6784e+01,  2.8420e+01, -6.0000e-02,  4.6500e+00,\n",
       "          1.7200e+00],\n",
       "        [ 2.6300e+02,  3.2408e+01,  2.7470e+01,  3.0000e-02,  5.3600e+00,\n",
       "          1.8200e+00],\n",
       "        [ 2.6295e+02,  3.6380e+01,  2.8160e+01,  0.0000e+00,  4.8500e+00,\n",
       "          1.8200e+00],\n",
       "        [ 2.1439e+02,  4.0440e+01,  2.6380e+01,  5.0000e-02,  4.7500e+00,\n",
       "          1.8200e+00],\n",
       "        [ 2.3955e+02,  3.2588e+01,  2.8740e+01,  8.0000e-02,  4.8500e+00,\n",
       "          1.8200e+00],\n",
       "        [ 2.1898e+02,  3.6255e+01,  2.7490e+01,  0.0000e+00,  5.1500e+00,\n",
       "          1.7700e+00],\n",
       "        [ 1.9658e+02,  3.6484e+01,  2.7010e+01,  9.0000e-02,  5.7600e+00,\n",
       "          1.9200e+00],\n",
       "        [ 1.6845e+02,  3.6770e+01,  2.7060e+01,  5.0000e-02,  5.1500e+00,\n",
       "          1.8200e+00],\n",
       "        [ 1.7219e+02,  3.2845e+01,  2.9640e+01,  1.5000e-01,  4.8500e+00,\n",
       "          1.8700e+00],\n",
       "        [ 1.1752e+02,  3.2940e+01,  3.0120e+01,  0.0000e+00,  5.0500e+00,\n",
       "          1.9200e+00],\n",
       "        [ 7.5682e+01,  3.6834e+01,  2.5920e+01,  9.0000e-02,  5.2600e+00,\n",
       "          1.8200e+00],\n",
       "        [ 3.7550e+02,  3.6452e+01,  2.8690e+01, -9.0000e-02,  4.8500e+00,\n",
       "          1.7200e+00],\n",
       "        [ 4.2063e+02,  3.6704e+01,  2.8820e+01,  4.0000e-02,  5.1500e+00,\n",
       "          1.9200e+00],\n",
       "        [ 4.2786e+02,  3.2360e+01,  3.0580e+01,  1.0000e-01,  5.0500e+00,\n",
       "          1.8200e+00],\n",
       "        [ 4.3032e+02,  3.2834e+01,  3.1180e+01,  1.0000e-02,  5.0500e+00,\n",
       "          1.8200e+00],\n",
       "        [ 3.4202e+02,  4.0260e+01,  2.5210e+01,  0.0000e+00,  7.4800e+00,\n",
       "          2.1200e+00],\n",
       "        [ 3.7187e+02,  3.6702e+01,  2.9320e+01,  3.0000e-02,  5.1500e+00,\n",
       "          1.9200e+00],\n",
       "        [ 3.9487e+02,  3.2986e+01,  3.2820e+01,  4.0000e-02,  4.8500e+00,\n",
       "          1.8200e+00],\n",
       "        [ 3.7059e+02,  3.2296e+01,  3.3080e+01,  4.0000e-02,  5.0500e+00,\n",
       "          1.8200e+00]])"
      ]
     },
     "execution_count": 27,
     "metadata": {},
     "output_type": "execute_result"
    }
   ],
   "source": [
    "env.kinematics"
   ]
  },
  {
   "cell_type": "code",
   "execution_count": 31,
   "metadata": {},
   "outputs": [
    {
     "data": {
      "text/plain": [
       "tensor([True, True, True, True, True, True, True, True, True, True, True, True,\n",
       "        True, True, True, True, True, True, True, True, True, True, True, True,\n",
       "        True, True, True, True, True, True, True, True, True, True, True, True,\n",
       "        True, True, True, True, True, True, True, True, True, True, True, True,\n",
       "        True, True, True, True, True, True, True, True, True, True, True, True,\n",
       "        True, True, True, True, True, True, True, True, True, True, True, True,\n",
       "        True, True, True, True, True, True, True, True, True, True, True, True,\n",
       "        True, True, True, True, True, True, True, True, True, True, True, True,\n",
       "        True, True, True, True])"
      ]
     },
     "execution_count": 31,
     "metadata": {},
     "output_type": "execute_result"
    }
   ],
   "source": [
    "env.exists"
   ]
  },
  {
   "cell_type": "code",
   "execution_count": 30,
   "metadata": {},
   "outputs": [
    {
     "data": {
      "text/plain": [
       "tensor([2.1200, 2.5000, 2.1200, 1.8200, 1.8200, 2.1200, 1.9200, 1.8200, 1.8200,\n",
       "        1.9200, 1.7200, 2.5000, 1.7200, 1.7200, 1.8200, 1.8200, 1.8200, 1.8200,\n",
       "        1.7700, 1.9200, 1.8200, 1.8700, 1.9200, 2.1200, 2.5000, 1.9200, 1.7200,\n",
       "        1.8200, 2.1200, 1.9200, 1.8200, 1.8200, 1.9200, 1.7200, 2.5000, 1.7200,\n",
       "        1.7200, 1.8200, 1.8200, 1.8200, 1.8200, 1.7700, 1.9200, 1.8200, 1.8700,\n",
       "        1.9200, 2.1200, 2.5000, 2.1200, 2.5000, 1.8200, 2.1200, 1.9200, 1.8200,\n",
       "        1.8200, 1.9200, 1.7200, 2.5000, 1.7200, 1.7200, 1.8200, 1.8200, 1.8200,\n",
       "        1.8200, 1.7700, 1.9200, 1.8200, 1.8700, 1.9200, 1.7200, 1.9200, 1.9200,\n",
       "        1.8200, 2.1200, 1.9200, 1.8200, 1.8200, 1.9200, 1.7200, 2.5000, 1.7200,\n",
       "        1.7200, 1.8200, 1.8200, 1.8200, 1.8200, 1.7700, 1.9200, 1.8200, 1.8700,\n",
       "        1.9200, 1.8200, 1.7200, 1.9200, 1.8200, 1.8200, 2.1200, 1.9200, 1.8200,\n",
       "        1.8200])"
      ]
     },
     "execution_count": 30,
     "metadata": {},
     "output_type": "execute_result"
    }
   ],
   "source": [
    "env.kinematics[:,5]"
   ]
  },
  {
   "cell_type": "code",
   "execution_count": 220,
   "metadata": {},
   "outputs": [
    {
     "data": {
      "text/plain": [
       "tensor([ 4.8500,  7.7800,  5.0500,  4.0400,  4.5500,  4.4500,  3.5400,  4.5500,\n",
       "        16.9800, 19.2000,  4.5500,  5.4600,  5.1500,  5.0500,  5.0500,  5.0500,\n",
       "         4.5500,  4.8500,  5.0500,  5.1500,  3.7400,  4.1400,  5.0500, 17.0800,\n",
       "        16.9800,  4.1400,  4.9500,  3.9400,  3.5400,  4.2400,  5.3600,  5.1500,\n",
       "         0.0000,  0.0000,  0.0000,  0.0000,  0.0000,  0.0000,  0.0000,  0.0000,\n",
       "         0.0000,  0.0000,  0.0000,  0.0000,  0.0000,  0.0000,  0.0000,  0.0000,\n",
       "         0.0000,  0.0000,  0.0000,  0.0000,  0.0000,  0.0000,  0.0000,  0.0000,\n",
       "         0.0000,  0.0000,  0.0000,  0.0000,  0.0000,  0.0000,  0.0000,  0.0000,\n",
       "         0.0000,  0.0000,  0.0000,  0.0000,  0.0000,  0.0000,  0.0000,  0.0000,\n",
       "         0.0000,  0.0000,  0.0000,  0.0000,  0.0000,  0.0000,  0.0000,  0.0000,\n",
       "         0.0000,  0.0000,  0.0000,  0.0000,  0.0000,  0.0000,  0.0000,  0.0000,\n",
       "         0.0000,  0.0000,  0.0000,  0.0000,  0.0000,  0.0000,  0.0000,  0.0000,\n",
       "         0.0000,  0.0000,  0.0000,  0.0000])"
      ]
     },
     "execution_count": 220,
     "metadata": {},
     "output_type": "execute_result"
    }
   ],
   "source": [
    "obs['time_independent'][:,0]"
   ]
  },
  {
   "cell_type": "code",
   "execution_count": null,
   "metadata": {},
   "outputs": [],
   "source": []
  },
  {
   "cell_type": "code",
   "execution_count": null,
   "metadata": {},
   "outputs": [],
   "source": []
  },
  {
   "cell_type": "code",
   "execution_count": null,
   "metadata": {},
   "outputs": [],
   "source": []
  },
  {
   "cell_type": "code",
   "execution_count": null,
   "metadata": {},
   "outputs": [],
   "source": [
    "# ===========================\n",
    "# Example usage:\n",
    "# ===========================\n",
    "if __name__ == '__main__':\n",
    "    # Assuming expert_data is provided by your version of convert_highd_sample_to_gail_expert()\n",
    "    # For example:\n",
    "    # expert_data = convert_highd_sample_to_gail_expert('/mnt/data/highd_sample.csv', '/mnt/data/25_tracksMeta.csv', forward=True, p_agent=0.5)\n",
    "    \n",
    "    # Create the environment and set expert data.\n",
    "    env = HighwayEnv(p_agent=0.5)\n",
    "    # Uncomment and update the following line when expert_data is available:\n",
    "    # env.set_expert_data(expert_data)\n",
    "    \n",
    "    obs = env.reset()\n",
    "    print(\"Initial observation:\")\n",
    "    for key, value in obs.items():\n",
    "        if hasattr(value, 'shape'):\n",
    "            print(f\"{key}: {value.shape}\")\n",
    "        else:\n",
    "            print(f\"{key}: {value}\")\n",
    "    \n",
    "    # Example: apply an action of [1.0, 0.5] for every vehicle slot.\n",
    "    actions = torch.full((env.N_max, 2), 1.0)\n",
    "    actions[:, 1] = 0.5\n",
    "    obs, reward, done, info = env.step(actions)\n",
    "    \n",
    "    env.render()\n",
    "    \n",
    "    print(\"\\nSample kinematics from the latest frame:\")\n",
    "    print(env.kinematics)"
   ]
  },
  {
   "cell_type": "code",
   "execution_count": null,
   "metadata": {},
   "outputs": [],
   "source": []
  },
  {
   "cell_type": "code",
   "execution_count": 7,
   "metadata": {},
   "outputs": [
    {
     "data": {
      "text/plain": [
       "array([34.69, 38.42])"
      ]
     },
     "execution_count": 7,
     "metadata": {},
     "output_type": "execute_result"
    }
   ],
   "source": [
    "expert_data['lanemarkers']"
   ]
  },
  {
   "cell_type": "code",
   "execution_count": 8,
   "metadata": {},
   "outputs": [
    {
     "data": {
      "text/plain": [
       "array([30.85, 42.38])"
      ]
     },
     "execution_count": 8,
     "metadata": {},
     "output_type": "execute_result"
    }
   ],
   "source": [
    "expert_data['boundarylines']"
   ]
  },
  {
   "cell_type": "code",
   "execution_count": 8,
   "metadata": {},
   "outputs": [],
   "source": [
    "meta = pd.read_csv('D:/Productivity/Projects/High-D/highd-dataset-v1.0/data/25_recordingMeta.csv')"
   ]
  },
  {
   "cell_type": "code",
   "execution_count": 15,
   "metadata": {},
   "outputs": [
    {
     "data": {
      "text/plain": [
       "array([30.85, 34.69, 38.42, 42.38])"
      ]
     },
     "execution_count": 15,
     "metadata": {},
     "output_type": "execute_result"
    }
   ],
   "source": [
    "marks = meta['lowerLaneMarkings'].iloc[0].split(';')\n",
    "marks = np.array(marks, dtype=float)\n",
    "marks"
   ]
  },
  {
   "cell_type": "code",
   "execution_count": 17,
   "metadata": {},
   "outputs": [
    {
     "data": {
      "text/plain": [
       "array([30.85, 42.38])"
      ]
     },
     "execution_count": 17,
     "metadata": {},
     "output_type": "execute_result"
    }
   ],
   "source": [
    "marks[[0,-1]]"
   ]
  },
  {
   "cell_type": "code",
   "execution_count": 19,
   "metadata": {},
   "outputs": [
    {
     "data": {
      "text/plain": [
       "array([], dtype=float64)"
      ]
     },
     "execution_count": 19,
     "metadata": {},
     "output_type": "execute_result"
    }
   ],
   "source": [
    "marks[:2][1:-1]"
   ]
  },
  {
   "cell_type": "code",
   "execution_count": null,
   "metadata": {},
   "outputs": [],
   "source": []
  },
  {
   "cell_type": "code",
   "execution_count": null,
   "metadata": {},
   "outputs": [],
   "source": []
  },
  {
   "cell_type": "code",
   "execution_count": 6,
   "metadata": {},
   "outputs": [
    {
     "data": {
      "image/png": "[encoded data removed]",
      "text/plain": [
       "<Figure size 1200x300 with 1 Axes>"
      ]
     },
     "metadata": {},
     "output_type": "display_data"
    },
    {
     "name": "stdout",
     "output_type": "stream",
     "text": [
      "Initial observation:\n",
      "time_dependent torch.Size([4, 100, 4])\n",
      "time_independent torch.Size([100, 3])\n",
      "additional torch.Size([5])\n",
      "mask torch.Size([100])\n",
      "agent_mask torch.Size([100])\n"
     ]
    }
   ],
   "source": [
    "env = HighwayEnv(road_end=400)\n",
    "obs = env.reset()\n",
    "env.render()\n",
    "print(\"Initial observation:\")\n",
    "for key, value in obs.items():\n",
    "    print(key, value.shape)"
   ]
  },
  {
   "cell_type": "code",
   "execution_count": 164,
   "metadata": {},
   "outputs": [
    {
     "data": {
      "image/png": "[encoded data removed]",
      "text/plain": [
       "<Figure size 1200x300 with 1 Axes>"
      ]
     },
     "metadata": {},
     "output_type": "display_data"
    }
   ],
   "source": [
    "actions = torch.full((env.N_max, 2), 0.2)\n",
    "actions[:, 1] = 0\n",
    "obs, reward, done, info = env.step(actions)\n",
    "env.render()"
   ]
  },
  {
   "cell_type": "code",
   "execution_count": 5,
   "metadata": {},
   "outputs": [],
   "source": [
    "tracks = pd.read_csv(r\"D:\\Productivity\\Projects\\High-D\\highd-dataset-v1.0\\data\\25_tracks.csv\")"
   ]
  },
  {
   "cell_type": "code",
   "execution_count": 295,
   "metadata": {},
   "outputs": [],
   "source": [
    "veh = tracks[tracks.id == 158]"
   ]
  },
  {
   "cell_type": "code",
   "execution_count": 296,
   "metadata": {},
   "outputs": [],
   "source": [
    "x0 = veh.x.iloc[0]\n",
    "y0 = veh.y.iloc[0]\n",
    "vx0 = veh.xVelocity.iloc[0]\n",
    "vy0 = veh.yVelocity.iloc[0]\n",
    "\n",
    "x = x0\n",
    "y = y0\n",
    "vx = vx0\n",
    "vy = vy0\n",
    "\n",
    "X = [x0]\n",
    "Y = [y0]\n",
    "F = [veh.frame.iloc[0]]"
   ]
  },
  {
   "cell_type": "code",
   "execution_count": 297,
   "metadata": {},
   "outputs": [],
   "source": [
    "_yAcceleration = veh.yVelocity.diff()[1:] * 25\n",
    "_yAcceleration = np.append(_yAcceleration.values, [0])"
   ]
  },
  {
   "cell_type": "code",
   "execution_count": 298,
   "metadata": {},
   "outputs": [
    {
     "name": "stdout",
     "output_type": "stream",
     "text": [
      "-0.25\n",
      "0.0\n",
      "0.0\n",
      "0.0\n",
      "-0.25\n",
      "0.0\n",
      "0.0\n",
      "0.0\n",
      "-0.24999999999999994\n",
      "0.0\n",
      "0.0\n",
      "0.0\n",
      "0.0\n",
      "-0.25000000000000006\n",
      "0.0\n",
      "0.0\n",
      "0.0\n",
      "-0.25000000000000006\n",
      "0.0\n",
      "0.0\n",
      "0.0\n",
      "0.0\n",
      "-0.24999999999999986\n",
      "0.0\n",
      "0.0\n",
      "0.0\n",
      "0.0\n",
      "0.0\n",
      "-0.2500000000000002\n",
      "0.0\n",
      "0.0\n",
      "0.0\n",
      "0.0\n",
      "0.0\n",
      "0.0\n",
      "0.0\n",
      "0.0\n",
      "0.0\n",
      "0.0\n",
      "0.2500000000000002\n",
      "0.0\n",
      "0.0\n",
      "0.0\n",
      "0.0\n",
      "0.0\n",
      "0.24999999999999986\n",
      "0.0\n",
      "0.0\n",
      "0.0\n",
      "0.25000000000000006\n",
      "0.0\n",
      "0.0\n",
      "0.0\n",
      "0.25000000000000006\n",
      "0.0\n",
      "0.0\n",
      "0.0\n",
      "0.24999999999999994\n",
      "0.0\n",
      "0.0\n",
      "0.25\n",
      "0.0\n",
      "0.0\n",
      "0.25\n",
      "0.0\n",
      "0.0\n",
      "0.0\n",
      "0.25\n",
      "0.0\n",
      "0.0\n",
      "0.25\n",
      "0.0\n",
      "0.0\n",
      "0.0\n",
      "0.24999999999999994\n",
      "0.0\n",
      "0.0\n",
      "0.25000000000000006\n",
      "0.0\n",
      "0.0\n",
      "0.0\n",
      "0.25000000000000006\n",
      "0.0\n",
      "0.0\n",
      "0.0\n",
      "0.24999999999999986\n",
      "0.0\n",
      "0.0\n",
      "0.0\n",
      "0.2500000000000002\n",
      "0.0\n",
      "0.0\n",
      "0.0\n",
      "0.0\n",
      "0.0\n",
      "0.0\n",
      "0.24999999999999986\n",
      "0.0\n",
      "0.0\n",
      "0.0\n",
      "0.0\n",
      "0.0\n",
      "0.0\n",
      "0.0\n",
      "0.0\n",
      "0.0\n",
      "0.0\n",
      "0.0\n",
      "0.0\n",
      "0.0\n",
      "0.0\n",
      "0.0\n",
      "0.0\n",
      "0.0\n",
      "0.24999999999999986\n",
      "0.0\n",
      "0.0\n",
      "0.0\n",
      "0.0\n",
      "0.0\n",
      "0.0\n",
      "0.0\n",
      "0.2500000000000002\n",
      "0.0\n",
      "0.0\n",
      "0.0\n",
      "0.0\n",
      "0.0\n",
      "0.0\n",
      "0.0\n",
      "0.0\n",
      "0.0\n",
      "0.24999999999999986\n",
      "0.0\n",
      "0.0\n",
      "0.0\n",
      "0.0\n",
      "0.0\n",
      "0.0\n",
      "0.0\n",
      "0.0\n",
      "0.0\n",
      "0.0\n",
      "0.0\n",
      "-0.24999999999999986\n",
      "0.0\n",
      "0.0\n",
      "0.0\n",
      "0.0\n",
      "0.0\n",
      "0.0\n",
      "0.0\n",
      "0.0\n",
      "0.0\n",
      "0.0\n",
      "0.0\n",
      "0.0\n",
      "0.0\n",
      "0.0\n",
      "0.0\n",
      "-0.2500000000000002\n",
      "0.0\n",
      "0.0\n",
      "0.0\n",
      "0.0\n",
      "0.0\n",
      "0.0\n",
      "0.0\n",
      "0.0\n",
      "-0.24999999999999986\n",
      "0.0\n",
      "0.0\n",
      "0.0\n",
      "0.0\n",
      "0.0\n",
      "-0.24999999999999986\n",
      "0.0\n",
      "0.0\n",
      "0.0\n",
      "-0.2500000000000002\n",
      "0.0\n",
      "0.0\n",
      "0.0\n",
      "-0.24999999999999986\n",
      "0.0\n",
      "0.0\n",
      "-0.25000000000000006\n",
      "0.0\n",
      "0.0\n",
      "-0.25000000000000006\n",
      "0.0\n",
      "-0.24999999999999994\n",
      "0.0\n",
      "0.0\n",
      "-0.25\n",
      "0.0\n",
      "0.0\n",
      "-0.25\n",
      "-0.0\n",
      "0.0\n",
      "-0.25\n",
      "0.0\n",
      "0.0\n",
      "-0.25\n",
      "0.0\n",
      "0.0\n",
      "0.0\n",
      "-0.24999999999999994\n",
      "0.0\n",
      "0.0\n",
      "0.0\n",
      "-0.25000000000000006\n",
      "0.0\n",
      "0.0\n",
      "0.0\n",
      "0.0\n",
      "0.0\n",
      "-0.25000000000000006\n",
      "0.0\n",
      "0.0\n",
      "0.0\n",
      "-0.24999999999999986\n",
      "0.0\n",
      "0.0\n",
      "0.0\n",
      "0.0\n",
      "-0.2500000000000002\n",
      "0.0\n",
      "0.0\n",
      "0.0\n",
      "-0.24999999999999986\n",
      "0.0\n",
      "0.0\n",
      "0.0\n",
      "0.0\n",
      "0.0\n",
      "0.0\n",
      "-0.24999999999999986\n",
      "0.0\n",
      "0.0\n",
      "0.0\n",
      "0.0\n",
      "0.0\n",
      "0.0\n",
      "0.0\n",
      "0.0\n",
      "0.0\n",
      "0.0\n",
      "0.0\n",
      "0.0\n",
      "0.0\n",
      "0.0\n",
      "0.0\n",
      "0.0\n",
      "0.0\n",
      "0.0\n",
      "0.0\n",
      "0.0\n",
      "0.0\n",
      "0.0\n",
      "0.0\n",
      "0.0\n",
      "0.0\n",
      "0.0\n",
      "0.0\n",
      "0.0\n",
      "0.0\n",
      "0.0\n",
      "0.0\n",
      "0.0\n",
      "0.24999999999999986\n",
      "0.0\n",
      "0.0\n",
      "0.0\n",
      "0.0\n",
      "0.0\n",
      "0.0\n",
      "0.0\n",
      "0.24999999999999986\n",
      "0.0\n",
      "0.0\n",
      "0.0\n",
      "0.0\n",
      "0.0\n",
      "0.0\n",
      "0.0\n",
      "0.0\n",
      "0.2500000000000002\n",
      "0.0\n",
      "0.0\n",
      "0.0\n",
      "0.0\n",
      "0.0\n",
      "0.0\n",
      "0.0\n",
      "0.0\n",
      "0.0\n",
      "0.0\n",
      "0.0\n",
      "0.0\n",
      "0.0\n",
      "0.0\n",
      "-0.2500000000000002\n",
      "0.0\n",
      "0.0\n",
      "0.0\n",
      "0.0\n",
      "0.0\n",
      "0.0\n",
      "0.0\n",
      "0.0\n",
      "0.0\n",
      "0.0\n",
      "0.0\n",
      "0.0\n",
      "0.0\n",
      "0.0\n",
      "0.0\n",
      "-0.24999999999999986\n",
      "0.0\n",
      "0.0\n",
      "0.0\n",
      "0.0\n",
      "0.0\n",
      "0.0\n",
      "0.0\n",
      "0.0\n",
      "0.0\n",
      "0.0\n",
      "0.0\n",
      "0.0\n",
      "0.0\n",
      "0.0\n",
      "0.0\n",
      "0.0\n",
      "0.24999999999999986\n",
      "0.0\n",
      "0.0\n",
      "0.0\n",
      "0.0\n",
      "0.0\n",
      "0.0\n",
      "0.0\n",
      "0.0\n",
      "0.2500000000000002\n",
      "0.0\n",
      "0.0\n",
      "0.0\n",
      "0.0\n",
      "0.24999999999999986\n",
      "0.0\n",
      "0.0\n",
      "0.0\n",
      "0.25000000000000006\n",
      "0.0\n",
      "0.0\n",
      "0.0\n",
      "0.25000000000000006\n",
      "0.0\n",
      "0.0\n",
      "0.0\n",
      "0.0\n",
      "0.24999999999999994\n",
      "0.0\n",
      "0.0\n",
      "0.0\n",
      "0.0\n",
      "0.0\n",
      "0.25\n",
      "0.0\n",
      "0.0\n",
      "0.0\n",
      "0.0\n",
      "0.0\n",
      "0.0\n",
      "0.25\n",
      "0.0\n",
      "0.0\n",
      "0.0\n",
      "0.0\n",
      "0.0\n",
      "0.0\n",
      "0.0\n",
      "0.0\n",
      "0.25\n",
      "0.0\n",
      "0.0\n",
      "0.0\n",
      "0.0\n",
      "0.0\n",
      "0.0\n",
      "0.0\n",
      "0.0\n",
      "0.0\n",
      "0.0\n",
      "0.0\n",
      "0.0\n",
      "0.25\n",
      "0.0\n",
      "0.0\n",
      "0.0\n",
      "0.0\n",
      "0.0\n",
      "0.0\n",
      "0.0\n",
      "0.0\n",
      "0.0\n",
      "0.0\n",
      "0.0\n",
      "0.0\n",
      "0.0\n",
      "0.0\n",
      "0.0\n",
      "0.0\n",
      "0.0\n",
      "0.0\n",
      "0.0\n",
      "0.0\n",
      "0.0\n",
      "0.0\n",
      "0.0\n",
      "0.0\n",
      "0.24999999999999994\n",
      "0.0\n",
      "0.0\n",
      "0.0\n",
      "0.0\n",
      "0.0\n",
      "0.0\n",
      "0.0\n",
      "0.0\n",
      "0.0\n",
      "0.0\n",
      "0.0\n",
      "0.0\n",
      "0.0\n",
      "0.0\n",
      "0.0\n",
      "0.0\n",
      "0.0\n",
      "0.0\n",
      "0.25000000000000006\n",
      "0.0\n",
      "0.0\n",
      "0.0\n",
      "0.0\n",
      "0.0\n",
      "0.0\n",
      "0.0\n",
      "0.0\n",
      "0.0\n",
      "0.0\n",
      "0.0\n",
      "0.0\n",
      "0.0\n",
      "0.0\n",
      "0.0\n",
      "0.0\n",
      "0.0\n",
      "0.0\n",
      "0.0\n",
      "0.0\n",
      "0.0\n",
      "0.0\n",
      "0.0\n",
      "0.0\n",
      "0.0\n",
      "0.0\n",
      "0.0\n",
      "0.0\n",
      "0.0\n",
      "0.0\n",
      "0.0\n",
      "0.0\n",
      "0\n"
     ]
    }
   ],
   "source": [
    "step = 1\n",
    "dt = step / 25\n",
    "for t in range(0, len(veh), step):\n",
    "    ax = veh.xAcceleration.values[t]\n",
    "    ay = (veh.yVelocity.iloc[t+step] - veh.yVelocity.iloc[t])/dt if t+step < len(veh) else 0\n",
    "    print (ay)\n",
    "    f = veh.frame.values[t]\n",
    "    x += vx*dt + 0.5*ax*dt**2\n",
    "    y += vy*dt + 0.5*ay*dt**2\n",
    "    vx += ax*dt\n",
    "    vy +=  ay*dt\n",
    "\n",
    "    X.append(x)\n",
    "    Y.append(y)\n",
    "    F.append(f)"
   ]
  },
  {
   "cell_type": "code",
   "execution_count": 299,
   "metadata": {},
   "outputs": [
    {
     "data": {
      "text/plain": [
       "[<matplotlib.lines.Line2D at 0x27945c4c380>]"
      ]
     },
     "execution_count": 299,
     "metadata": {},
     "output_type": "execute_result"
    },
    {
     "data": {
      "image/png": "[encoded data removed]",
      "text/plain": [
       "<Figure size 640x480 with 1 Axes>"
      ]
     },
     "metadata": {},
     "output_type": "display_data"
    }
   ],
   "source": [
    "plt.plot(F, X, color='red')\n",
    "plt.plot(veh.frame, veh.x, color='black')"
   ]
  },
  {
   "cell_type": "code",
   "execution_count": 300,
   "metadata": {},
   "outputs": [
    {
     "data": {
      "text/plain": [
       "[<matplotlib.lines.Line2D at 0x27945f05eb0>]"
      ]
     },
     "execution_count": 300,
     "metadata": {},
     "output_type": "execute_result"
    },
    {
     "data": {
      "image/png": "[encoded data removed]",
      "text/plain": [
       "<Figure size 640x480 with 1 Axes>"
      ]
     },
     "metadata": {},
     "output_type": "display_data"
    }
   ],
   "source": [
    "plt.plot(F, Y, color='red')\n",
    "plt.plot(veh.frame, veh.y, color='black')"
   ]
  },
  {
   "cell_type": "code",
   "execution_count": 244,
   "metadata": {},
   "outputs": [
    {
     "data": {
      "text/plain": [
       "17150   -9.62\n",
       "17151   -9.62\n",
       "17152   -9.63\n",
       "17153   -9.64\n",
       "17154   -9.64\n",
       "         ... \n",
       "17920   -9.45\n",
       "17921   -9.44\n",
       "17922   -9.43\n",
       "17923   -9.41\n",
       "17924   -9.40\n",
       "Name: xVelocity, Length: 775, dtype: float64"
      ]
     },
     "execution_count": 244,
     "metadata": {},
     "output_type": "execute_result"
    }
   ],
   "source": [
    "veh.xVelocity"
   ]
  },
  {
   "cell_type": "code",
   "execution_count": 303,
   "metadata": {},
   "outputs": [],
   "source": [
    "def rectify_y_acceleration(df, dt=1/25):\n",
    "    \"\"\"\n",
    "    Reads a sample CSV file (e.g. highd_sample.csv) that contains vehicle data with columns including:\n",
    "      - 'frame', 'id', 'y'\n",
    "      - (and a column 'yAcceleration' that may be inaccurate)\n",
    "    \n",
    "    This function computes a rectified yAcceleration for each vehicle using central differences:\n",
    "    \n",
    "        a_y(t) = (y(t+dt) - 2*y(t) + y(t-dt)) / (dt**2)\n",
    "    \n",
    "    For the first and last frames for each vehicle, forward and backward differences are used respectively.\n",
    "    \n",
    "    The resulting acceleration replaces the original 'yAcceleration' column and the updated data is saved to output_csv.\n",
    "    \n",
    "    Parameters:\n",
    "        input_csv (str): Path to the input CSV file.\n",
    "        output_csv (str): Path to write the rectified CSV.\n",
    "        dt (float): Time interval between frames (default is 1/25 seconds).\n",
    "    \"\"\"\n",
    "    \n",
    "    # Function to compute rectified yAcceleration for one vehicle (grouped by 'id')\n",
    "    def compute_yAcc(group):\n",
    "        group = group.sort_values('frame').copy()\n",
    "        y = group['y'].values\n",
    "        n = len(y)\n",
    "        new_a = np.zeros(n)\n",
    "        # Use central differences for interior points.\n",
    "        if n >= 3:\n",
    "            new_a[1:-1] = (y[2:] - 2 * y[1:-1] + y[:-2]) / (dt ** 2)\n",
    "        # For the first frame, use forward difference:\n",
    "        if n >= 2:\n",
    "            new_a[0] = (y[1] - y[0]) / dt  # approximate derivative (velocity), not acceleration,\n",
    "            # but as a fallback we use it as an approximation for a_y at t=0.\n",
    "            # Alternatively, you could use: new_a[0] = (y[2] - 2*y[1] + y[0])/(dt**2) if n>=3.\n",
    "            new_a[-1] = (y[-1] - y[-2]) / dt  # backward difference for last frame.\n",
    "        elif n == 1:\n",
    "            new_a[0] = 0  # Single sample: assume zero acceleration.\n",
    "        group['yAcceleration_rectified'] = new_a\n",
    "        return group\n",
    "\n",
    "    # Apply the computation for each vehicle.\n",
    "    df = df.groupby('id').apply(compute_yAcc)\n",
    "    # Optionally, replace the original 'yAcceleration' with the rectified one.\n",
    "    df['yAcceleration'] = df['yAcceleration_rectified']\n",
    "    df.drop(columns=['yAcceleration_rectified'], inplace=True)\n",
    "    \n",
    "    # Save the rectified data to the output CSV.\n",
    "    \n",
    "    return df"
   ]
  },
  {
   "cell_type": "code",
   "execution_count": 6,
   "metadata": {},
   "outputs": [],
   "source": [
    "sample = tracks[(tracks.frame>=(25*540))&(tracks.frame<(25*600))]"
   ]
  },
  {
   "cell_type": "code",
   "execution_count": 36,
   "metadata": {},
   "outputs": [
    {
     "data": {
      "text/plain": [
       "array([1266, 1267, 1269, 1270, 1273, 1274, 1275, 1277, 1278, 1280, 1282,\n",
       "       1283, 1284, 1285, 1287, 1288, 1290, 1291, 1292, 1294, 1296, 1298,\n",
       "       1302, 1304, 1306, 1307, 1310, 1311, 1313, 1314, 1315, 1318, 1319,\n",
       "       1321, 1325, 1327, 1328, 1329, 1331, 1333, 1334, 1335, 1337, 1338,\n",
       "       1340, 1341, 1345, 1346, 1348, 1349, 1350, 1351, 1352, 1354, 1356,\n",
       "       1358, 1360, 1361, 1362, 1364, 1365, 1368, 1369, 1372, 1373, 1374,\n",
       "       1375, 1377, 1379, 1381, 1382, 1383, 1385, 1387, 1388, 1389, 1391,\n",
       "       1392, 1394, 1395, 1396, 1397, 1400, 1401, 1403, 1405, 1407, 1408,\n",
       "       1410, 1411, 1412, 1415, 1416, 1418, 1419, 1421, 1422, 1426, 1427,\n",
       "       1428, 1431, 1433, 1435, 1436, 1437, 1439, 1440, 1441, 1443, 1445,\n",
       "       1449, 1450, 1453])"
      ]
     },
     "execution_count": 36,
     "metadata": {},
     "output_type": "execute_result"
    }
   ],
   "source": [
    "df.id.unique()"
   ]
  },
  {
   "cell_type": "code",
   "execution_count": null,
   "metadata": {},
   "outputs": [],
   "source": []
  },
  {
   "cell_type": "code",
   "execution_count": 32,
   "metadata": {},
   "outputs": [],
   "source": [
    "veh = sample[sample.id==1417]"
   ]
  },
  {
   "cell_type": "code",
   "execution_count": 37,
   "metadata": {},
   "outputs": [],
   "source": [
    "_veh = df[df.id==1381]"
   ]
  },
  {
   "cell_type": "code",
   "execution_count": 38,
   "metadata": {},
   "outputs": [],
   "source": [
    "_y = _veh.y.iloc[0]\n",
    "_vy = _veh.yVelocity.iloc[0]\n",
    "_Y = []\n",
    "_F = []\n",
    "skip = 5\n",
    "dt = 1/25 * skip\n",
    "for t in range(0, len(_veh), skip):\n",
    "    _y += _vy*dt + 0.5*_veh.yAcceleration.values[t] * dt**2\n",
    "    _vy += _veh.yAcceleration.values[t] * dt\n",
    "    _Y.append(_y)\n",
    "    _F.append(_veh.frame.iloc[t])\n"
   ]
  },
  {
   "cell_type": "code",
   "execution_count": 39,
   "metadata": {},
   "outputs": [
    {
     "data": {
      "text/plain": [
       "[<matplotlib.lines.Line2D at 0x27271b28590>]"
      ]
     },
     "execution_count": 39,
     "metadata": {},
     "output_type": "execute_result"
    },
    {
     "data": {
      "image/png": "[encoded data removed]",
      "text/plain": [
       "<Figure size 640x480 with 1 Axes>"
      ]
     },
     "metadata": {},
     "output_type": "display_data"
    }
   ],
   "source": [
    "plt.plot(_F, _Y, color='red')\n",
    "plt.plot(_veh.frame, _veh.y, color='black')"
   ]
  },
  {
   "cell_type": "code",
   "execution_count": null,
   "metadata": {},
   "outputs": [],
   "source": []
  },
  {
   "cell_type": "code",
   "execution_count": 305,
   "metadata": {},
   "outputs": [
    {
     "name": "stderr",
     "output_type": "stream",
     "text": [
      "C:\\Users\\APT1807\\AppData\\Local\\Temp\\ipykernel_65592\\4128286346.py:42: DeprecationWarning: DataFrameGroupBy.apply operated on the grouping columns. This behavior is deprecated, and in a future version of pandas the grouping columns will be excluded from the operation. Either pass `include_groups=False` to exclude the groupings or explicitly select the grouping columns after groupby to silence this warning.\n",
      "  df = df.groupby('id').apply(compute_yAcc)\n"
     ]
    },
    {
     "data": {
      "text/html": [
       "<div>\n",
       "<style scoped>\n",
       "    .dataframe tbody tr th:only-of-type {\n",
       "        vertical-align: middle;\n",
       "    }\n",
       "\n",
       "    .dataframe tbody tr th {\n",
       "        vertical-align: top;\n",
       "    }\n",
       "\n",
       "    .dataframe thead th {\n",
       "        text-align: right;\n",
       "    }\n",
       "</style>\n",
       "<table border=\"1\" class=\"dataframe\">\n",
       "  <thead>\n",
       "    <tr style=\"text-align: right;\">\n",
       "      <th></th>\n",
       "      <th></th>\n",
       "      <th>frame</th>\n",
       "      <th>id</th>\n",
       "      <th>x</th>\n",
       "      <th>y</th>\n",
       "      <th>width</th>\n",
       "      <th>height</th>\n",
       "      <th>xVelocity</th>\n",
       "      <th>yVelocity</th>\n",
       "      <th>xAcceleration</th>\n",
       "      <th>yAcceleration</th>\n",
       "      <th>...</th>\n",
       "      <th>precedingXVelocity</th>\n",
       "      <th>precedingId</th>\n",
       "      <th>followingId</th>\n",
       "      <th>leftPrecedingId</th>\n",
       "      <th>leftAlongsideId</th>\n",
       "      <th>leftFollowingId</th>\n",
       "      <th>rightPrecedingId</th>\n",
       "      <th>rightAlongsideId</th>\n",
       "      <th>rightFollowingId</th>\n",
       "      <th>laneId</th>\n",
       "    </tr>\n",
       "    <tr>\n",
       "      <th>id</th>\n",
       "      <th></th>\n",
       "      <th></th>\n",
       "      <th></th>\n",
       "      <th></th>\n",
       "      <th></th>\n",
       "      <th></th>\n",
       "      <th></th>\n",
       "      <th></th>\n",
       "      <th></th>\n",
       "      <th></th>\n",
       "      <th></th>\n",
       "      <th></th>\n",
       "      <th></th>\n",
       "      <th></th>\n",
       "      <th></th>\n",
       "      <th></th>\n",
       "      <th></th>\n",
       "      <th></th>\n",
       "      <th></th>\n",
       "      <th></th>\n",
       "      <th></th>\n",
       "      <th></th>\n",
       "    </tr>\n",
       "  </thead>\n",
       "  <tbody>\n",
       "    <tr>\n",
       "      <th rowspan=\"5\" valign=\"top\">1129</th>\n",
       "      <th>809664</th>\n",
       "      <td>13500</td>\n",
       "      <td>1129</td>\n",
       "      <td>18.84</td>\n",
       "      <td>14.38</td>\n",
       "      <td>16.88</td>\n",
       "      <td>2.50</td>\n",
       "      <td>-3.59</td>\n",
       "      <td>0.07</td>\n",
       "      <td>0.60</td>\n",
       "      <td>0.25</td>\n",
       "      <td>...</td>\n",
       "      <td>0.00</td>\n",
       "      <td>0</td>\n",
       "      <td>1264</td>\n",
       "      <td>0</td>\n",
       "      <td>1217</td>\n",
       "      <td>1221</td>\n",
       "      <td>0</td>\n",
       "      <td>0</td>\n",
       "      <td>0</td>\n",
       "      <td>2</td>\n",
       "    </tr>\n",
       "    <tr>\n",
       "      <th>809665</th>\n",
       "      <td>13501</td>\n",
       "      <td>1129</td>\n",
       "      <td>18.69</td>\n",
       "      <td>14.39</td>\n",
       "      <td>16.88</td>\n",
       "      <td>2.50</td>\n",
       "      <td>-3.56</td>\n",
       "      <td>0.07</td>\n",
       "      <td>0.62</td>\n",
       "      <td>-6.25</td>\n",
       "      <td>...</td>\n",
       "      <td>0.00</td>\n",
       "      <td>0</td>\n",
       "      <td>1264</td>\n",
       "      <td>0</td>\n",
       "      <td>1217</td>\n",
       "      <td>1221</td>\n",
       "      <td>0</td>\n",
       "      <td>0</td>\n",
       "      <td>0</td>\n",
       "      <td>2</td>\n",
       "    </tr>\n",
       "    <tr>\n",
       "      <th>809666</th>\n",
       "      <td>13502</td>\n",
       "      <td>1129</td>\n",
       "      <td>18.55</td>\n",
       "      <td>14.39</td>\n",
       "      <td>16.88</td>\n",
       "      <td>2.50</td>\n",
       "      <td>-3.54</td>\n",
       "      <td>0.07</td>\n",
       "      <td>0.64</td>\n",
       "      <td>0.00</td>\n",
       "      <td>...</td>\n",
       "      <td>0.00</td>\n",
       "      <td>0</td>\n",
       "      <td>1264</td>\n",
       "      <td>0</td>\n",
       "      <td>1217</td>\n",
       "      <td>1221</td>\n",
       "      <td>0</td>\n",
       "      <td>0</td>\n",
       "      <td>0</td>\n",
       "      <td>2</td>\n",
       "    </tr>\n",
       "    <tr>\n",
       "      <th>809667</th>\n",
       "      <td>13503</td>\n",
       "      <td>1129</td>\n",
       "      <td>18.39</td>\n",
       "      <td>14.39</td>\n",
       "      <td>16.88</td>\n",
       "      <td>2.50</td>\n",
       "      <td>-3.51</td>\n",
       "      <td>0.07</td>\n",
       "      <td>0.67</td>\n",
       "      <td>6.25</td>\n",
       "      <td>...</td>\n",
       "      <td>0.00</td>\n",
       "      <td>0</td>\n",
       "      <td>1264</td>\n",
       "      <td>0</td>\n",
       "      <td>1217</td>\n",
       "      <td>1221</td>\n",
       "      <td>0</td>\n",
       "      <td>0</td>\n",
       "      <td>0</td>\n",
       "      <td>2</td>\n",
       "    </tr>\n",
       "    <tr>\n",
       "      <th>809668</th>\n",
       "      <td>13504</td>\n",
       "      <td>1129</td>\n",
       "      <td>18.25</td>\n",
       "      <td>14.40</td>\n",
       "      <td>16.88</td>\n",
       "      <td>2.50</td>\n",
       "      <td>-3.49</td>\n",
       "      <td>0.07</td>\n",
       "      <td>0.69</td>\n",
       "      <td>-6.25</td>\n",
       "      <td>...</td>\n",
       "      <td>0.00</td>\n",
       "      <td>0</td>\n",
       "      <td>1264</td>\n",
       "      <td>0</td>\n",
       "      <td>1217</td>\n",
       "      <td>1221</td>\n",
       "      <td>0</td>\n",
       "      <td>0</td>\n",
       "      <td>0</td>\n",
       "      <td>2</td>\n",
       "    </tr>\n",
       "    <tr>\n",
       "      <th>...</th>\n",
       "      <th>...</th>\n",
       "      <td>...</td>\n",
       "      <td>...</td>\n",
       "      <td>...</td>\n",
       "      <td>...</td>\n",
       "      <td>...</td>\n",
       "      <td>...</td>\n",
       "      <td>...</td>\n",
       "      <td>...</td>\n",
       "      <td>...</td>\n",
       "      <td>...</td>\n",
       "      <td>...</td>\n",
       "      <td>...</td>\n",
       "      <td>...</td>\n",
       "      <td>...</td>\n",
       "      <td>...</td>\n",
       "      <td>...</td>\n",
       "      <td>...</td>\n",
       "      <td>...</td>\n",
       "      <td>...</td>\n",
       "      <td>...</td>\n",
       "      <td>...</td>\n",
       "    </tr>\n",
       "    <tr>\n",
       "      <th rowspan=\"5\" valign=\"top\">1453</th>\n",
       "      <th>1029530</th>\n",
       "      <td>14995</td>\n",
       "      <td>1453</td>\n",
       "      <td>8.91</td>\n",
       "      <td>31.17</td>\n",
       "      <td>4.75</td>\n",
       "      <td>1.72</td>\n",
       "      <td>26.17</td>\n",
       "      <td>-0.00</td>\n",
       "      <td>0.15</td>\n",
       "      <td>-0.25</td>\n",
       "      <td>...</td>\n",
       "      <td>25.96</td>\n",
       "      <td>1445</td>\n",
       "      <td>0</td>\n",
       "      <td>0</td>\n",
       "      <td>0</td>\n",
       "      <td>0</td>\n",
       "      <td>1450</td>\n",
       "      <td>0</td>\n",
       "      <td>0</td>\n",
       "      <td>6</td>\n",
       "    </tr>\n",
       "    <tr>\n",
       "      <th>1029531</th>\n",
       "      <td>14996</td>\n",
       "      <td>1453</td>\n",
       "      <td>9.84</td>\n",
       "      <td>31.16</td>\n",
       "      <td>4.75</td>\n",
       "      <td>1.72</td>\n",
       "      <td>26.18</td>\n",
       "      <td>-0.00</td>\n",
       "      <td>0.16</td>\n",
       "      <td>6.25</td>\n",
       "      <td>...</td>\n",
       "      <td>25.96</td>\n",
       "      <td>1445</td>\n",
       "      <td>0</td>\n",
       "      <td>0</td>\n",
       "      <td>0</td>\n",
       "      <td>0</td>\n",
       "      <td>1450</td>\n",
       "      <td>0</td>\n",
       "      <td>0</td>\n",
       "      <td>6</td>\n",
       "    </tr>\n",
       "    <tr>\n",
       "      <th>1029532</th>\n",
       "      <td>14997</td>\n",
       "      <td>1453</td>\n",
       "      <td>10.77</td>\n",
       "      <td>31.16</td>\n",
       "      <td>4.75</td>\n",
       "      <td>1.72</td>\n",
       "      <td>26.18</td>\n",
       "      <td>-0.01</td>\n",
       "      <td>0.16</td>\n",
       "      <td>0.00</td>\n",
       "      <td>...</td>\n",
       "      <td>25.97</td>\n",
       "      <td>1445</td>\n",
       "      <td>0</td>\n",
       "      <td>0</td>\n",
       "      <td>0</td>\n",
       "      <td>0</td>\n",
       "      <td>1450</td>\n",
       "      <td>0</td>\n",
       "      <td>0</td>\n",
       "      <td>6</td>\n",
       "    </tr>\n",
       "    <tr>\n",
       "      <th>1029533</th>\n",
       "      <td>14998</td>\n",
       "      <td>1453</td>\n",
       "      <td>11.75</td>\n",
       "      <td>31.16</td>\n",
       "      <td>4.75</td>\n",
       "      <td>1.72</td>\n",
       "      <td>26.19</td>\n",
       "      <td>-0.01</td>\n",
       "      <td>0.17</td>\n",
       "      <td>0.00</td>\n",
       "      <td>...</td>\n",
       "      <td>25.97</td>\n",
       "      <td>1445</td>\n",
       "      <td>0</td>\n",
       "      <td>0</td>\n",
       "      <td>0</td>\n",
       "      <td>0</td>\n",
       "      <td>1450</td>\n",
       "      <td>0</td>\n",
       "      <td>0</td>\n",
       "      <td>6</td>\n",
       "    </tr>\n",
       "    <tr>\n",
       "      <th>1029534</th>\n",
       "      <td>14999</td>\n",
       "      <td>1453</td>\n",
       "      <td>12.76</td>\n",
       "      <td>31.16</td>\n",
       "      <td>4.75</td>\n",
       "      <td>1.72</td>\n",
       "      <td>26.20</td>\n",
       "      <td>-0.01</td>\n",
       "      <td>0.17</td>\n",
       "      <td>0.00</td>\n",
       "      <td>...</td>\n",
       "      <td>25.98</td>\n",
       "      <td>1445</td>\n",
       "      <td>0</td>\n",
       "      <td>0</td>\n",
       "      <td>0</td>\n",
       "      <td>0</td>\n",
       "      <td>1450</td>\n",
       "      <td>0</td>\n",
       "      <td>0</td>\n",
       "      <td>6</td>\n",
       "    </tr>\n",
       "  </tbody>\n",
       "</table>\n",
       "<p>98495 rows × 25 columns</p>\n",
       "</div>"
      ],
      "text/plain": [
       "              frame    id      x      y  width  height  xVelocity  yVelocity  \\\n",
       "id                                                                             \n",
       "1129 809664   13500  1129  18.84  14.38  16.88    2.50      -3.59       0.07   \n",
       "     809665   13501  1129  18.69  14.39  16.88    2.50      -3.56       0.07   \n",
       "     809666   13502  1129  18.55  14.39  16.88    2.50      -3.54       0.07   \n",
       "     809667   13503  1129  18.39  14.39  16.88    2.50      -3.51       0.07   \n",
       "     809668   13504  1129  18.25  14.40  16.88    2.50      -3.49       0.07   \n",
       "...             ...   ...    ...    ...    ...     ...        ...        ...   \n",
       "1453 1029530  14995  1453   8.91  31.17   4.75    1.72      26.17      -0.00   \n",
       "     1029531  14996  1453   9.84  31.16   4.75    1.72      26.18      -0.00   \n",
       "     1029532  14997  1453  10.77  31.16   4.75    1.72      26.18      -0.01   \n",
       "     1029533  14998  1453  11.75  31.16   4.75    1.72      26.19      -0.01   \n",
       "     1029534  14999  1453  12.76  31.16   4.75    1.72      26.20      -0.01   \n",
       "\n",
       "              xAcceleration  yAcceleration  ...  precedingXVelocity  \\\n",
       "id                                          ...                       \n",
       "1129 809664            0.60           0.25  ...                0.00   \n",
       "     809665            0.62          -6.25  ...                0.00   \n",
       "     809666            0.64           0.00  ...                0.00   \n",
       "     809667            0.67           6.25  ...                0.00   \n",
       "     809668            0.69          -6.25  ...                0.00   \n",
       "...                     ...            ...  ...                 ...   \n",
       "1453 1029530           0.15          -0.25  ...               25.96   \n",
       "     1029531           0.16           6.25  ...               25.96   \n",
       "     1029532           0.16           0.00  ...               25.97   \n",
       "     1029533           0.17           0.00  ...               25.97   \n",
       "     1029534           0.17           0.00  ...               25.98   \n",
       "\n",
       "              precedingId  followingId  leftPrecedingId  leftAlongsideId  \\\n",
       "id                                                                         \n",
       "1129 809664             0         1264                0             1217   \n",
       "     809665             0         1264                0             1217   \n",
       "     809666             0         1264                0             1217   \n",
       "     809667             0         1264                0             1217   \n",
       "     809668             0         1264                0             1217   \n",
       "...                   ...          ...              ...              ...   \n",
       "1453 1029530         1445            0                0                0   \n",
       "     1029531         1445            0                0                0   \n",
       "     1029532         1445            0                0                0   \n",
       "     1029533         1445            0                0                0   \n",
       "     1029534         1445            0                0                0   \n",
       "\n",
       "              leftFollowingId  rightPrecedingId  rightAlongsideId  \\\n",
       "id                                                                  \n",
       "1129 809664              1221                 0                 0   \n",
       "     809665              1221                 0                 0   \n",
       "     809666              1221                 0                 0   \n",
       "     809667              1221                 0                 0   \n",
       "     809668              1221                 0                 0   \n",
       "...                       ...               ...               ...   \n",
       "1453 1029530                0              1450                 0   \n",
       "     1029531                0              1450                 0   \n",
       "     1029532                0              1450                 0   \n",
       "     1029533                0              1450                 0   \n",
       "     1029534                0              1450                 0   \n",
       "\n",
       "              rightFollowingId  laneId  \n",
       "id                                      \n",
       "1129 809664                  0       2  \n",
       "     809665                  0       2  \n",
       "     809666                  0       2  \n",
       "     809667                  0       2  \n",
       "     809668                  0       2  \n",
       "...                        ...     ...  \n",
       "1453 1029530                 0       6  \n",
       "     1029531                 0       6  \n",
       "     1029532                 0       6  \n",
       "     1029533                 0       6  \n",
       "     1029534                 0       6  \n",
       "\n",
       "[98495 rows x 25 columns]"
      ]
     },
     "execution_count": 305,
     "metadata": {},
     "output_type": "execute_result"
    }
   ],
   "source": [
    "rectify_y_acceleration(sample, dt=1/25)"
   ]
  },
  {
   "cell_type": "code",
   "execution_count": null,
   "metadata": {},
   "outputs": [],
   "source": []
  },
  {
   "cell_type": "code",
   "execution_count": null,
   "metadata": {},
   "outputs": [],
   "source": []
  },
  {
   "cell_type": "code",
   "execution_count": 4,
   "metadata": {},
   "outputs": [
    {
     "ename": "NameError",
     "evalue": "name 'tracks' is not defined",
     "output_type": "error",
     "traceback": [
      "\u001b[1;31m---------------------------------------------------------------------------\u001b[0m",
      "\u001b[1;31mNameError\u001b[0m                                 Traceback (most recent call last)",
      "Cell \u001b[1;32mIn[4], line 1\u001b[0m\n\u001b[1;32m----> 1\u001b[0m sample \u001b[38;5;241m=\u001b[39m tracks[(tracks\u001b[38;5;241m.\u001b[39mframe\u001b[38;5;241m>\u001b[39m\u001b[38;5;241m=\u001b[39m(\u001b[38;5;241m25\u001b[39m\u001b[38;5;241m*\u001b[39m\u001b[38;5;241m540\u001b[39m))\u001b[38;5;241m&\u001b[39m(tracks\u001b[38;5;241m.\u001b[39mframe\u001b[38;5;241m<\u001b[39m(\u001b[38;5;241m25\u001b[39m\u001b[38;5;241m*\u001b[39m\u001b[38;5;241m600\u001b[39m))]\n\u001b[0;32m      2\u001b[0m sample\u001b[38;5;241m.\u001b[39mto_csv(\u001b[38;5;124m\"\u001b[39m\u001b[38;5;124m./data/highd_sample.csv\u001b[39m\u001b[38;5;124m\"\u001b[39m)\n",
      "\u001b[1;31mNameError\u001b[0m: name 'tracks' is not defined"
     ]
    }
   ],
   "source": [
    "sample = tracks[(tracks.frame>=(25*540))&(tracks.frame<(25*600))]\n",
    "sample.to_csv(\"./data/highd_sample.csv\")"
   ]
  },
  {
   "cell_type": "code",
   "execution_count": null,
   "metadata": {},
   "outputs": [],
   "source": []
  },
  {
   "cell_type": "code",
   "execution_count": null,
   "metadata": {},
   "outputs": [],
   "source": []
  },
  {
   "cell_type": "code",
   "execution_count": null,
   "metadata": {},
   "outputs": [],
   "source": []
  },
  {
   "cell_type": "code",
   "execution_count": 19,
   "metadata": {},
   "outputs": [],
   "source": [
    "forward_mask = sample.groupby('id').xVelocity.transform('mean') > 0"
   ]
  },
  {
   "cell_type": "code",
   "execution_count": 20,
   "metadata": {},
   "outputs": [
    {
     "data": {
      "text/plain": [
       "((98495,), (98495, 25))"
      ]
     },
     "execution_count": 20,
     "metadata": {},
     "output_type": "execute_result"
    }
   ],
   "source": [
    "forward_mask.shape, sample.shape"
   ]
  },
  {
   "cell_type": "code",
   "execution_count": 8,
   "metadata": {},
   "outputs": [
    {
     "data": {
      "text/plain": [
       "tensor([ True, False,  True, False, False, False, False,  True, False, False,\n",
       "         True, False, False,  True, False,  True, False,  True, False, False,\n",
       "        False, False, False, False, False,  True, False,  True, False,  True,\n",
       "        False, False, False, False, False, False, False, False, False, False,\n",
       "        False,  True,  True, False, False,  True, False,  True, False,  True,\n",
       "         True,  True, False,  True,  True, False, False,  True, False, False,\n",
       "        False, False, False, False, False, False, False, False, False, False,\n",
       "        False,  True, False, False, False,  True, False, False, False, False,\n",
       "        False, False,  True, False, False, False, False, False, False,  True,\n",
       "         True, False, False, False,  True, False, False, False, False,  True])"
      ]
     },
     "execution_count": 8,
     "metadata": {},
     "output_type": "execute_result"
    }
   ],
   "source": [
    "env.exists"
   ]
  },
  {
   "cell_type": "code",
   "execution_count": 9,
   "metadata": {},
   "outputs": [
    {
     "data": {
      "text/plain": [
       "tensor([ True, False, False, False, False, False, False, False, False, False,\n",
       "        False, False, False, False, False, False, False, False, False, False,\n",
       "        False, False, False, False, False, False, False, False, False, False,\n",
       "        False, False, False, False, False, False, False, False, False, False,\n",
       "        False, False, False, False, False, False, False, False, False, False,\n",
       "        False, False, False, False, False, False, False, False, False, False,\n",
       "        False, False, False, False, False, False, False, False, False, False,\n",
       "        False, False, False, False, False, False, False, False, False, False,\n",
       "        False, False, False, False, False, False, False, False, False, False,\n",
       "        False, False, False, False, False, False, False, False, False, False])"
      ]
     },
     "execution_count": 9,
     "metadata": {},
     "output_type": "execute_result"
    }
   ],
   "source": [
    "env.agent_mask"
   ]
  },
  {
   "cell_type": "code",
   "execution_count": null,
   "metadata": {},
   "outputs": [],
   "source": []
  },
  {
   "cell_type": "code",
   "execution_count": null,
   "metadata": {},
   "outputs": [],
   "source": []
  },
  {
   "cell_type": "code",
   "execution_count": null,
   "metadata": {},
   "outputs": [],
   "source": []
  },
  {
   "cell_type": "code",
   "execution_count": null,
   "metadata": {},
   "outputs": [],
   "source": []
  },
  {
   "cell_type": "code",
   "execution_count": null,
   "metadata": {},
   "outputs": [],
   "source": []
  },
  {
   "cell_type": "code",
   "execution_count": null,
   "metadata": {},
   "outputs": [],
   "source": []
  },
  {
   "cell_type": "code",
   "execution_count": null,
   "metadata": {},
   "outputs": [],
   "source": []
  },
  {
   "cell_type": "code",
   "execution_count": null,
   "metadata": {},
   "outputs": [],
   "source": []
  },
  {
   "cell_type": "code",
   "execution_count": null,
   "metadata": {},
   "outputs": [],
   "source": []
  },
  {
   "cell_type": "code",
   "execution_count": null,
   "metadata": {},
   "outputs": [],
   "source": []
  },
  {
   "cell_type": "code",
   "execution_count": 1,
   "metadata": {},
   "outputs": [],
   "source": [
    "from env import MultiAgentHighwayEnv  # adjust if in same file\n",
    "import torch"
   ]
  },
  {
   "cell_type": "code",
   "execution_count": 57,
   "metadata": {},
   "outputs": [],
   "source": [
    "# Initialize environment\n",
    "env = MultiAgentHighwayEnv(dt=0.2)\n"
   ]
  },
  {
   "cell_type": "code",
   "execution_count": 58,
   "metadata": {},
   "outputs": [
    {
     "data": {
      "image/png": "[encoded data removed]",
      "text/plain": [
       "<Figure size 1200x600 with 1 Axes>"
      ]
     },
     "metadata": {},
     "output_type": "display_data"
    }
   ],
   "source": [
    "env = MultiAgentHighwayEnv()\n",
    "obs, info = env.reset()\n",
    "env.render()"
   ]
  },
  {
   "cell_type": "code",
   "execution_count": 102,
   "metadata": {},
   "outputs": [
    {
     "data": {
      "image/png": "[encoded data removed]",
      "text/plain": [
       "<Figure size 1200x600 with 1 Axes>"
      ]
     },
     "metadata": {},
     "output_type": "display_data"
    }
   ],
   "source": [
    "actions = [torch.randn(env.T_prime, 2) for _ in env.action_buffers]\n",
    "obs, rewards, dones, infos = env.step(actions)\n",
    "env.render()\n",
    "\n"
   ]
  },
  {
   "cell_type": "code",
   "execution_count": 26,
   "metadata": {},
   "outputs": [
    {
     "data": {
      "text/plain": [
       "[tensor([[ 0.4732,  0.9310],\n",
       "         [ 0.6433,  0.1576],\n",
       "         [ 1.4890, -0.1784],\n",
       "         [ 0.1631, -1.0198],\n",
       "         [-0.8230, -0.1053]]),\n",
       " tensor([[-1.0888, -1.4147],\n",
       "         [ 1.2990, -0.3433],\n",
       "         [ 1.7159,  0.5807],\n",
       "         [-1.6898, -0.4576],\n",
       "         [-0.1072, -0.3186]]),\n",
       " tensor([[ 0.1749,  0.1477],\n",
       "         [-0.1293,  0.0134],\n",
       "         [ 1.0926,  0.6587],\n",
       "         [-0.2755,  0.5467],\n",
       "         [-0.0320, -0.8149]]),\n",
       " tensor([[-0.8804,  0.9187],\n",
       "         [ 1.0990, -0.0484],\n",
       "         [ 0.6742, -0.4954],\n",
       "         [-0.3304,  0.8232],\n",
       "         [-1.6462,  0.8743]]),\n",
       " tensor([[-1.1382, -0.4010],\n",
       "         [ 1.8606, -1.4020],\n",
       "         [-1.0849,  0.5183],\n",
       "         [-0.6433,  0.6027],\n",
       "         [-1.3437, -0.6037]])]"
      ]
     },
     "execution_count": 26,
     "metadata": {},
     "output_type": "execute_result"
    }
   ],
   "source": [
    "actions"
   ]
  },
  {
   "cell_type": "code",
   "execution_count": null,
   "metadata": {},
   "outputs": [],
   "source": []
  }
 ],
 "metadata": {
  "kernelspec": {
   "display_name": "deep",
   "language": "python",
   "name": "python3"
  },
  "language_info": {
   "codemirror_mode": {
    "name": "ipython",
    "version": 3
   },
   "file_extension": ".py",
   "mimetype": "text/x-python",
   "name": "python",
   "nbconvert_exporter": "python",
   "pygments_lexer": "ipython3",
   "version": "3.12.2"
  }
 },
 "nbformat": 4,
 "nbformat_minor": 2
}
